{
 "cells": [
  {
   "cell_type": "markdown",
   "metadata": {},
   "source": [
    "# HW 5 - Page Rank\n",
    "__`MIDS w261: Machine Learning at Scale | UC Berkeley School of Information | Fall 2018`__\n",
    "\n",
    "In Weeks 8 and 9 you discussed key concepts related to graph based algorithms and implemented SSSP.   \n",
    "In this final homework assignment you'll implement distributed PageRank using some data from Wikipedia.\n",
    "By the end of this homework you should be able to:  \n",
    "* ... __compare/contrast__ adjacency matrices and lists as representations of graphs for parallel computation.\n",
    "* ... __explain__ the goal of the PageRank algorithm using the concept of an infinite Random Walk.\n",
    "* ... __define__ a Markov chain including the conditions underwhich it will converge.\n",
    "* ... __identify__ what modifications must be made to the web graph inorder to leverage Markov Chains.\n",
    "* ... __implement__ distributed PageRank in Spark.\n",
    "\n",
    "__Please refer to the `README` for homework submission instructions and additional resources.__ "
   ]
  },
  {
   "cell_type": "markdown",
   "metadata": {},
   "source": [
    "# Notebook Set-Up\n",
    "Before starting your homework run the following cells to confirm your setup."
   ]
  },
  {
   "cell_type": "code",
   "execution_count": 2,
   "metadata": {},
   "outputs": [],
   "source": [
    "# imports\n",
    "import re\n",
    "import ast\n",
    "import time\n",
    "import numpy as np\n",
    "import pandas as pd\n",
    "import seaborn as sns\n",
    "import networkx as nx\n",
    "import matplotlib.pyplot as plt"
   ]
  },
  {
   "cell_type": "code",
   "execution_count": 3,
   "metadata": {},
   "outputs": [],
   "source": [
    "%reload_ext autoreload\n",
    "%autoreload 2"
   ]
  },
  {
   "cell_type": "code",
   "execution_count": 4,
   "metadata": {},
   "outputs": [],
   "source": [
    "# store path to notebook\n",
    "PWD = !pwd\n",
    "PWD = PWD[0]"
   ]
  },
  {
   "cell_type": "code",
   "execution_count": 5,
   "metadata": {},
   "outputs": [],
   "source": [
    "# start Spark Session\n",
    "from pyspark.sql import SparkSession\n",
    "app_name = \"hw5_notebook\"\n",
    "master = \"local[*]\"\n",
    "spark = SparkSession\\\n",
    "        .builder\\\n",
    "        .appName(app_name)\\\n",
    "        .master(master)\\\n",
    "        .getOrCreate()\n",
    "sc = spark.sparkContext"
   ]
  },
  {
   "cell_type": "code",
   "execution_count": 6,
   "metadata": {},
   "outputs": [
    {
     "data": {
      "text/html": [
       "\n",
       "            <div>\n",
       "                <p><b>SparkSession - in-memory</b></p>\n",
       "                \n",
       "        <div>\n",
       "            <p><b>SparkContext</b></p>\n",
       "\n",
       "            <p><a href=\"http://docker.w261:4040\">Spark UI</a></p>\n",
       "\n",
       "            <dl>\n",
       "              <dt>Version</dt>\n",
       "                <dd><code>v2.3.1</code></dd>\n",
       "              <dt>Master</dt>\n",
       "                <dd><code>local[*]</code></dd>\n",
       "              <dt>AppName</dt>\n",
       "                <dd><code>hw5_notebook</code></dd>\n",
       "            </dl>\n",
       "        </div>\n",
       "        \n",
       "            </div>\n",
       "        "
      ],
      "text/plain": [
       "<pyspark.sql.session.SparkSession at 0x7ffb5859b978>"
      ]
     },
     "execution_count": 6,
     "metadata": {},
     "output_type": "execute_result"
    }
   ],
   "source": [
    "spark"
   ]
  },
  {
   "cell_type": "code",
   "execution_count": 7,
   "metadata": {},
   "outputs": [],
   "source": [
    "sc = spark.sparkContext"
   ]
  },
  {
   "cell_type": "markdown",
   "metadata": {},
   "source": [
    "__`REMINDER`__: If you are running this notebook on the course docker container, you can monitor the progress of your jobs using the Spark UI at: http://localhost:4040/jobs/"
   ]
  },
  {
   "cell_type": "markdown",
   "metadata": {},
   "source": [
    "# Question 1: Distributed Graph Processing\n",
    "Chapter 5 from Lin & Dyer gave you a high level introduction to graph algorithms and concernts that come up when trying to perform distributed computations over them. The questions below are designed to make sure you captured the key points from this reading and your async lectures. \n",
    "\n",
    "### Q1 Tasks:\n",
    "\n",
    "* __a) short response:__ Give an example of a dataset that would be appropriate to represent as a graph. What are the nodes/edges in this dataset? Is the graph you describe 'directed' or 'undirected'? What would the average \"in-degree\" of a node mean in the context of your example? \n",
    "\n",
    "* __b) short response:__ Other than their size/scale, what makes graphs uniquely challenging to work with in the map-reduce paradigm? *(__HINT__: Do not respond in terms of any specific algorithm. Think in terms of the nature of the graph datastructure itself).*\n",
    "\n",
    "* __c) short response:__ Briefly describe Dijskra's algorithm (goal/approach). What specific design component makes this approach hard to parallelize?\n",
    "\n",
    "* __d) short response:__ How does parallel breadth-first-search get around the problem that you identified in part `c`? At what expense?"
   ]
  },
  {
   "cell_type": "markdown",
   "metadata": {},
   "source": [
    "### Q1 Student Answers:\n",
    "> __a)__  \n",
    "> The people on Instagram and the following statuses can be represented as a graph. In this case, each person could be a node and an edge can mean the following status between two people.  \n",
    "> Since following status is directed, that is: Person A following person B does not required person B following person A. Therefore, it the graph would be directed.  \n",
    "> If we define when A -> B as person A following person B, then the average \"in-dgree\" of a node means the average number of followers each person has in our graph. \n",
    "\n",
    "> __b)__  Under MapReduce, when mappers are computing, they are not aware of the work of the other mappers' and we can't control the order of the execution of map tasks. This property makes graph algorithm challenging to work with because traversing the graph and update the results from traversing the graph is by nature a sequential process. When we can't share the progress of the mappers with other mappers in the same job, this means we will have to program our algorithm is a different way.\n",
    "\n",
    "> __c)__  \n",
    "> The goal of Dijkstra's algorithm is to calculate the shortest path to any given node in the graph from a selected source node. It's approach is to start from the source node and look at all the reachable nodes from the nodes it has traversed and visit the nearest new node that has not been visited yet. This approach guarantees that whenever a node is visted, it is via the shorted path from the source node and the distance (and/or the path) is recorded.\n",
    "> In order to use the above approach, there has to be shared information about which nodes have been visted and the distance to them. However, this shared information makes hard for it to be implemented in MapReduce because it involves sharing information between mappers in the same job.\n",
    "\n",
    "> __d)__  \n",
    "> The brute force search was used to get around the problem of sharing information. At every iteration, every node that could potentially produce shortest distances to other nodes in the graph is examined and the distances to its adjacent nodes calculated based on its current distance to the source node. Then in the reduce phase, the shorted distance to a node from the source is updated if a new shorter path is found.  \n",
    "> \n",
    "> The drawback of the brute force search arises from the fact that we don't have the guarantee when a node is visited, we've found the shortest path. This fact not only makes detecting convergence more difficult, but also potentially increase the total number of iteration we need to run and number of nodes to examine in each iteration. In brute force search, we traverse a new node right next to our frontier, and we are not sure whether there is a shorter path that requires visiting more nodes to discover. If a shorter path is discovered later, we need to recaculated at least the distance to all its immediate nodes if not more (we need to calculate more if a shortest path to a immediate node is discovered, so on and so forth, potentially until we eventually arrive at the farthest node from the source)."
   ]
  },
  {
   "cell_type": "markdown",
   "metadata": {},
   "source": [
    "# Question 2: Representing Graphs \n",
    "\n",
    "In class you saw examples of adjacency matrix and adjacency list representations of graphs. These data structures were probably familiar from HW3, though we hadn't before talked about them in the context of graphs. In this question we'll discuss some of the tradeoffs associated with these representations. __`NOTE:`__ We'll use the graph from Figure 5.1 in Lin & Dyer as a toy example. For convenience in the code below we'll label the nodes `A`, `B`, `C`, `D`, and `E` instead of $n_1$, $n_2$, etc but otherwise you should be able to follow along & check our answers against those in the text.\n",
    "\n",
    "\n",
    "<img src=\"Lin-Dyer-graph-Q1.png\" width=\"70%\">\n",
    "\n",
    "### Q2 Tasks:\n",
    "\n",
    "* __a) short response:__ Relatively speaking, is the graph you described in Figure 5.1 in Lin & Dyer \"sparse\" or \"dense\"?  Explain how sparsity/density impacts the adjacency matrix and adjacency list representations of a graph.\n",
    "\n",
    "* __b) short response:__ Run the provided code to create and plot our toy graph. Is this graph directed or undirected? Explain how the adjacency matrices for directed graphs will differ from those of undirected graphs.\n",
    "\n",
    "* __c) code:__ Fill in the missing code to complete the function `get_adj_matr()`.\n",
    "\n",
    "* __d) code:__ Fill in the missing code to complete the function `get_adj_list()`.\n"
   ]
  },
  {
   "cell_type": "markdown",
   "metadata": {},
   "source": [
    "### Q2 Student Answers:\n",
    "> __a)__\n",
    "> It's more on the sparse side since there could be potentially a total of 25 edges (self-loops included, 20 when self-loops exluded), but in the graph there are only 9 edges.  \n",
    "> The sparser the graph, the more wasteful from space perspective to represent the graph as an adjacency matrix since we just have a lot of zeros which is the space we can save from representing the same graph as an adjacency list.\n",
    "\n",
    "> __b)__   \n",
    "> It is directed  \n",
    "> The matrices for directed graph is not symmetrical and this is a reflection of the asymmetry of the relationships between nodes. However, since in undirected graph, the relationships between any two nodes are mutual, we don't need the entire matrix to represent the graph. The space efficient way is to use only the upper triangle to represnet the graph since it would just be symmetrical along the diagonal (upper left to bottom right) if we decided to fill out the entire matrix.\n",
    "\n"
   ]
  },
  {
   "cell_type": "code",
   "execution_count": 15,
   "metadata": {},
   "outputs": [],
   "source": [
    "# part a - a graph is just a list of nodes and edges (RUN THIS CELL AS IS)\n",
    "TOY_GRAPH = {'nodes':['A', 'B', 'C', 'D', 'E'],\n",
    "             'edges':[('A', 'B'), ('A', 'D'), ('B', 'C'), ('B', 'E'), ('C', 'D'), \n",
    "                      ('D', 'E'), ('E', 'A'),('E', 'B'), ('E', 'C')]}"
   ]
  },
  {
   "cell_type": "code",
   "execution_count": 16,
   "metadata": {},
   "outputs": [
    {
     "data": {
      "image/png": "[encoded data removed]",
      "text/plain": [
       "<Figure size 432x288 with 1 Axes>"
      ]
     },
     "metadata": {},
     "output_type": "display_data"
    }
   ],
   "source": [
    "# part a - simple visualization of our toy graph using nx (RUN THIS CELL AS IS)\n",
    "G = nx.DiGraph()\n",
    "G.add_nodes_from(TOY_GRAPH['nodes'])\n",
    "G.add_edges_from(TOY_GRAPH['edges'])\n",
    "nx.draw(G, pos=nx.circular_layout(G), with_labels=True, alpha = 0.5)"
   ]
  },
  {
   "cell_type": "code",
   "execution_count": 17,
   "metadata": {},
   "outputs": [],
   "source": [
    "# part c - adjacency matrix function\n",
    "def get_adj_matr(graph):\n",
    "    \"\"\"\n",
    "    Function to create an adjacency matrix representation of a graph.\n",
    "    arg:\n",
    "        graph - (dict) of 'nodes' : [], 'edges' : []\n",
    "    returns:\n",
    "        pd.DataFrame with entry i,j representing an edge from node i to node j\n",
    "    \"\"\"\n",
    "    n = len(graph['nodes'])\n",
    "    adj_matr = pd.DataFrame(0, columns = graph['nodes'], index = graph['nodes'])\n",
    "    ############### YOUR CODE HERE ##################\n",
    "    for source, dest in graph['edges']:\n",
    "        adj_matr.loc[source,dest] = 1\n",
    "    ############### (END) YOUR CODE #################\n",
    "    return adj_matr"
   ]
  },
  {
   "cell_type": "code",
   "execution_count": 18,
   "metadata": {},
   "outputs": [
    {
     "name": "stdout",
     "output_type": "stream",
     "text": [
      "   A  B  C  D  E\n",
      "A  0  1  0  1  0\n",
      "B  0  0  1  0  1\n",
      "C  0  0  0  1  0\n",
      "D  0  0  0  0  1\n",
      "E  1  1  1  0  0\n"
     ]
    }
   ],
   "source": [
    "# part c - take a look (RUN THIS CELL AS IS)\n",
    "TOY_ADJ_MATR = get_adj_matr(TOY_GRAPH)\n",
    "print(TOY_ADJ_MATR)"
   ]
  },
  {
   "cell_type": "code",
   "execution_count": 19,
   "metadata": {},
   "outputs": [],
   "source": [
    "# part d - adjacency list function\n",
    "def get_adj_list(graph):\n",
    "    \"\"\"\n",
    "    Function to create an adjacency list representation of a graph.\n",
    "    arg:\n",
    "        graph - (dict) of 'nodes' : [], 'edges' : []\n",
    "    returns:\n",
    "        dictionary of the form {node : [list of edges]}\n",
    "    \"\"\"\n",
    "    adj_list = {node: [] for node in graph['nodes']}\n",
    "    ############### YOUR CODE HERE ##################\n",
    "    for source, dest in graph['edges']:\n",
    "        adj_list[source].append(dest)\n",
    "    ############### (END) YOUR CODE #################\n",
    "    return adj_list"
   ]
  },
  {
   "cell_type": "code",
   "execution_count": 20,
   "metadata": {},
   "outputs": [
    {
     "name": "stdout",
     "output_type": "stream",
     "text": [
      "{'A': ['B', 'D'], 'B': ['C', 'E'], 'C': ['D'], 'D': ['E'], 'E': ['A', 'B', 'C']}\n"
     ]
    }
   ],
   "source": [
    "# part d - take a look (RUN THIS CELL AS IS)\n",
    "TOY_ADJ_LIST = get_adj_list(TOY_GRAPH)\n",
    "print(TOY_ADJ_LIST)"
   ]
  },
  {
   "cell_type": "markdown",
   "metadata": {},
   "source": [
    "# Question 3: Markov Chains and Random Walks\n",
    "\n",
    "As you know from your readings and in class discussions, the PageRank algorithm takes advantage of the machinery of Markov Chains to compute the relative importance of a webpage using the hyperlink structure of the web (we'll refer to this as the 'web-graph'). A Markov Chain is a discrete-time stochastic process. The stochastic matrix has a principal left eigen vector corresponding to its largest eigen value which is one. A Markov chain's probability distribution over its states may be viewed as a probability vector. This steady state probability for a state is the PageRank of the corresponding webpage. In this question we'll briefly discuss a few concepts that are key to understanding the math behind PageRank. \n",
    "\n",
    "### Q3 Tasks:\n",
    "\n",
    "* __a) short response:__ It is common to explain PageRank using the analogy of a web surfer who clicks on links at random ad infinitum. In the context of this hypothetical infinite random walk, what does the PageRank metric measure/represent?\n",
    "\n",
    "* __b) short response:__ What is the \"Markov Property\" and what does it mean in the context of PageRank?\n",
    "\n",
    "* __c) short response:__ A Markov chain consists of $n$ states plus an $n\\times n$ transition probability matrix. In the context of PageRank & a random walk over the WebGraph what are the $n$ states? what implications does this have about the size of the transition matrix?\n",
    "\n",
    "* __d) code + short response:__ What is a \"right stochastic matrix\"? Fill in the code below to compute the transition matrix for the toy graph from question 2. [__`HINT:`__ _It should be right stochastic. Using numpy this calculation can be done in one line of code._]\n",
    "\n",
    "* __e) code + short response:__ To compute the stable state distribution (i.e. PageRank) of a \"nice\" graph we can apply the power iteration method - repeatedly multiplying the transition matrix by itself, until the values no longer change. Apply this strategy to your transition matrix from `part d` to find the PageRank for each of the pages in your toy graph. Your code should print the results of each iteration. How many iterations does it take to converge? Which node is most 'central' (i.e. highest ranked)? Does this match your intuition? \n",
    "    * __`NOTE 1:`__ _this is a naive approach, we'll unpack what it means to be \"nice\" in the next question_.\n",
    "    * __`NOTE 2:`__ _no need to implement a stopping criteria, visual inspection should suffice_."
   ]
  },
  {
   "cell_type": "markdown",
   "metadata": {},
   "source": [
    "### Q3 Student Answers:\n",
    "> __a)__  The probability of a web surfer visiting the a page at each moment. Or, Over a long time, the mean amount of time over the total time passed that a random web surfer spends visiting a given page.   \n",
    "> _Source: Async Video: 9.5 Random Walk as a Markov Chain_\n",
    "\n",
    "> __b)__  It means that each probability vector of PageRank only depends on the probability vector from the last state not on the states before it. Therefore, we only need the probability vector from the last state and the transition matrix to calculate the current probability vector.  \n",
    "> _Source: Async Video: 9.5 Random Walk as a Markov Chain_\n",
    "\n",
    "> __c)__  \n",
    ">The interpretation of n states in the context of PageRank & a random walk over the WebGraph means the n webpages (nodes) we have in our web graph.  \n",
    ">The size of the transition matrix is determined by the number of states in a way that we will have a transition matrix that has the same number of column and row as the number of states we have.  \n",
    "> _Source: Async Video: 9.5 Random Walk as a Markov Chain_\n",
    "\n",
    "> __d)__ A right stochastic matrix is a square matrix of nonnegative real numbers, with each row summing to 1.   \n",
    "> _Source: Async Video: 9.5 Random Walk as a Markov Chain_\n",
    "\n",
    "> __e)__\n",
    "> It takes 49 multiplications of the transition matrix on the initial state to reach the steady state probabilities.\n",
    "> Node E is the most central, having the highest score.\n",
    "> It seems to match my intuition since it's the most well-connected node."
   ]
  },
  {
   "cell_type": "code",
   "execution_count": 13,
   "metadata": {},
   "outputs": [
    {
     "data": {
      "text/html": [
       "<div>\n",
       "<style scoped>\n",
       "    .dataframe tbody tr th:only-of-type {\n",
       "        vertical-align: middle;\n",
       "    }\n",
       "\n",
       "    .dataframe tbody tr th {\n",
       "        vertical-align: top;\n",
       "    }\n",
       "\n",
       "    .dataframe thead th {\n",
       "        text-align: right;\n",
       "    }\n",
       "</style>\n",
       "<table border=\"1\" class=\"dataframe\">\n",
       "  <thead>\n",
       "    <tr style=\"text-align: right;\">\n",
       "      <th></th>\n",
       "      <th>A</th>\n",
       "      <th>B</th>\n",
       "      <th>C</th>\n",
       "      <th>D</th>\n",
       "      <th>E</th>\n",
       "    </tr>\n",
       "  </thead>\n",
       "  <tbody>\n",
       "    <tr>\n",
       "      <th>A</th>\n",
       "      <td>0</td>\n",
       "      <td>1</td>\n",
       "      <td>0</td>\n",
       "      <td>1</td>\n",
       "      <td>0</td>\n",
       "    </tr>\n",
       "    <tr>\n",
       "      <th>B</th>\n",
       "      <td>0</td>\n",
       "      <td>0</td>\n",
       "      <td>1</td>\n",
       "      <td>0</td>\n",
       "      <td>1</td>\n",
       "    </tr>\n",
       "    <tr>\n",
       "      <th>C</th>\n",
       "      <td>0</td>\n",
       "      <td>0</td>\n",
       "      <td>0</td>\n",
       "      <td>1</td>\n",
       "      <td>0</td>\n",
       "    </tr>\n",
       "    <tr>\n",
       "      <th>D</th>\n",
       "      <td>0</td>\n",
       "      <td>0</td>\n",
       "      <td>0</td>\n",
       "      <td>0</td>\n",
       "      <td>1</td>\n",
       "    </tr>\n",
       "    <tr>\n",
       "      <th>E</th>\n",
       "      <td>1</td>\n",
       "      <td>1</td>\n",
       "      <td>1</td>\n",
       "      <td>0</td>\n",
       "      <td>0</td>\n",
       "    </tr>\n",
       "  </tbody>\n",
       "</table>\n",
       "</div>"
      ],
      "text/plain": [
       "   A  B  C  D  E\n",
       "A  0  1  0  1  0\n",
       "B  0  0  1  0  1\n",
       "C  0  0  0  1  0\n",
       "D  0  0  0  0  1\n",
       "E  1  1  1  0  0"
      ]
     },
     "execution_count": 13,
     "metadata": {},
     "output_type": "execute_result"
    }
   ],
   "source": [
    "# part d - recall what the adjacency matrix looked like (RUN THIS CELL AS IS)\n",
    "TOY_ADJ_MATR"
   ]
  },
  {
   "cell_type": "code",
   "execution_count": 21,
   "metadata": {},
   "outputs": [
    {
     "name": "stdout",
     "output_type": "stream",
     "text": [
      "          A         B         C    D    E\n",
      "A  0.000000  0.500000  0.000000  0.5  0.0\n",
      "B  0.000000  0.000000  0.500000  0.0  0.5\n",
      "C  0.000000  0.000000  0.000000  1.0  0.0\n",
      "D  0.000000  0.000000  0.000000  0.0  1.0\n",
      "E  0.333333  0.333333  0.333333  0.0  0.0\n"
     ]
    }
   ],
   "source": [
    "# part d - use TOY_ADJ_MATR to create a right stochastic transition matrix for this graph\n",
    "################ YOUR CODE HERE #################\n",
    "transition_matrix = TOY_ADJ_MATR.div(np.sum(TOY_ADJ_MATR, axis=1), axis=0) # replace with your code\n",
    "\n",
    "################ (END) YOUR CODE #################\n",
    "print(transition_matrix)"
   ]
  },
  {
   "cell_type": "code",
   "execution_count": 22,
   "metadata": {},
   "outputs": [],
   "source": [
    "# part e - compute the steady state using the transition matrix \n",
    "def power_iteration(xInit, tMatrix, nIter, verbose = True):\n",
    "    \"\"\"\n",
    "    Function to perform the specified number of power iteration steps to \n",
    "    compute the steady state probability distribution for the given\n",
    "    transition matrix.\n",
    "    \n",
    "    Args:\n",
    "        xInit     - (n x 1 array) representing inial state\n",
    "        tMatrix  - (n x n array) transition probabilities\n",
    "        nIter     - (int) number of iterations\n",
    "    Returns:\n",
    "        state_vector - (n x 1 array) representing probability \n",
    "                        distribution over states after nSteps.\n",
    "    \n",
    "    NOTE: if the 'verbose' flag is on, your function should print the step\n",
    "    number and the current matrix at each iteration.\n",
    "    \"\"\"\n",
    "    state_vector = None\n",
    "    ################ YOUR CODE HERE #################\n",
    "    for state_num in range(nIter+1):\n",
    "        if state_num == 0:\n",
    "            state_vector = xInit\n",
    "        else:\n",
    "            state_vector = state_vector.dot(tMatrix)\n",
    "        \n",
    "        print(f'State {state_num}: {state_vector}')\n",
    "    \n",
    "    ################ (END) YOUR CODE #################\n",
    "    return state_vector"
   ]
  },
  {
   "cell_type": "code",
   "execution_count": 23,
   "metadata": {},
   "outputs": [
    {
     "name": "stdout",
     "output_type": "stream",
     "text": [
      "State 0: [1. 0. 0. 0. 0.]\n",
      "State 1: [0.  0.5 0.  0.5 0. ]\n",
      "State 2: [0.   0.   0.25 0.   0.75]\n",
      "State 3: [0.25 0.25 0.25 0.25 0.  ]\n",
      "State 4: [0.    0.125 0.125 0.375 0.375]\n",
      "State 5: [0.125  0.125  0.1875 0.125  0.4375]\n",
      "State 6: [0.14583333 0.20833333 0.20833333 0.25       0.1875    ]\n",
      "State 7: [0.0625     0.13541667 0.16666667 0.28125    0.35416667]\n",
      "State 8: [0.11805556 0.14930556 0.18576389 0.19791667 0.34895833]\n",
      "State 9: [0.11631944 0.17534722 0.19097222 0.24479167 0.27256944]\n",
      "State 10: [0.09085648 0.1490162  0.17853009 0.24913194 0.33246528]\n"
     ]
    }
   ],
   "source": [
    "# part e - run 10 steps of the power_iteration (RUN THIS CELL AS IS)\n",
    "xInit = np.array([1.0, 0, 0, 0, 0]) # note that this initial state will not affect the convergence states\n",
    "states = power_iteration(xInit, transition_matrix, 10, verbose = True)"
   ]
  },
  {
   "cell_type": "markdown",
   "metadata": {},
   "source": [
    "__`Expected Output for part e:`__  \n",
    ">Steady State Probabilities:\n",
    "```\n",
    "Node A: 0.10526316  \n",
    "Node B: 0.15789474  \n",
    "Node C: 0.18421053  \n",
    "Node D: 0.23684211  \n",
    "Node E: 0.31578947  \n",
    "```"
   ]
  },
  {
   "cell_type": "markdown",
   "metadata": {},
   "source": [
    "# Question 4: Page Rank Theory\n",
    "\n",
    "Seems easy right? Unfortunately applying this power iteration method directly to the web-graph actually runs into a few problems. In this question we'll tease apart what we meant by a 'nice graph' in Question 3 and highlight key modifications we'll have to make to the web-graph when performing PageRank. To start, we'll look at what goes wrong when we try to repeat our strategy from question 3 on a 'not nice' graph.\n",
    "\n",
    "__`Additional References:`__ http://pi.math.cornell.edu/~mec/Winter2009/RalucaRemus/Lecture3/lecture3.html\n",
    "\n",
    "### Q4 Tasks:\n",
    "\n",
    "* __a) code + short response:__ Run the provided code to create and plot our 'not nice' graph. Fill in the missing code to compute its transition matrix & run the power iteration method from question 3. What is wrong with what you see? [__`HINT:`__ _there is a visible underlying reason that it isn't converging... try adding up the probabilities in the state vector after each iteration._]\n",
    "\n",
    "* __b) short response:__  Identify the dangling node in this 'not nice' graph and explain how this node causes the problem you described in 'a'. How could we modify the transition matrix after each iteration to prevent this problem?\n",
    "\n",
    "* __c) short response:__ What does it mean for a graph to be irreducible? Is the webgraph naturally irreducible? Explain your reasoning briefly.\n",
    "\n",
    "* __d) short response:__ What does it mean for a graph to be aperiodic? Is the webgraph naturally aperiodic? Explain your reasoning briefly.\n",
    "\n",
    "* __e) short response:__ What modification to the webgraph does PageRank make in order to guarantee aperiodicity and irreducibility? Interpret this modification in terms of our random surfer analogy.\n"
   ]
  },
  {
   "cell_type": "markdown",
   "metadata": {},
   "source": [
    "### Q4 Student Answers:\n",
    "> __a)__ The sum of the probabilities is not equal to one starting the second iteration. We are losing probability as we iterate by multiplying the transition matrix.  \n",
    "\n",
    "> __b)__ The problem in a) is caused by the dangling node, E which doesn't have any outgoing edge. It takes in probabilities but never redistributes them to other nodes. We could modify the transition matrix by having E distribute it's probability equally among all the nodes (meaning the surfer will randomly go to one of the webpages (including staying at the current page) when reaching a dead end).\n",
    "\n",
    "> __c)__ A graph is irreducible when every node can be visited starting from any other nodes in the graph. As long as there exists one dangling node, we can't get to other nodes from the dangling node. It's not hard to imaging a dangling node in a webgraph which is equivalent to a webpage having no outgoing link. Therefore, the webgraph is not naturally irreducible.  \n",
    "> _Source: Async Video: 9.5 Random Walk as a Markov Chain_\n",
    "\n",
    "> __d)__  \n",
    "> A graph is aperiodic if there is no integer k > 1 that divides the length of every cycle of the graph.  \n",
    "> _Source: https://en.wikipedia.org/wiki/Aperiodic_graph_  \n",
    "> The condition is satisfied when there is at least one node with a self-pointing edge in the graph. Having one page with a link to itself is probably quite common on the Internet. However, depending on the dataset with are working with, sometimes it might not be guaranteed that such self-loop exists.\n",
    "\n",
    "> __e)__  \n",
    "We will need a modification on the webgraph to make sure there is no dangling nodes and the existence of some self-loop.  \n",
    "> First, we modify the transition matrix $\\boldsymbol{A}$, so all the dangling nodes (originally having all zeros in their rows), to having $\\frac{1}{n}, \\ n\\ =\\ the\\ number\\ of\\ nodes$.  \n",
    "Then in PageRank, a fixed probability, $p$ between 0 and 1 is put in place and the transition matrix, $\\boldsymbol{A}$ was modified to $\\boldsymbol{A'}$, where $$\\boldsymbol{A'} = (1-p)\\cdot\\boldsymbol{A} + p \\cdot B, where\\ B = \\frac{1}{n}\\cdot\\begin{bmatrix}1 & 1 & \\cdots & 1\\\\\n",
    "\\vdots & \\vdots & \\ddots & \\vdots \\\\\n",
    "1 & 1 & \\cdots & 1\n",
    "\\end{bmatrix},\\ n\\ =\\ the\\ number\\ of\\ nodes$$ \n",
    "> These two modifications guarantee that none of the rows are zero (solves the dangling node issue) and also ensure aperiodicity because all the nodes now has at least a self-loop with a very small weight equal to $p\\cdot\\frac{1}{n}$.  \n",
    "> The interpretation of the modification from a random surfer point of view is that whenever a surfer is done with a page and about to move to the next one, there is always a small probability that they will go(teleport) to any of the pages on the Web.   \n",
    "> Source: http://pi.math.cornell.edu/~mec/Winter2009/RalucaRemus/Lecture3/lecture3.html\n"
   ]
  },
  {
   "cell_type": "code",
   "execution_count": 28,
   "metadata": {},
   "outputs": [],
   "source": [
    "# part a - run this code to create a second toy graph (RUN THIS CELL AS IS)\n",
    "TOY2_GRAPH = {'nodes':['A', 'B', 'C', 'D', 'E'],\n",
    "              'edges':[('A', 'B'), ('A', 'C'), ('A', 'D'), ('B', 'D'), \n",
    "                       ('B', 'E'), ('C', 'A'), ('C', 'E'), ('D', 'B')]}"
   ]
  },
  {
   "cell_type": "code",
   "execution_count": 29,
   "metadata": {},
   "outputs": [
    {
     "data": {
      "image/png": "[encoded data removed]",
      "text/plain": [
       "<Figure size 432x288 with 1 Axes>"
      ]
     },
     "metadata": {},
     "output_type": "display_data"
    }
   ],
   "source": [
    "# part a - simple visualization of our test graph using nx (RUN THIS CELL AS IS)\n",
    "G = nx.DiGraph()\n",
    "G.add_nodes_from(TOY2_GRAPH['nodes'])\n",
    "G.add_edges_from(TOY2_GRAPH['edges'])\n",
    "nx.draw(G, pos=nx.circular_layout(G), with_labels=True, alpha = 0.5)"
   ]
  },
  {
   "cell_type": "code",
   "execution_count": 30,
   "metadata": {},
   "outputs": [
    {
     "name": "stdout",
     "output_type": "stream",
     "text": [
      "State 0: [1. 0. 0. 0. 0.]\n",
      "State 1: [0.         0.33333333 0.33333333 0.33333333 0.        ]\n",
      "State 2: [0.16666667 0.33333333 0.         0.16666667 0.33333333]\n",
      "State 3: [0.         0.22222222 0.05555556 0.22222222 0.16666667]\n",
      "State 4: [0.02777778 0.22222222 0.         0.11111111 0.13888889]\n",
      "State 5: [0.         0.12037037 0.00925926 0.12037037 0.11111111]\n",
      "State 6: [0.00462963 0.12037037 0.         0.06018519 0.06481481]\n",
      "State 7: [0.         0.0617284  0.00154321 0.0617284  0.06018519]\n",
      "State 8: [0.0007716 0.0617284 0.        0.0308642 0.0316358]\n",
      "State 9: [0.        0.0311214 0.0002572 0.0311214 0.0308642]\n",
      "State 10: [0.0001286 0.0311214 0.        0.0155607 0.0156893]\n"
     ]
    }
   ],
   "source": [
    "# part a - run 10 steps of the power iteration method here\n",
    "# HINT: feel free to use the functions get_adj_matr() and power_iteration() you wrote above\n",
    "################ YOUR CODE HERE #################\n",
    "\n",
    "TOY2_ADJ_MATR = get_adj_matr(TOY2_GRAPH)\n",
    "transition_matrix = TOY2_ADJ_MATR.div(np.sum(TOY2_ADJ_MATR, axis=1), axis=0).fillna(0)\n",
    "\n",
    "xInit = np.array([1.0, 0, 0, 0, 0]) # note that this initial state will not affect the convergence states\n",
    "states = power_iteration(xInit, transition_matrix, 10, verbose = True)\n",
    "\n",
    "################ (END) YOUR CODE #################"
   ]
  },
  {
   "cell_type": "markdown",
   "metadata": {},
   "source": [
    "# About the Data\n",
    "The main dataset for this data consists of a subset of a 500GB dataset released by AWS in 2009. The data includes the source and metadata for all of the Wikimedia wikis. You can read more here: \n",
    "> https://aws.amazon.com/blogs/aws/new-public-data-set-wikipedia-xml-data. \n",
    "\n",
    "As in previous homeworks we'll be using a 2GB subset of this data, which is available to you in this dropbox folder: \n",
    "> https://www.dropbox.com/sh/2c0k5adwz36lkcw/AAAAKsjQfF9uHfv-X9mCqr9wa?dl=0. \n",
    "\n",
    "Use the cells below to download the wikipedia data and a test file for use in developing your PageRank implementation(note that we'll use the 'indexed out' version of the graph) and to take \n",
    "a look at the files.  \n",
    "\n",
    "__IMPORTANT NOTE:__ For Question 8, when working with the full dataset, you will need to submit a .py script to the cluster. Please follow the instructions provided and Office Hour recordings, if you need help with this."
   ]
  },
  {
   "cell_type": "code",
   "execution_count": 28,
   "metadata": {},
   "outputs": [
    {
     "name": "stdout",
     "output_type": "stream",
     "text": [
      "mkdir: cannot create directory `data': File exists\n"
     ]
    }
   ],
   "source": [
    "# create a data directory (RUN THIS CELL AS IS)\n",
    "!mkdir data"
   ]
  },
  {
   "cell_type": "code",
   "execution_count": 29,
   "metadata": {},
   "outputs": [],
   "source": [
    "# download the test data set (RUN THIS CELL AS IS)\n",
    "# !wget -q -O data/test_graph.txt https://www.dropbox.com/sh/2c0k5adwz36lkcw/AACf_33TeM7rKfEhjEoNmMCaa/PageRank-test_indexed.txt?dl=0"
   ]
  },
  {
   "cell_type": "code",
   "execution_count": 20,
   "metadata": {},
   "outputs": [
    {
     "name": "stdout",
     "output_type": "stream",
     "text": [
      "2\t{'3': 1}\n",
      "3\t{'2': 2}\n",
      "4\t{'1': 1, '2': 1}\n",
      "5\t{'4': 3, '2': 1, '6': 1}\n",
      "6\t{'2': 1, '5': 2}\n",
      "7\t{'2': 1, '5': 1}\n",
      "8\t{'2': 1, '5': 1}\n",
      "9\t{'2': 1, '5': 1}\n",
      "10\t{'5': 1}\n",
      "11\t{'5': 2}"
     ]
    }
   ],
   "source": [
    "# take a look (RUN THIS CELL AS IS)\n",
    "!cat data/test_graph.txt"
   ]
  },
  {
   "cell_type": "code",
   "execution_count": 31,
   "metadata": {},
   "outputs": [],
   "source": [
    "# download the main data set - this may take a little time (RUN THIS CELL AS IS)\n",
    "# !wget -q -O data/wiki_graph.txt https://www.dropbox.com/sh/2c0k5adwz36lkcw/AAAD7I_6kQlJtDpXZPhCfVH-a/wikipedia/all-pages-indexed-out.txt?dl=0"
   ]
  },
  {
   "cell_type": "code",
   "execution_count": 32,
   "metadata": {},
   "outputs": [
    {
     "name": "stdout",
     "output_type": "stream",
     "text": [
      "73\t{'14417532': 1}\n",
      "299\t{'4214575': 1}\n",
      "2552\t{'15043376': 1, '13430968': 1, '13451035': 1, '7263397': 1, '13001625': 1, '13443575': 1, '13451269': 1, '13432316': 1, '11623371': 1, '15028971': 1, '13425865': 1, '15042703': 1, '5051368': 1, '9854998': 2, '13442976': 1, '13315025': 1, '2992307': 1, '1054486': 1, '1322325': 1, '13450983': 1}\n",
      "2570\t{'983991': 1}\n",
      "2616\t{'9045350': 1}\n",
      "2711\t{'752887': 1}\n",
      "2818\t{'3534183': 1}\n",
      "2847\t{'3797918': 1}\n",
      "2892\t{'2893': 1}\n",
      "2921\t{'5158607': 1, '6007184': 1, '14773825': 1, '11777840': 2, '9285165': 1, '6420484': 1, '14670682': 1, '7316613': 1, '7125893': 1, '14965920': 1, '14229952': 1, '9447742': 2, '1425342': 1, '11390944': 2, '5141': 1, '14928135': 2, '13636570': 3, '14687433': 1, '15105458': 1, '11656072': 1, '6420027': 1, '10898196': 1, '6416278': 1, '11497740': 2}\n"
     ]
    }
   ],
   "source": [
    "# take a look (RUN THIS CELL AS IS)\n",
    "!head data/wiki_graph.txt"
   ]
  },
  {
   "cell_type": "code",
   "execution_count": 33,
   "metadata": {},
   "outputs": [],
   "source": [
    "# download the indexes (RUN THIS CELL AS IS)\n",
    "# !wget -q -O data/indices.txt https://www.dropbox.com/sh/2c0k5adwz36lkcw/AADSYhyRXbgebRDy6ALl6O1ca/wikipedia/indices.txt?dl=0"
   ]
  },
  {
   "cell_type": "code",
   "execution_count": 34,
   "metadata": {},
   "outputs": [
    {
     "name": "stdout",
     "output_type": "stream",
     "text": [
      "! $var = &quot;&quot;\t1\t1\t0\n",
      "! (CONFIG.SYS directive)\t2\t1\t1\n",
      "! (album)\t3\t12\t17\n",
      "! (disambiguation)\t4\t1\t20\n",
      "! -attention-\t5\t1\t0\n",
      "! Time Zone\t6\t1\t0\n",
      "!! (chess)\t7\t0\t1\n",
      "!! (disambiguation)\t8\t3\t0\n",
      "!!! (Chk Chk Chk)\t9\t1\t0\n",
      "!!! (album)\t10\t5\t15\n"
     ]
    }
   ],
   "source": [
    "# take a look (RUN THIS CELL AS IS)\n",
    "!head data/indices.txt"
   ]
  },
  {
   "cell_type": "code",
   "execution_count": 11,
   "metadata": {},
   "outputs": [],
   "source": [
    "# load the data into Spark RDDs for convenience of use later (RUN THIS CELL AS IS)\n",
    "testRDD = sc.textFile('data/test_graph.txt')\n",
    "indexRDD = sc.textFile('data/indices.txt')\n",
    "wikiRDD = sc.textFile('data/wiki_graph.txt')"
   ]
  },
  {
   "cell_type": "markdown",
   "metadata": {},
   "source": [
    "# Question 5: EDA part 1 (number of nodes)\n",
    "\n",
    "As usual, before we dive in to the main analysis, we'll peform some exploratory data anlysis to understand our dataset. Please use the test graph that you downloaded to test all your code before running the full dataset.\n",
    "\n",
    "### Q5 Tasks:\n",
    "* __a) short response:__ In what format is the raw data? What does the first value represent? What does the second part of each line represent? [__`HINT:`__ _no need to go digging here, just visually inspect the outputs of the head commands that we ran after loading the data above._]\n",
    "\n",
    "* __b) code + short response:__ Run the provided bash command to count the number of records in the raw dataset. Explain why this is _not_ the same as the number of total nodes in the graph.\n",
    "\n",
    "* __c) code:__ In the space provided below write a Spark job to count the _total number_ of nodes in this graph. \n",
    "\n",
    "* __d) short response:__ How many dangling nodes are there in this wikipedia graph? [__`HINT:`__ _you should not need any code to answer this question._]"
   ]
  },
  {
   "cell_type": "markdown",
   "metadata": {},
   "source": [
    "### Q5 Student Answers:\n",
    "> __a)__  \n",
    "> The first value is the node ID  \n",
    "> The second value of a line is the adjacency list in the format of a dictionary with the node IDs of the connected nodes as keys and an integer as value which means how many times the same node(page) contains a link to another page (this value will be treated as the weight of an edge in the algorithm).\n",
    "\n",
    "> __b)__  Because there are some nodes that only have in-coming links but no outgoing links; therefore, there aren't any lines for those dangling nodes.\n",
    "\n",
    "> __d)__ There are: $15,192,277-5,781,290 = 9,410,987$ dangling nodes\n"
   ]
  },
  {
   "cell_type": "code",
   "execution_count": 31,
   "metadata": {},
   "outputs": [
    {
     "name": "stdout",
     "output_type": "stream",
     "text": [
      "5781290 data/wiki_graph.txt\n"
     ]
    }
   ],
   "source": [
    "# part b - count the number of records in the raw data (RUN THIS CELL AS IS)\n",
    "!wc -l data/wiki_graph.txt"
   ]
  },
  {
   "cell_type": "code",
   "execution_count": 32,
   "metadata": {},
   "outputs": [],
   "source": [
    "# part c - write your Spark job here (compute total number of nodes)\n",
    "def count_nodes(dataRDD):\n",
    "    \"\"\"\n",
    "    Spark job to count the total number of nodes.\n",
    "    Returns: integer count \n",
    "    \"\"\"    \n",
    "    ############## YOUR CODE HERE ###############\n",
    "    #helper function\n",
    "    \n",
    "    def extractNodes(line):\n",
    "        \"\"\"\n",
    "        Helper function to extract target nodes from the adjacency list of a source node.\n",
    "        \n",
    "        Returns: \n",
    "            a list of tuples of (key, value) - key is the node ID and value is always 1\n",
    "        \"\"\"\n",
    "        sourceNode = line.split('\\t')[0]\n",
    "        yield (sourceNode,1)\n",
    "        \n",
    "        edges = ast.literal_eval(line.split('\\t')[1])\n",
    "        \n",
    "        for destNode in edges.keys():\n",
    "            yield (destNode,1)\n",
    "    \n",
    "    totalCount = dataRDD.flatMap(lambda line: extractNodes(line)).reduceByKey(lambda x,y: 1).count()\n",
    "    \n",
    "    \n",
    "    ############## (END) YOUR CODE ###############   \n",
    "    return totalCount"
   ]
  },
  {
   "cell_type": "code",
   "execution_count": 33,
   "metadata": {},
   "outputs": [
    {
     "name": "stdout",
     "output_type": "stream",
     "text": [
      "... completed job in 0.30724501609802246 seconds.\n",
      "Total Nodes: 11\n"
     ]
    }
   ],
   "source": [
    "# part c - run your counting job on the test file (RUN THIS CELL AS IS)\n",
    "start = time.time()\n",
    "tot = count_nodes(testRDD)\n",
    "print(f'... completed job in {time.time() - start} seconds.')\n",
    "print(f'Total Nodes: {tot}')"
   ]
  },
  {
   "cell_type": "code",
   "execution_count": 119,
   "metadata": {},
   "outputs": [
    {
     "name": "stdout",
     "output_type": "stream",
     "text": [
      "... completed job in 509.4569103717804 seconds.\n",
      "Total Nodes: 15192277\n"
     ]
    }
   ],
   "source": [
    "# part c - run your counting job on the full file (RUN THIS CELL AS IS)\n",
    "start = time.time()\n",
    "tot = count_nodes(wikiRDD)\n",
    "print(f'... completed job in {time.time() - start} seconds.')\n",
    "print(f'Total Nodes: {tot}')"
   ]
  },
  {
   "cell_type": "markdown",
   "metadata": {},
   "source": [
    "# Question 6 - EDA part 2 (out-degree distribution)\n",
    "\n",
    "As you've seen in previous homeworks the computational complexity of an implementation depends not only on the number of records in the original dataset but also on the number of records we create and shuffle in our intermediate representation of the data. The number of intermediate records required to update PageRank is related to the number of edges in the graph. In this question you'll compute the average number of hyperlinks on each page in this data and visualize a distribution for these counts (the out-degree of the nodes). \n",
    "\n",
    "### Q6 Tasks:\n",
    "* __a) code:__ In the space provided below write a Spark job to stream over the data and compute all of the following information:\n",
    " * count the out-degree of each non-dangling node and return the names of the top 10 pages with the most hyperlinks\n",
    " * find the average out-degree for all non-dangling nodes in the graph\n",
    " * take a 1000 point sample of these out-degree counts and plot a histogram of the result. \n",
    " \n",
    " \n",
    "* __b) short response:__ In the context of the PageRank algorithm, how is information about a node's out degree used?\n",
    "\n",
    "* __c) short response:__ What does it mean if a node's out-degree is 0? In PageRank how will we handle these nodes differently than others?\n",
    " \n",
    "__`NOTE:`__ Please observe scalability best practices in the design of your code & comment your work clearly. You will be graded on both the clarity and the design."
   ]
  },
  {
   "cell_type": "markdown",
   "metadata": {},
   "source": [
    "### Q6 Student Answers:\n",
    "\n",
    "> __b)__  The out degree is used to divided the contirbution of a source node proportionally(accordiing to the weights) to the target nodes that it is pointing to. \n",
    "\n",
    "> __c)__  It means the node is a dangling node that doesn't have any hyperlink pointing outwards. PageRank will divide it's contribution evenly to all of the nodes including itself."
   ]
  },
  {
   "cell_type": "code",
   "execution_count": 34,
   "metadata": {},
   "outputs": [],
   "source": [
    "# part a - write your Spark job here (compute average in-degree, etc)\n",
    "def count_degree(dataRDD, n):\n",
    "    \"\"\"\n",
    "    Function to analyze out-degree of nodes in a a graph.\n",
    "    Returns: \n",
    "        top  - (list of 10 tuples) nodes with most edges\n",
    "        avgDegree - (float) average out-degree for non-dangling nodes\n",
    "        sampledCounts - (list of integers) out-degree for n randomly sampled non-dangling nodes\n",
    "    \"\"\"\n",
    "    # helper func\n",
    "    def parse(line):\n",
    "        \"\"\"\n",
    "        Helper function to parse the input into non-dangling nodes and their out-degrees.\n",
    "        Returns: \n",
    "            a list of tuples of (key, value) - key is the node ID and value is its out-degree\n",
    "        \"\"\"\n",
    "        node, edges = line.split('\\t')\n",
    "        return (node, sum(ast.literal_eval(edges).values()))\n",
    "    \n",
    "    ############## YOUR CODE HERE ###############\n",
    "\n",
    "    dataRDDCached = dataRDD.map(parse).cache() #map records to nodes and its outdegrees\n",
    "    \n",
    "    top = dataRDDCached.takeOrdered(n, key=lambda x: -x[1]) # take the nodes with top n out-dgrees\n",
    "    \n",
    "    dataRDDCached = dataRDDCached.map(lambda x: x[1]).cache() #strip the node id for mean calculation and sampling\n",
    "    \n",
    "    avgDegree = dataRDDCached.mean() #get the mean of out-degress\n",
    "    \n",
    "    sampledCounts = dataRDDCached.takeSample(False, n) #sample the out-degrees\n",
    "    ############## (END) YOUR CODE ###############\n",
    "    \n",
    "    return top, avgDegree, sampledCounts"
   ]
  },
  {
   "cell_type": "code",
   "execution_count": 35,
   "metadata": {},
   "outputs": [
    {
     "name": "stdout",
     "output_type": "stream",
     "text": [
      "... completed job in 0.3811185359954834 seconds\n",
      "Average out-degree:  2.2\n",
      "Top 10 nodes (by out-degree:)\n",
      " [('5', 5), ('6', 3), ('3', 2), ('4', 2), ('7', 2), ('8', 2), ('9', 2), ('11', 2), ('2', 1), ('10', 1)]\n"
     ]
    },
    {
     "data": {
      "image/png": "[encoded data removed]",
      "text/plain": [
       "<Figure size 432x288 with 1 Axes>"
      ]
     },
     "metadata": {},
     "output_type": "display_data"
    }
   ],
   "source": [
    "# part a - run your job on the test file (RUN THIS CELL AS IS)\n",
    "start = time.time()\n",
    "test_results = count_degree(testRDD,10)\n",
    "print(f\"... completed job in {time.time() - start} seconds\")\n",
    "print(\"Average out-degree: \", test_results[1])\n",
    "print(\"Top 10 nodes (by out-degree:)\\n\", test_results[0])\n",
    "plt.hist(test_results[2], bins=10)\n",
    "plt.title(\"Distribution of Out-Degree\")\n",
    "plt.show()"
   ]
  },
  {
   "cell_type": "code",
   "execution_count": 36,
   "metadata": {},
   "outputs": [
    {
     "name": "stdout",
     "output_type": "stream",
     "text": [
      "... completed job in 613.04558634758 seconds\n",
      "Average out-degree:  32.04181575392335\n",
      "Top 10 nodes (by out-degree:)\n",
      " [('7804599', 9347), ('7858931', 8910), ('11185362', 8837), ('7705822', 8142), ('5760310', 7649), ('7865920', 7608), ('7819767', 7278), ('7883280', 7231), ('13035895', 7126), ('7880980', 6904), ('7909437', 6599), ('7810869', 6486), ('7846493', 6386), ('7841582', 6379), ('7768780', 6211), ('7820711', 6180), ('7861935', 6102), ('6075450', 6021), ('7884831', 6005), ('7777185', 5984), ('7803276', 5881), ('6074992', 5870), ('434078', 5856), ('7828359', 5853), ('7773411', 5806), ('7834538', 5788), ('10526976', 5772), ('7828391', 5606), ('1008643', 5599), ('7873008', 5595), ('7812439', 5554), ('7881486', 5552), ('7773479', 5523), ('7820535', 5520), ('7871067', 5517), ('7882833', 5504), ('7902703', 5471), ('7847103', 5449), ('5988470', 5421), ('7872661', 5419), ('7914303', 5369), ('5988469', 5363), ('7848337', 5344), ('11670785', 5341), ('7884903', 5234), ('6075178', 5217), ('6075732', 5183), ('7831837', 5162), ('7839409', 5112), ('6835653', 5103), ('7803274', 5081), ('7785602', 5054), ('9643124', 5026), ('7911689', 4983), ('9643132', 4969), ('7887218', 4890), ('7911235', 4881), ('7884931', 4860), ('7727417', 4859), ('7810198', 4838), ('7854241', 4830), ('10852744', 4783), ('7848322', 4768), ('7850777', 4708), ('7884930', 4683), ('8353825', 4640), ('7885241', 4594), ('11670104', 4592), ('7870424', 4591), ('7909901', 4572), ('7865253', 4559), ('7832957', 4557), ('7780859', 4548), ('7818538', 4516), ('7808359', 4506), ('1499631', 4497), ('7821232', 4480), ('7818786', 4475), ('7705731', 4469), ('7730890', 4388), ('7771799', 4381), ('7723295', 4375), ('7910325', 4344), ('7924296', 4342), ('7842595', 4316), ('7718040', 4262), ('7848357', 4233), ('417917', 4216), ('7848397', 4209), ('5988430', 4198), ('7828342', 4198), ('8353819', 4192), ('7828361', 4172), ('7911901', 4165), ('7847637', 4154), ('7913908', 4136), ('7871687', 4126), ('7700951', 4110), ('7888805', 4096), ('7884835', 4092), ('9160075', 4085), ('7805430', 4069), ('1085485', 4068), ('3544227', 4064), ('7895366', 4061), ('7862604', 3992), ('7846598', 3984), ('6412827', 3975), ('7913337', 3967), ('231671', 3959), ('2872120', 3955), ('7798689', 3944), ('7848743', 3904), ('7808617', 3896), ('7886237', 3883), ('210273', 3866), ('7848777', 3862), ('9579460', 3856), ('7753557', 3852), ('7809554', 3844), ('12600698', 3840), ('3208264', 3827), ('11670102', 3819), ('7700893', 3809), ('7885223', 3805), ('7729133', 3795), ('6835647', 3780), ('7865486', 3780), ('7850847', 3769), ('7872026', 3767), ('7804983', 3767), ('7848363', 3762), ('7766806', 3751), ('7810354', 3746), ('10840883', 3714), ('7907670', 3712), ('13034432', 3700), ('6075694', 3687), ('7883781', 3686), ('7725278', 3683), ('7884250', 3661), ('8565898', 3657), ('1436267', 3652), ('253171', 3647), ('5761250', 3641), ('7753531', 3626), ('7835185', 3616), ('7766871', 3601), ('7753564', 3597), ('7828384', 3592), ('215215', 3588), ('4414287', 3585), ('7908653', 3582), ('7829195', 3581), ('7888984', 3578), ('7753562', 3576), ('7739442', 3564), ('7716746', 3555), ('7803543', 3549), ('12917366', 3541), ('6412821', 3529), ('267405', 3526), ('291984', 3524), ('6075471', 3522), ('436883', 3512), ('4412439', 3511), ('6075569', 3507), ('2439781', 3496), ('7705812', 3488), ('7807492', 3488), ('7895370', 3486), ('398537', 3486), ('7805565', 3483), ('5195853', 3483), ('205348', 3483), ('7753538', 3479), ('385853', 3469), ('8565906', 3458), ('7885270', 3458), ('7705642', 3452), ('7737307', 3449), ('3544237', 3449), ('7812280', 3441), ('7827295', 3436), ('7725421', 3435), ('7704282', 3431), ('7831825', 3430), ('6075039', 3427), ('7780520', 3425), ('7842303', 3412), ('7753575', 3409), ('7834471', 3396), ('7754702', 3378), ('349979', 3377), ('7753532', 3375), ('403781', 3370), ('7885752', 3369), ('332025', 3368), ('9164285', 3368), ('7871574', 3357), ('7872896', 3356), ('7894899', 3353), ('7890380', 3350), ('8642302', 3348), ('200869', 3342), ('6075734', 3340), ('13036114', 3339), ('7720650', 3338), ('7851351', 3337), ('7817095', 3335), ('7883735', 3327), ('7819124', 3323), ('7704300', 3321), ('2148346', 3320), ('7804759', 3320), ('5988449', 3315), ('8565879', 3314), ('3544213', 3303), ('7740815', 3291), ('11852557', 3287), ('7756960', 3285), ('7909331', 3284), ('7767847', 3277), ('7895373', 3277), ('2797612', 3274), ('7871618', 3261), ('7848413', 3256), ('11670095', 3254), ('345297', 3248), ('7848720', 3248), ('7861244', 3246), ('5988461', 3243), ('7847630', 3239), ('7701000', 3236), ('7892655', 3235), ('7878737', 3232), ('7704250', 3232), ('417878', 3225), ('13034259', 3224), ('7873075', 3217), ('7913103', 3215), ('423008', 3213), ('7746916', 3213), ('7886086', 3212), ('7700849', 3207), ('7766805', 3207), ('7718039', 3205), ('7721300', 3203), ('7914270', 3201), ('9579454', 3200), ('7812370', 3198), ('13450108', 3196), ('7883461', 3194), ('7912072', 3190), ('7736589', 3189), ('7820037', 3189), ('246861', 3185), ('417606', 3183), ('7753554', 3179), ('6075421', 3170), ('4500017', 3166), ('7891842', 3158), ('7900831', 3157), ('327634', 3155), ('7884106', 3153), ('7786281', 3152), ('7788135', 3149), ('2396426', 3149), ('13035773', 3144), ('7861276', 3140), ('7848339', 3127), ('2396424', 3124), ('7766951', 3118), ('7885838', 3118), ('7872776', 3117), ('196838', 3117), ('7828368', 3116), ('7719170', 3112), ('7881201', 3108), ('7763653', 3107), ('7916362', 3107), ('1291831', 3101), ('1291840', 3095), ('398248', 3092), ('7832192', 3091), ('7710356', 3081), ('7815201', 3076), ('9643113', 3074), ('7882794', 3073), ('7884978', 3071), ('7839380', 3069), ('7908680', 3059), ('7901173', 3052), ('7881576', 3052), ('7767959', 3051), ('260452', 3048), ('6839690', 3043), ('7755615', 3035), ('9579467', 3029), ('6075730', 3027), ('8353802', 3023), ('7772379', 3015), ('7820039', 3014), ('434102', 3014), ('7705641', 3013), ('13626192', 3000), ('12512164', 2997), ('7753517', 2996), ('380661', 2994), ('7893261', 2994), ('7800531', 2974), ('6075728', 2973), ('7881106', 2956), ('7851228', 2956), ('12389576', 2947), ('380909', 2943), ('7805503', 2942), ('7864085', 2941), ('434049', 2937), ('7701079', 2937), ('7772377', 2937), ('784055', 2936), ('7828400', 2935), ('7747700', 2928), ('8996040', 2927), ('398277', 2923), ('7848916', 2922), ('7888310', 2919), ('7844365', 2917), ('13035524', 2916), ('7744733', 2909), ('7745109', 2909), ('7916870', 2907), ('193083', 2897), ('7906454', 2894), ('7708568', 2893), ('6075054', 2891), ('13318450', 2887), ('7909055', 2886), ('7812295', 2882), ('7864528', 2873), ('7759524', 2871), ('3723035', 2868), ('7850344', 2865), ('267422', 2865), ('1573335', 2862), ('7828365', 2861), ('7911561', 2856), ('9086712', 2852), ('7790923', 2852), ('7820951', 2849), ('7902506', 2847), ('7846495', 2844), ('7736563', 2844), ('11246153', 2840), ('7911804', 2839), ('7815250', 2832), ('7801196', 2831), ('7908675', 2826), ('7908879', 2825), ('351600', 2824), ('7854334', 2824), ('10915092', 2820), ('7753565', 2819), ('13037026', 2819), ('7727193', 2818), ('7054167', 2815), ('7911548', 2815), ('274751', 2810), ('370553', 2806), ('7871699', 2805), ('387389', 2804), ('7840418', 2804), ('7812306', 2802), ('7842391', 2799), ('7821836', 2799), ('7832392', 2798), ('7815408', 2796), ('405426', 2796), ('7808225', 2794), ('7883736', 2794), ('220371', 2789), ('7828340', 2788), ('154981', 2787), ('7833730', 2787), ('7744262', 2781), ('7908880', 2777), ('7911564', 2776), ('7846497', 2771), ('7834355', 2768), ('7909330', 2767), ('7789417', 2765), ('5988451', 2765), ('7911556', 2763), ('7766898', 2761), ('7893264', 2756), ('7747950', 2752), ('363932', 2744), ('189223', 2743), ('7856824', 2742), ('7784745', 2739), ('7828350', 2739), ('13725476', 2733), ('6075139', 2729), ('7885756', 2727), ('7846196', 2726), ('7829199', 2717), ('4346951', 2717), ('4536916', 2716), ('7792624', 2715), ('7763855', 2714), ('7840557', 2712), ('7790826', 2712), ('7702707', 2710), ('363984', 2709), ('7846989', 2709), ('7908876', 2708), ('7755093', 2708), ('7819149', 2707), ('6075716', 2702), ('8258142', 2701), ('7803552', 2701), ('253189', 2700), ('7791412', 2694), ('7871188', 2689), ('6233061', 2687), ('7924265', 2681), ('7807688', 2679), ('7761048', 2677), ('345063', 2674), ('7745207', 2669), ('7771112', 2667), ('7922456', 2666), ('7810214', 2666), ('318108', 2664), ('7731420', 2663), ('7840881', 2663), ('7848473', 2662), ('7842851', 2661), ('7788181', 2660), ('7768963', 2657), ('6075661', 2656), ('7847263', 2654), ('7708110', 2652), ('7900425', 2651), ('6075018', 2646), ('7909014', 2646), ('7871684', 2645), ('6075596', 2643), ('7820014', 2639), ('14106442', 2639), ('305806', 2637), ('7710582', 2630), ('7827684', 2625), ('13442428', 2625), ('7828360', 2618), ('7888465', 2615), ('7705681', 2614), ('2797581', 2610), ('7913058', 2607), ('7873909', 2607), ('7878981', 2598), ('7846603', 2597), ('7777301', 2592), ('7883460', 2582), ('7875030', 2582), ('7891375', 2577), ('390043', 2576), ('8793304', 2575), ('7753582', 2575), ('5522990', 2567), ('7846926', 2565), ('3544194', 2564), ('7857111', 2562), ('7895363', 2562), ('7789517', 2559), ('7840864', 2557), ('7873059', 2554), ('7916789', 2553), ('7848338', 2550), ('7758556', 2549), ('7702677', 2548), ('417629', 2548), ('7883932', 2546), ('7828676', 2545), ('260469', 2542), ('3820749', 2537), ('7739256', 2536), ('7871676', 2536), ('10271070', 2536), ('7773441', 2534), ('7753524', 2532), ('7737034', 2532), ('7867787', 2532), ('282427', 2528), ('417849', 2528), ('7812421', 2523), ('7911475', 2523), ('13036018', 2523), ('7913796', 2522), ('7783580', 2520), ('4852601', 2519), ('6839678', 2519), ('7700794', 2519), ('8697738', 2518), ('7895359', 2517), ('7893657', 2514), ('10926049', 2514), ('7841232', 2514), ('7912075', 2512), ('7731303', 2510), ('8685310', 2509), ('7769057', 2509), ('7848364', 2509), ('7873915', 2505), ('7731301', 2504), ('7891430', 2504), ('363760', 2503), ('7753521', 2502), ('3284894', 2502), ('7911550', 2499), ('7846748', 2495), ('7780769', 2494), ('7861927', 2490), ('7879517', 2489), ('90640', 2485), ('7827504', 2482), ('9562907', 2480), ('7798288', 2478), ('13441626', 2477), ('7855962', 2477), ('2437576', 2471), ('6412837', 2469), ('7745547', 2469), ('7702526', 2467), ('13450034', 2465), ('7774414', 2464), ('7813817', 2461), ('7783213', 2460), ('7755284', 2458), ('7859086', 2457), ('13491149', 2454), ('7902646', 2454), ('7753542', 2453), ('4897539', 2451), ('7846080', 2448), ('7719345', 2447), ('7806814', 2446), ('2155391', 2445), ('7753514', 2441), ('7803278', 2441), ('7848343', 2437), ('7871425', 2437), ('313771', 2436), ('3140248', 2434), ('7705640', 2433), ('7758023', 2429), ('7791475', 2428), ('7910861', 2428), ('7912136', 2428), ('1291817', 2428), ('10641199', 2426), ('398575', 2426), ('9164307', 2426), ('8732125', 2424), ('2204243', 2419), ('7832202', 2415), ('5195852', 2408), ('9579411', 2406), ('7871728', 2406), ('430356', 2405), ('4500012', 2405), ('7703580', 2404), ('7848958', 2403), ('7911511', 2401), ('13694693', 2400), ('7753563', 2398), ('10612000', 2398), ('7705487', 2398), ('6412811', 2397), ('4661348', 2396), ('7879519', 2396), ('185182', 2394), ('392635', 2393), ('7883961', 2391), ('2871978', 2390), ('7882896', 2389), ('8427082', 2389), ('7908687', 2384), ('5123749', 2384), ('7819239', 2382), ('7895356', 2380), ('372247', 2378), ('193152', 2377), ('7809567', 2376), ('7848407', 2375), ('12834253', 2374), ('7753579', 2374), ('5988412', 2371), ('7796715', 2370), ('355324', 2370), ('9882625', 2368), ('189276', 2368), ('7895365', 2366), ('408161', 2366), ('231689', 2360), ('7709018', 2359), ('7808606', 2357), ('7809709', 2355), ('7719388', 2355), ('7849785', 2354), ('7846624', 2354), ('1499617', 2353), ('380640', 2353), ('7901161', 2352), ('7731302', 2349), ('5195847', 2345), ('7776808', 2340), ('14108182', 2339), ('7786336', 2336), ('6075595', 2335), ('415258', 2335), ('7812348', 2333), ('394514', 2333), ('7752626', 2332), ('7842989', 2325), ('7809815', 2323), ('7888480', 2323), ('7763709', 2322), ('7907727', 2320), ('7873349', 2320), ('7764473', 2319), ('7702751', 2318), ('7757180', 2315), ('7848353', 2315), ('7852726', 2314), ('7856979', 2313), ('7886320', 2309), ('13035665', 2308), ('7915867', 2308), ('11574472', 2307), ('14060999', 2306), ('7854337', 2305), ('429203', 2304), ('7895345', 2303), ('3615547', 2302), ('6084946', 2296), ('7702719', 2296), ('5195517', 2291), ('7901500', 2289), ('7798385', 2288), ('979465', 2288), ('6076575', 2288), ('7820808', 2288), ('6839669', 2287), ('7879580', 2285), ('7793647', 2285), ('7910419', 2283), ('5769293', 2274), ('411451', 2273), ('7767207', 2273), ('7861392', 2271), ('7720653', 2270), ('7780886', 2269), ('344412', 2266), ('7737480', 2266), ('7916824', 2265), ('7883458', 2264), ('7738027', 2264), ('6075556', 2264), ('7790831', 2263), ('7902838', 2262), ('5231738', 2261), ('7911551', 2260), ('246879', 2257), ('7752816', 2255), ('7895339', 2255), ('7828705', 2252), ('7827879', 2252), ('357250', 2251), ('7772318', 2250), ('662008', 2247), ('7702435', 2244), ('7766792', 2242), ('7753544', 2242), ('7885177', 2242), ('7735466', 2241), ('7809766', 2240), ('5763390', 2239), ('7848403', 2239), ('7902453', 2239), ('7911509', 2238), ('7764524', 2238), ('7702725', 2238), ('7731288', 2237), ('434090', 2237), ('7848404', 2237), ('7702793', 2237), ('7769516', 2235), ('7871422', 2235), ('220387', 2235), ('100909', 2233), ('9579441', 2233), ('7754350', 2230), ('7902352', 2228), ('10641198', 2227), ('7786459', 2226), ('7888327', 2226), ('7922336', 2225), ('7719346', 2222), ('7895344', 2222), ('433811', 2222), ('7745102', 2222), ('7809547', 2222), ('7753553', 2222), ('7820087', 2221), ('13891774', 2220), ('7705506', 2220), ('401410', 2219), ('7820327', 2215), ('7811987', 2212), ('7700641', 2212), ('7814616', 2211), ('7790512', 2208), ('7828442', 2207), ('7809173', 2206), ('7893235', 2205), ('7884183', 2205), ('7885760', 2203), ('7777139', 2202), ('7734010', 2201), ('7720652', 2201), ('7805207', 2198), ('7908881', 2198), ('7848358', 2197), ('7780474', 2196), ('7835224', 2195), ('7885190', 2193), ('7798717', 2193), ('7705735', 2192), ('7755617', 2191), ('354406', 2191), ('13442416', 2188), ('225923', 2187), ('7856227', 2186), ('13036676', 2185), ('7813411', 2185), ('7704240', 2184), ('7859377', 2183), ('1913881', 2183), ('7841528', 2181), ('7752348', 2180), ('7888925', 2178), ('977904', 2177), ('7902934', 2177), ('3450366', 2176), ('1575749', 2175), ('7873110', 2174), ('7700438', 2173), ('7909918', 2169), ('14261007', 2168), ('7720658', 2166), ('136509', 2166), ('248871', 2164), ('7819997', 2163), ('394551', 2163), ('3178760', 2163), ('7715062', 2162), ('357252', 2162), ('7730703', 2162), ('7891162', 2160), ('7857386', 2158), ('7908684', 2157), ('13035310', 2157), ('7815393', 2157), ('7871824', 2157), ('7805094', 2156), ('7705639', 2156), ('7848355', 2155), ('7747009', 2153), ('7873913', 2153), ('7864036', 2152), ('196892', 2152), ('7849639', 2151), ('13623285', 2150), ('7739253', 2149), ('7879908', 2148), ('13035633', 2148), ('7861253', 2146), ('149947', 2145), ('12034708', 2144), ('7847200', 2144), ('7845971', 2144), ('662134', 2143), ('234354', 2142), ('7888099', 2141), ('7895347', 2141), ('7700976', 2141), ('302255', 2140), ('7804871', 2140), ('7871326', 2139), ('398273', 2139), ('7902271', 2137), ('7891103', 2137), ('7873112', 2132), ('7755726', 2132), ('7841404', 2131), ('7871561', 2131), ('1938986', 2131), ('7865597', 2129), ('13119730', 2128), ('7754353', 2127), ('7700539', 2127), ('417948', 2126), ('7827876', 2126), ('7702426', 2125), ('1343009', 2124), ('7726999', 2120), ('7878918', 2120), ('7914562', 2120), ('12048667', 2120), ('411453', 2119), ('7719344', 2117), ('7902552', 2114), ('4347345', 2110), ('7817684', 2109), ('7702518', 2107), ('5043145', 2107), ('7700843', 2107), ('138704', 2107), ('2942203', 2107), ('6581544', 2106), ('7821474', 2105), ('7088670', 2104), ('7886624', 2103), ('3039403', 2103), ('7725100', 2102), ('7872047', 2101), ('7791741', 2100), ('7769804', 2099), ('13449774', 2099), ('398512', 2096), ('7827674', 2095), ('4195761', 2091), ('89850', 2090), ('7855964', 2089), ('7885759', 2088), ('1471645', 2087), ('6364736', 2084), ('417746', 2084), ('339481', 2082), ('225938', 2081), ('7763753', 2080), ('7911558', 2079), ('7720657', 2077), ('7748803', 2077), ('140851', 2076), ('417888', 2074), ('7773093', 2073), ('6075558', 2072), ('13450046', 2071), ('5142790', 2071), ('7873035', 2071), ('13851452', 2071), ('7883962', 2070), ('7811433', 2070), ('12512163', 2070), ('7772235', 2069), ('7700482', 2068), ('2284722', 2065), ('3668728', 2065), ('7872848', 2064), ('7702714', 2064), ('3556151', 2064), ('7875514', 2062), ('2742338', 2060), ('160225', 2060), ('2437547', 2059), ('7767678', 2059), ('421834', 2058), ('7854531', 2058), ('7823119', 2057), ('7822617', 2057), ('7733676', 2057), ('7855432', 2053), ('7777034', 2052), ('7734866', 2052), ('6074999', 2051), ('7822604', 2050), ('13070168', 2050), ('7748739', 2050), ('7822443', 2049), ('7895324', 2048), ('134350', 2048), ('215231', 2047), ('128865', 2046), ('7820058', 2046), ('7913818', 2045), ('7717209', 2044), ('7871519', 2044), ('4653059', 2044), ('3669866', 2043), ('9355194', 2043), ('7753537', 2040), ('434024', 2039), ('7872469', 2037), ('7902936', 2036), ('147624', 2035), ('11942568', 2033), ('662099', 2032), ('7847835', 2031), ('7911159', 2031), ('367986', 2030), ('13441881', 2030), ('7754707', 2030), ('8353906', 2030), ('7883426', 2028), ('7883245', 2028), ('7908956', 2027), ('7846734', 2027), ('4198556', 2027), ('4195863', 2026), ('7751670', 2026), ('7763217', 2026), ('2990172', 2026), ('7745751', 2025), ('7879957', 2024), ('7895351', 2024), ('12160853', 2023), ('11775403', 2023), ('7705635', 2022), ('7842740', 2022), ('7882795', 2021), ('7763629', 2020), ('2776335', 2020), ('7871641', 2020), ('7704255', 2019), ('7846611', 2018), ('13030241', 2017), ('11448601', 2017), ('7731198', 2016), ('7715240', 2014), ('11818886', 2013), ('427074', 2013), ('127181', 2011), ('181785', 2008), ('5584045', 2008), ('7888332', 2007), ('7739257', 2006), ('7714802', 2005), ('7744732', 2005), ('13035221', 2003), ('7815008', 2003), ('6477101', 2003), ('368221', 2003), ('7827108', 2002), ('6138051', 2002), ('814121', 2001), ('7908686', 2001), ('136547', 2000), ('200924', 2000), ('7893058', 2000), ('7844824', 1998), ('7888263', 1998), ('13449723', 1998), ('392633', 1998), ('7846430', 1997), ('8641612', 1997), ('7841657', 1996), ('7786828', 1995), ('5988414', 1994), ('7705638', 1994), ('7700914', 1993), ('6835632', 1993), ('7802857', 1991), ('7827956', 1990), ('7850713', 1990), ('9924814', 1990), ('9643078', 1989), ('13442397', 1989), ('13449634', 1988), ('6075059', 1988), ('7833787', 1987), ('397719', 1986), ('7065190', 1986), ('7720659', 1985), ('7900500', 1984), ('210290', 1984), ('7810201', 1983), ('7757177', 1982), ('11034025', 1981), ('375286', 1981), ('662110', 1979), ('7822392', 1979), ('7790832', 1978), ('7808664', 1976), ('4923544', 1976), ('7700838', 1975), ('7820107', 1975), ('380997', 1973)]\n"
     ]
    },
    {
     "data": {
      "image/png": "[encoded data removed]",
      "text/plain": [
       "<Figure size 432x288 with 1 Axes>"
      ]
     },
     "metadata": {},
     "output_type": "display_data"
    }
   ],
   "source": [
    "# part a - run your job on the full file (RUN THIS CELL AS IS)\n",
    "start = time.time()\n",
    "full_results = count_degree(wikiRDD,1000)\n",
    "print(f\"... completed job in {time.time() - start} seconds\")\n",
    "print(\"Average out-degree: \", full_results[1])\n",
    "print(\"Top 10 nodes (by out-degree:)\\n\", full_results[0])\n",
    "plt.hist(full_results[2], bins=50)\n",
    "plt.title(\"Distribution of Out-Degree\")\n",
    "plt.show()"
   ]
  },
  {
   "cell_type": "markdown",
   "metadata": {},
   "source": [
    "# Question 7 - PageRank part 1 (Initialize the Graph)\n",
    "\n",
    "One of the challenges of performing distributed graph computation is that you must pass the entire graph structure through each iteration of your algorithm. As usual, we seek to design our computation so that as much work as possible can be done using the contents of a single record. In the case of PageRank, we'll need each record to include a node, its list of neighbors and its (current) rank. In this question you'll initialize the graph by creating a record for each dangling node and by setting the initial rank to 1/N for all nodes. \n",
    "\n",
    "__`NOTE:`__ Your solution should _not_ hard code $N$.\n",
    "\n",
    "### Q7 Tasks:\n",
    "* __a) short response:__ What is $N$? Use the analogy of the infinite random web-surfer to explain why we'll initialize each node's rank to $\\frac{1}{N}$. (i.e. what is the probabilistic interpretation of this choice?)\n",
    "\n",
    "* __b) short response:__ Will it be more efficient to compute $N$ before initializing records for each dangling node or after? Explain your reasoning.\n",
    "\n",
    "* __c) code:__ Fill in the missing code below to create a Spark job that:\n",
    "  * parses each input record\n",
    "  * creates a new record for any dangling nodes and sets it list of neighbors to be an empty set\n",
    "  * initializes a rank of 1/N for each node\n",
    "  * returns a pair RDD with records in the format specified by the docstring\n",
    "\n",
    "\n",
    "* __d) code:__ Run the provided code to confirm that your job in `part a` has a record for each node and that your should records match the format specified in the docstring and the count should match what you computed in question 5. [__`TIP:`__ _you might want to take a moment to write out what the expected output should be fore the test graph, this will help you know your code works as expected_]\n",
    " \n",
    "__`NOTE:`__ Please observe scalability best practices in the design of your code & comment your work clearly. You will be graded on both the clarity and the design."
   ]
  },
  {
   "cell_type": "markdown",
   "metadata": {},
   "source": [
    "### Q7 Student Answers:\n",
    "\n",
    "> __a)__  \n",
    "> N is the total number of nodes in the graph  \n",
    "> PageRank is basically calculating the rank for webpages. And the interpretation of rank is the probability of a web surfer visiting the a page at each moment. Therefore, the sum of all the probabilities of all pages needs to be equal to one. One simple way to initialize each node's rank is by assigning the probabilities uniformly across all nodes as $\\frac{1}{N}$.\n",
    "\n",
    "> __b)__ I think it'll be more efficient to compute N after creating new records for each dangling node. Because computing N before creating dangling nodes requires taking a pass through the edges of each node, generating a record for each target node and then comparing them with the non-dangling nodes in order to determine if we are to preserve the created records or not. This process will require data to be shuffled around which is very expensive. And we will have to do essentially the same thing when creating records for the dangling nodes. Therefore, if we compute N first then try to create the dangling node records and then initialize, we would have to go through two actions that require shuffling data around which is very expensive.\n",
    "> However, if we compute N after all dangling nodes' records are created and unduplicated, we are just counting how many records we have in total which doesn't require shuffle. So I think computing N after creating new records might be more efficient."
   ]
  },
  {
   "cell_type": "code",
   "execution_count": 36,
   "metadata": {},
   "outputs": [],
   "source": [
    "# part c - job to initialize the graph (RUN THIS CELL AS IS)\n",
    "def initGraph(dataRDD):\n",
    "    \"\"\"\n",
    "    Spark job to read in the raw data and initialize an \n",
    "    adjacency list representation with a record for each\n",
    "    node (including dangling nodes).\n",
    "    \n",
    "    Returns: \n",
    "        graphRDD -  a pair RDD of (node_id , (score, edges))\n",
    "        \n",
    "    NOTE: The score should be a float, but you may want to be \n",
    "    strategic about how format the edges... there are a few \n",
    "    options that can work. Make sure that whatever you choose\n",
    "    is sufficient for Question 8 where you'll run PageRank.\n",
    "    \"\"\"\n",
    "    ############## YOUR CODE HERE ###############\n",
    "\n",
    "    # write any helper functions here\n",
    "    def extractNodes(line):\n",
    "        \"\"\"\n",
    "        Helper function to parses each input record and create a new record for any target nodes \n",
    "        and set it list of neighbors to be an empty set\n",
    "        \n",
    "        Returns: \n",
    "            a list of tuples of (key, value) - key is the node ID and value is either the adjacency list or a empty dictionary\n",
    "        \"\"\"\n",
    "        sourceNode = line.split('\\t')[0]\n",
    "        edges = ast.literal_eval(line.split('\\t')[1])\n",
    "\n",
    "        yield (sourceNode,edges)\n",
    "\n",
    "        for destNode in edges.keys():\n",
    "            yield (destNode,{})\n",
    "\n",
    "\n",
    "    def reduceRecords(rec_1, rec_2):\n",
    "        \"\"\"\n",
    "        Helper function to reduce records by dropping the record proven to have an empty dictionary\n",
    "        \n",
    "        Returns: \n",
    "            a tuple of (key, value) - key is the node ID and value is either the adjacency list or a empty dictionary\n",
    "        \"\"\"\n",
    "        if rec_1:\n",
    "            return rec_1\n",
    "        else:\n",
    "            return rec_2\n",
    "    \n",
    "    # write your main Spark code here\n",
    "    dataRDD = dataRDD.flatMap(lambda line: extractNodes(line)).reduceByKey(reduceRecords).cache()\n",
    "    \n",
    "    N = dataRDD.count() # get the number of total nodes\n",
    "    \n",
    "    graphRDD = dataRDD.mapValues(lambda x: (1.0/N, x)).cache() #initialize the mass of each node to 1/number of total nodes in the graph\n",
    "\n",
    "    ############## (END) YOUR CODE ##############\n",
    "    \n",
    "    return graphRDD"
   ]
  },
  {
   "cell_type": "code",
   "execution_count": 37,
   "metadata": {},
   "outputs": [
    {
     "name": "stdout",
     "output_type": "stream",
     "text": [
      "... test graph initialized in 0.30297112464904785 seconds.\n"
     ]
    },
    {
     "data": {
      "text/plain": [
       "[('4', (0.09090909090909091, {'1': 1, '2': 1})),\n",
       " ('1', (0.09090909090909091, {})),\n",
       " ('8', (0.09090909090909091, {'2': 1, '5': 1})),\n",
       " ('9', (0.09090909090909091, {'2': 1, '5': 1})),\n",
       " ('10', (0.09090909090909091, {'5': 1})),\n",
       " ('2', (0.09090909090909091, {'3': 1})),\n",
       " ('3', (0.09090909090909091, {'2': 2})),\n",
       " ('5', (0.09090909090909091, {'4': 3, '2': 1, '6': 1})),\n",
       " ('6', (0.09090909090909091, {'2': 1, '5': 2})),\n",
       " ('7', (0.09090909090909091, {'2': 1, '5': 1})),\n",
       " ('11', (0.09090909090909091, {'5': 2}))]"
      ]
     },
     "execution_count": 37,
     "metadata": {},
     "output_type": "execute_result"
    }
   ],
   "source": [
    "# part c - run your Spark job on the test graph (RUN THIS CELL AS IS)\n",
    "start = time.time()\n",
    "testGraph = initGraph(testRDD).collect()\n",
    "print(f'... test graph initialized in {time.time() - start} seconds.')\n",
    "testGraph"
   ]
  },
  {
   "cell_type": "code",
   "execution_count": 41,
   "metadata": {},
   "outputs": [
    {
     "name": "stdout",
     "output_type": "stream",
     "text": [
      "... full graph initialized in 1117.6173429489136 seconds\n"
     ]
    }
   ],
   "source": [
    "# part c - run your code on the main graph (RUN THIS CELL AS IS)\n",
    "start = time.time()\n",
    "wikiGraphRDD = initGraph(wikiRDD)\n",
    "print(f'... full graph initialized in {time.time() - start} seconds')"
   ]
  },
  {
   "cell_type": "code",
   "execution_count": 42,
   "metadata": {},
   "outputs": [
    {
     "name": "stdout",
     "output_type": "stream",
     "text": [
      "Total number of records: 15192277\n",
      "First record: [('9401906', (6.582291778908455e-08, {'13450322': 1, '10912145': 1, '6221099': 1, '5896827': 1, '12454313': 1, '6657038': 1, '3714991': 1, '11065159': 1, '1477521': 2, '11775857': 1, '14337449': 1, '6003275': 1, '11529732': 1, '9380970': 1, '6536609': 1, '9403412': 1, '1929275': 1, '9263261': 1, '13723263': 1, '4684757': 1, '3715005': 1, '13031052': 1, '4851263': 1, '11614133': 1, '14645836': 1, '4683907': 1, '12712669': 4, '2209024': 1, '12789437': 1, '4971793': 1, '4683854': 1, '4501915': 1, '8620729': 1, '5578638': 1, '9908296': 1, '4682946': 5, '4432372': 1, '8717035': 1, '12779917': 1, '14690321': 1, '12501364': 1, '12886277': 1, '9401918': 1, '2202371': 1, '5972758': 1, '15093384': 1, '3833257': 1, '4683514': 2, '3164789': 1, '10488630': 1, '2218307': 1, '6626889': 1, '14899990': 1, '9145620': 1, '12372090': 1, '6857209': 1, '6372376': 2, '4684803': 2, '4472092': 1, '6346430': 1, '4431696': 1, '13037745': 1, '14592515': 1, '2368882': 1, '4683792': 1, '1937961': 1, '11321878': 2, '10506815': 1, '12619024': 1, '9079778': 1, '7967490': 1, '4683036': 1, '1605005': 1, '4683868': 1, '9402153': 3, '4683737': 1, '2732919': 3, '2019430': 1, '10602915': 2, '10604950': 1, '4646934': 1, '5673843': 2, '10506475': 1, '11103574': 1, '11927553': 1, '12589635': 1, '4683029': 1, '10844177': 1, '12748792': 1, '12088310': 1, '5200707': 1, '7469621': 1, '594834': 1, '13627455': 2, '4683189': 1, '12836012': 1, '10178684': 1, '13589823': 1, '12729533': 2, '3112567': 1, '11302970': 1, '12705355': 1, '12200905': 1, '12885951': 2, '14728010': 1, '14645034': 1, '12836422': 1, '9556319': 1, '12636404': 2, '2777625': 1, '12041350': 1, '14761252': 1, '8704030': 1, '5988110': 1, '846614': 2, '2215861': 1, '1520638': 1, '8966047': 1, '11927352': 2, '9401900': 5, '6076411': 1, '1927193': 1, '8019717': 1, '3564148': 1, '9401998': 1, '9094331': 1, '13508251': 1, '6189541': 1, '12892437': 1, '12291444': 1, '11927698': 2, '3716744': 1, '12886262': 1, '14894518': 1, '13037780': 2, '14925772': 1, '2897801': 1, '12906928': 1, '6114256': 1, '13935504': 1, '711498': 3, '2348976': 1, '4683423': 2, '11976672': 1, '9240538': 1, '9263217': 2, '9402035': 2, '12886212': 1, '3282468': 1, '9263250': 1, '35437': 2, '9401905': 1, '12402369': 1, '446363': 5, '4683102': 4, '8500597': 1, '4682963': 1, '12789436': 1, '3833212': 3, '4682988': 1, '4683759': 1, '4683885': 1, '4684323': 1, '9243024': 1, '13651087': 1, '8691361': 1, '4682869': 1, '13432214': 1, '4683903': 1, '12113997': 1, '4683088': 1, '12088254': 1, '3480554': 2, '3041616': 1, '9263473': 1, '4813140': 1, '4962422': 1, '12375373': 1, '4683905': 1, '2082246': 1, '9970839': 1, '12904480': 1, '12077147': 1, '11696482': 1, '444019': 6, '9401901': 1, '14368946': 1, '9130954': 1, '4683782': 1, '4564862': 1, '2369105': 1, '2192525': 1, '9470676': 1, '9750796': 1, '12312586': 1, '4172447': 1, '1393612': 1, '14350825': 1, '13449882': 1, '4450333': 1, '11108433': 1, '3947499': 1, '2209023': 1, '1587911': 5, '8676711': 1, '12791714': 1, '9437999': 1, '11949554': 1, '3576882': 1, '3046098': 1, '4432321': 1, '9263274': 1, '12825143': 1, '12886279': 1, '4683870': 1, '12885949': 2, '11444771': 1, '12886265': 1, '1368617': 1, '9109161': 1, '12044643': 1, '4682966': 1, '12020680': 1, '15104204': 1, '4540428': 1, '6372372': 1, '11593746': 1, '9387954': 2, '3947370': 1, '2446131': 1, '10536980': 1, '13740718': 1, '10345027': 1, '4683257': 1, '6740573': 1, '2202433': 1, '4683283': 1, '4451494': 1, '3564733': 1, '7041140': 1, '9390750': 1, '7815302': 1, '444011': 1, '12785678': 2, '1440095': 1, '9263226': 1, '10875516': 1, '14986485': 1, '12886261': 1, '4683730': 1, '1571373': 1, '8155124': 1, '7833895': 1, '9263288': 2, '12745448': 1, '1517623': 1, '1513060': 1, '4683543': 1, '4683419': 1, '5534750': 2, '12904323': 4, '3833233': 1, '1929250': 1, '4554520': 2, '4432325': 1, '7815341': 1, '15022876': 1, '7815342': 1, '515387': 1, '11322034': 1, '444486': 1, '14641208': 1, '13882726': 1, '9263225': 3, '4683469': 2, '5860710': 1, '12873857': 1, '12836211': 2, '4683509': 1, '14854931': 1, '13114587': 2, '12589766': 1, '10917487': 1, '8174250': 1, '15022929': 1, '9402362': 2, '2658210': 1, '9159217': 2, '10842298': 1, '9240550': 1, '14169624': 1, '11735966': 2, '12201143': 1, '14893505': 1, '12731561': 1, '13723226': 1, '7379694': 1, '9402076': 1, '11244331': 7, '11356699': 1, '6658611': 1, '836111': 1, '4491810': 1, '11949620': 1, '1605441': 1, '11186751': 2, '4684010': 1, '15049958': 1, '12102159': 1, '6585938': 1, '3388346': 1, '13458119': 1, '7632787': 3, '4444093': 1, '9162125': 1, '2025628': 1, '4443009': 1, '13833946': 1, '4087698': 1, '4683151': 1, '9391244': 1, '9263176': 1, '2209022': 1, '9401857': 1, '2368777': 1, '1588451': 1, '9623396': 1, '14611737': 1, '12748433': 1, '4683760': 1, '10256202': 1, '4683897': 1, '12088309': 2, '12633019': 1, '12776517': 1, '6049700': 1, '2783292': 1, '8630130': 1, '11117648': 2, '12892504': 2, '4683114': 1, '3375701': 1, '9157536': 2, '5196071': 1, '4683532': 1, '12513019': 1, '9401897': 1, '9402030': 1, '13458409': 1, '3421166': 1, '4540500': 1, '8434891': 1, '359252': 1, '10100183': 1, '15005474': 2, '12759593': 1, '4683824': 1, '9287773': 1, '1714321': 1, '15106909': 1, '2349395': 1, '3833232': 1, '4683287': 1, '4683751': 3, '5987985': 1, '4682867': 1}))]\n",
      "... initialization continued: 146.73694682121277 seconds\n"
     ]
    }
   ],
   "source": [
    "# part c - confirm record format and count (RUN THIS CELL AS IS)\n",
    "start = time.time()\n",
    "print(f'Total number of records: {wikiGraphRDD.count()}')\n",
    "print(f'First record: {wikiGraphRDD.take(1)}')\n",
    "print(f'... initialization continued: {time.time() - start} seconds')"
   ]
  },
  {
   "cell_type": "markdown",
   "metadata": {},
   "source": [
    "# Question 8 - PageRank part 2 (Iterate until convergence)\n",
    "\n",
    "Finally we're ready to compute the page rank. In this last question you'll write a Spark job that iterates over the initialized graph updating each nodes score until it reaches a convergence threshold. The diagram below gives a visual overview of the process using a 5 node toy graph. Pay particular attention to what happens to the dangling mass at each iteration.\n",
    "\n",
    "<img src='PR-illustrated.png'>\n",
    "\n",
    "\n",
    "\n",
    "__`A Note about Notation:`__ The formula above describes how to compute the updated page rank for a node in the graph. The $P$ on the left hand side of the equation is the new score, and the $P$ on the right hand side of the equation represents the accumulated mass that was re-distributed from all of that node's in-links. Finally, $|G|$ is the number of nodes in the graph (which we've elsewhere refered to as $N$).\n",
    "\n",
    "### Q8 Tasks:\n",
    "* __a) short response:__ In terms of the infinite random walk analogy, interpret the meaning of the first term in the PageRank calculation: $\\alpha * \\frac{1}{|G|}$\n",
    "\n",
    "* __b) short response:__ In the equation for the PageRank calculation above what does $m$ represent and why do we divide it by $|G|$?\n",
    "\n",
    "* __c) short response:__ Keeping track of the total probability mass after each update is a good way to confirm that your algorithm is on track. How much should the total mass be after each iteration?\n",
    "\n",
    "* __d) code:__ Fill in the missing code below to create a Spark job that take the initialized graph as its input then iterates over the graph and for each pass:\n",
    "  * reads in each record and redistributes the node's current score to each of its neighbors\n",
    "  * uses an accumulator to add up the dangling node mass and redistribute it among all the nodes. (_Don't forget to reset this accumulator after each iteration!_)\n",
    "  * uses an accumulator to keep track of the total mass being redistributed.( _This is just for your own check, its not part of the PageRank calculation. Don't forget to reset this accumulator after each iteration._)\n",
    "  * aggregates these partial scores for each node\n",
    "  * applies telportation and damping factors as described in the formula above.\n",
    "  * combine all of the above to compute the PageRank as described by the formula above.\n",
    "  * \n",
    "  \n",
    "   __WARNING:__ Some pages contain multiple hyperlinks to the same destination, please take this into account when redistributing the mass.\n",
    "\n",
    " \n",
    "__`NOTE:`__ Please observe scalability best practices in the design of your code & comment your work clearly. You will be graded on both the clarity and the design."
   ]
  },
  {
   "cell_type": "markdown",
   "metadata": {},
   "source": [
    "### Q8 Student Answers:\n",
    "\n",
    "> __a)__ The first term $\\alpha * \\frac{1}{|G|}$ in the interpretation of the infinite random walk means when a surfer is moving from one page to another, there is a probability, $\\alpha * \\frac{1}{|G|}$ that they will randomly go to one of the pages in the network(our graph). Therefore, $\\alpha * \\frac{1}{|G|}$ is assign to all nodes in the graph.\n",
    "\n",
    "> __b)__ m represent the total mass from all of the dangling nodes. We divided by $|G|$ because the total mass from the dangling nodes will be assigned evenly to all of the nodes in the graph.\n",
    "\n",
    "> __c)__ 1"
   ]
  },
  {
   "cell_type": "code",
   "execution_count": 38,
   "metadata": {},
   "outputs": [],
   "source": [
    "# part d - provided FloatAccumulator class (RUN THIS CELL AS IS)\n",
    "\n",
    "from pyspark.accumulators import AccumulatorParam\n",
    "\n",
    "class FloatAccumulatorParam(AccumulatorParam):\n",
    "    \"\"\"\n",
    "    Custom accumulator for use in page rank to keep track of various masses.\n",
    "    \n",
    "    IMPORTANT: accumulators should only be called inside actions to avoid duplication.\n",
    "    We stringly recommend you use the 'foreach' action in your implementation below.\n",
    "    \"\"\"\n",
    "    def zero(self, value):\n",
    "        return value\n",
    "    def addInPlace(self, val1, val2):\n",
    "        return val1 + val2"
   ]
  },
  {
   "cell_type": "code",
   "execution_count": 39,
   "metadata": {},
   "outputs": [],
   "source": [
    "# part d - job to run PageRank (RUN THIS CELL AS IS)\n",
    "def runPageRank(graphInitRDD, alpha = 0.15, maxIter = 10, verbose = True):\n",
    "    \"\"\"\n",
    "    Spark job to implement page rank\n",
    "    Args: \n",
    "        graphInitRDD  - pair RDD of (node_id , (score, edges))\n",
    "        alpha         - (float) teleportation factor\n",
    "        maxIter       - (int) stopping criteria (number of iterations)\n",
    "        verbose       - (bool) option to print logging info after each iteration\n",
    "    Returns:\n",
    "        steadyStateRDD - pair RDD of (node_id, pageRank)\n",
    "    \"\"\"\n",
    "    # teleportation:\n",
    "    a = sc.broadcast(alpha)\n",
    "    \n",
    "    # damping factor:\n",
    "    d = sc.broadcast(1-a.value)\n",
    "    \n",
    "    # initialize accumulators for dangling mass & total mass\n",
    "    mmAccum = sc.accumulator(0.0, FloatAccumulatorParam())\n",
    "    totAccum = sc.accumulator(0.0, FloatAccumulatorParam())\n",
    "    \n",
    "    ############## YOUR CODE HERE ###############\n",
    "    \n",
    "    # write your helper functions here, \n",
    "    # please document the purpose of each clearly \n",
    "    # for reference, the master solution has 5 helper functions.\n",
    "        \n",
    "        \n",
    "    ###################################\n",
    "    # MAPPER\n",
    "    ###################################   \n",
    "    \n",
    "    def divideMass(row):\n",
    "        \"\"\"\n",
    "        Helper function to create a new record for any target node and calculate the mass it was given from a source node. Also pass on the graph \n",
    "        \n",
    "        Returns: \n",
    "            a list of tuples of (key, value) - key is the node ID and \n",
    "                                               value is either a tuple of (original mass, adjacency list, new mass) or \n",
    "                                                               a tuple of (0, mass passing on to a target node)\n",
    "        \"\"\"\n",
    "        sourceNode = row[0]\n",
    "        mass = row[1][0]\n",
    "        edges = row[1][1]\n",
    "        \n",
    "        if edges!={}: #if the node is not a dangling node\n",
    "            totalWeight = sum(edges.values())\n",
    "            for targetNode in edges.keys():\n",
    "                yield (targetNode, (0, mass/totalWeight * edges[targetNode])) #put a zero in the first position to flag this record as not part of the graph\n",
    "        yield (sourceNode, (mass, edges, 0.0)) # pass on the graph\n",
    "    \n",
    "    def updateRank(value):\n",
    "        \"\"\"\n",
    "        Helper function to calculate the new mass of a node \n",
    "        \n",
    "        Returns: (old mass, adjacency list, new mass)\n",
    "        \"\"\"\n",
    "        oldMass = value[0]\n",
    "        edges = value[1]\n",
    "        P = value[2]\n",
    "        \n",
    "        newMass = a.value/g.value + d.value*(dm.value/g.value+P)\n",
    "        return (oldMass, edges, newMass)\n",
    "    \n",
    "    ###################################\n",
    "    # REDUCER\n",
    "    ###################################\n",
    "    \n",
    "    def collectMass(value1, value2):\n",
    "        \"\"\"\n",
    "        Helper function to reduce records by summing the values of mass given by source nodes\n",
    "        \n",
    "        Returns: \n",
    "            a list of tuples of (key, value) - key is the node ID and \n",
    "                                               value is either a tuple of (original mass, adjacency list, new mass) or \n",
    "                                                               a tuple of (0, mass passing on to a target node)\n",
    "        \"\"\"\n",
    "        if value1[0]==0 and value2[0]==0: #when both values are not a record of the graph. simply sum the given weights\n",
    "            return (0, value1[1]+value2[1])\n",
    "        elif value1[0]!=0: #if the first value is a record of the graph, we sum the given weights in the last position of the tuple\n",
    "            return (value1[0], value1[1], value1[2] + value2[1])\n",
    "        else: #if the second value is a record of the graph, we sum the given weights in the last position of the tuple\n",
    "            return (value2[0], value2[1], value2[2] + value1[1])\n",
    "    \n",
    "    ###################################\n",
    "    # ACCUMULATOR\n",
    "    ###################################\n",
    "    \n",
    "    def collectDanglingMass(row):\n",
    "        \"\"\"\n",
    "        Helper function to sum the mass from all the dangling nodes\n",
    "        \"\"\"\n",
    "        sourceNode = row[0]\n",
    "        mass = row[1][0]\n",
    "        edges = row[1][1]\n",
    "        \n",
    "        if edges == {}: #if the node is a dangling node\n",
    "            mmAccum.add(mass)\n",
    "    \n",
    "    def collectDistributedMass(row):\n",
    "        \"\"\"\n",
    "        Helper function to sum the mass pass on the target nodes\n",
    "        \"\"\"\n",
    "        totAccum.add(row[1][2])\n",
    "    \n",
    "    def terminate(row):\n",
    "        \"\"\"\n",
    "        Helper function to sum the differences between the old mass and the new mass of each node\n",
    "        \"\"\"\n",
    "        if row[1][0] != row[1][2]:  \n",
    "            statusAccum.add(abs(row[1][0]-row[1][2]))\n",
    "        \n",
    "    # write your main Spark Job here (including the for loop to iterate)\n",
    "    # for reference, the master solution is 21 lines including comments & whitespace\n",
    "    \n",
    "    nodeCount = graphInitRDD.count() # get the count of total nodes\n",
    "    g = sc.broadcast(nodeCount) #broadcast node count to executors\n",
    "    \n",
    "    CONVERGENCE_THRESHOLD = 0.0 #set the convergence threshold to 0 since we are just trying to run a certain number iterations.\n",
    "    \n",
    "    for iteration in range(maxIter):\n",
    "        #reset all the accumulators\n",
    "        mmAccum = sc.accumulator(0.0, FloatAccumulatorParam())\n",
    "        totAccum = sc.accumulator(0.0, FloatAccumulatorParam())\n",
    "        statusAccum = sc.accumulator(0.0, FloatAccumulatorParam())\n",
    "        \n",
    "        #get the total mass of dangling nodes and broadcast it\n",
    "        graphInitRDD.foreach(collectDanglingMass)\n",
    "        dm = sc.broadcast(mmAccum.value)\n",
    "        \n",
    "        #start the main spark job of calculating new masses while preserving the graph \n",
    "        graphInitRDD = graphInitRDD.flatMap(divideMass).reduceByKey(collectMass).mapValues(updateRank).cache()\n",
    "        \n",
    "        #caculating the differences of between this iteration and last\n",
    "        graphInitRDD.foreach(terminate)\n",
    "        \n",
    "        #output results for debugging\n",
    "        if verbose:\n",
    "            #get the total mass distributed\n",
    "            graphInitRDD.foreach(collectDistributedMass)\n",
    "            print(\"-\"*50)  \n",
    "            print(\"iteration\", iteration + 1)\n",
    "            #print all the nodes\n",
    "            for i in graphInitRDD.collect():\n",
    "                print(i)\n",
    "            #print total mass distributed and total differences between last probability vector and current one\n",
    "            print(\"Total Mass Distributed: \", totAccum.value)\n",
    "            print(\"Total Mass Diff:\", statusAccum.value)\n",
    "            print(\"-\"*50) \n",
    "        \n",
    "        #replace old mass with new mass\n",
    "        graphInitRDD = graphInitRDD.mapValues(lambda value: (value[2], value[1])).cache()\n",
    "        \n",
    "        if statusAccum.value <= CONVERGENCE_THRESHOLD:\n",
    "            break\n",
    "    \n",
    "\n",
    " \n",
    "    steadyStateRDD = graphInitRDD.mapValues(lambda value: value[0]).cache()\n",
    "    ############## (END) YOUR CODE ###############\n",
    "    \n",
    "    return steadyStateRDD"
   ]
  },
  {
   "cell_type": "code",
   "execution_count": 40,
   "metadata": {},
   "outputs": [
    {
     "name": "stdout",
     "output_type": "stream",
     "text": [
      "--------------------------------------------------\n",
      "iteration 1\n",
      "('1', (0.09090909090909091, {}, 0.059297520661157024))\n",
      "('4', (0.09090909090909091, {'1': 1, '2': 1}, 0.06702479338842975))\n",
      "('8', (0.09090909090909091, {'2': 1, '5': 1}, 0.02066115702479339))\n",
      "('9', (0.09090909090909091, {'2': 1, '5': 1}, 0.02066115702479339))\n",
      "('10', (0.09090909090909091, {'5': 1}, 0.02066115702479339))\n",
      "('2', (0.09090909090909091, {'3': 1}, 0.29369146005509644))\n",
      "('5', (0.09090909090909091, {'4': 3, '2': 1, '6': 1}, 0.3426308539944903))\n",
      "('3', (0.09090909090909091, {'2': 2}, 0.09793388429752066))\n",
      "('6', (0.09090909090909091, {'2': 1, '5': 2}, 0.03611570247933884))\n",
      "('7', (0.09090909090909091, {'2': 1, '5': 1}, 0.02066115702479339))\n",
      "('11', (0.09090909090909091, {'5': 2}, 0.02066115702479339))\n",
      "Total Mass Distributed:  1.0\n",
      "Total Mass Diff: 0.9230578512396694\n",
      "--------------------------------------------------\n",
      "--------------------------------------------------\n",
      "iteration 2\n",
      "('1', (0.059297520661157024, {}, 0.046703981968444774))\n",
      "('4', (0.06702479338842975, {'1': 1, '2': 1}, 0.19296018031555218))\n",
      "('8', (0.02066115702479339, {'2': 1, '5': 1}, 0.018218444778362132))\n",
      "('9', (0.02066115702479339, {'2': 1, '5': 1}, 0.018218444778362132))\n",
      "('10', (0.02066115702479339, {'5': 1}, 0.018218444778362132))\n",
      "('2', (0.29369146005509644, {'3': 1}, 0.22477078637615824))\n",
      "('5', (0.3426308539944903, {'4': 3, '2': 1, '6': 1}, 0.10015095166541448))\n",
      "('3', (0.09793388429752066, {'2': 2}, 0.2678561858251941))\n",
      "('6', (0.03611570247933884, {'2': 1, '5': 2}, 0.07646568995742549))\n",
      "('7', (0.02066115702479339, {'2': 1, '5': 1}, 0.018218444778362132))\n",
      "('11', (0.02066115702479339, {'5': 2}, 0.018218444778362132))\n",
      "Total Mass Distributed:  0.9999999999999999\n",
      "Total Mass Diff: 0.672415351865765\n",
      "--------------------------------------------------\n",
      "--------------------------------------------------\n",
      "iteration 3\n",
      "('1', (0.046703981968444774, {}, 0.09925338433167132))\n",
      "('4', (0.19296018031555218, {'1': 1, '2': 1}, 0.06832229304692303))\n",
      "('8', (0.018218444778362132, {'2': 1, '5': 1}, 0.017245307697561642))\n",
      "('9', (0.018218444778362132, {'2': 1, '5': 1}, 0.017245307697561642))\n",
      "('10', (0.018218444778362132, {'5': 1}, 0.017245307697561642))\n",
      "('2', (0.22477078637615824, {'3': 1}, 0.388850599979889))\n",
      "('5', (0.10015095166541448, {'4': 3, '2': 1, '6': 1}, 0.1147757385557301))\n",
      "('3', (0.2678561858251941, {'2': 2}, 0.20830047611729613))\n",
      "('6', (0.07646568995742549, {'2': 1, '5': 2}, 0.034270969480682104))\n",
      "('7', (0.018218444778362132, {'2': 1, '5': 1}, 0.017245307697561642))\n",
      "('11', (0.018218444778362132, {'5': 2}, 0.017245307697561642))\n",
      "Total Mass Distributed:  0.9999999999999998\n",
      "Total Mass Diff: 0.4625080057145459\n",
      "--------------------------------------------------\n",
      "--------------------------------------------------\n",
      "iteration 4\n",
      "('1', (0.09925338433167132, {}, 0.050342917879662344))\n",
      "('4', (0.06832229304692303, {'1': 1, '2': 1}, 0.07984156999814242))\n",
      "('8', (0.017245307697561642, {'2': 1, '5': 1}, 0.021305943334720058))\n",
      "('9', (0.017245307697561642, {'2': 1, '5': 1}, 0.021305943334720058))\n",
      "('10', (0.017245307697561642, {'5': 1}, 0.021305943334720058))\n",
      "('2', (0.388850599979889, {'3': 1}, 0.2786080734677558))\n",
      "('5', (0.1147757385557301, {'4': 3, '2': 1, '6': 1}, 0.09203094977401914))\n",
      "('3', (0.20830047611729613, {'2': 2}, 0.3518289533176257))\n",
      "('6', (0.034270969480682104, {'2': 1, '5': 2}, 0.040817818889194175))\n",
      "('7', (0.017245307697561642, {'2': 1, '5': 1}, 0.021305943334720058))\n",
      "('11', (0.017245307697561642, {'5': 2}, 0.021305943334720058))\n",
      "Total Mass Distributed:  0.9999999999999998\n",
      "Total Mass Diff: 0.36379556349170633\n",
      "--------------------------------------------------\n",
      "--------------------------------------------------\n",
      "iteration 5\n",
      "('1', (0.050342917879662344, {}, 0.051459165449002614))\n",
      "('4', (0.07984156999814242, {'1': 1, '2': 1}, 0.06446228258454186))\n",
      "('8', (0.021305943334720058, {'2': 1, '5': 1}, 0.01752649819979209))\n",
      "('9', (0.021305943334720058, {'2': 1, '5': 1}, 0.01752649819979209))\n",
      "('10', (0.021305943334720058, {'5': 1}, 0.01752649819979209))\n",
      "('2', (0.2786080734677558, {'3': 1}, 0.4048891636676074))\n",
      "('5', (0.09203094977401914, {'4': 3, '2': 1, '6': 1}, 0.10404177699112763))\n",
      "('3', (0.3518289533176257, {'2': 2}, 0.2543433606473845))\n",
      "('6', (0.040817818889194175, {'2': 1, '5': 2}, 0.033171759661375345))\n",
      "('7', (0.021305943334720058, {'2': 1, '5': 1}, 0.01752649819979209))\n",
      "('11', (0.021305943334720058, {'5': 2}, 0.01752649819979209))\n",
      "Total Mass Distributed:  0.9999999999999998\n",
      "Total Mass Diff: 0.2788163299726008\n",
      "--------------------------------------------------\n",
      "--------------------------------------------------\n",
      "iteration 6\n",
      "('1', (0.051459165449002614, {}, 0.04500922379221685))\n",
      "('4', (0.06446228258454186, {'1': 1, '2': 1}, 0.07067405995926167))\n",
      "('8', (0.01752649819979209, {'2': 1, '5': 1}, 0.017612753693786565))\n",
      "('9', (0.01752649819979209, {'2': 1, '5': 1}, 0.017612753693786565))\n",
      "('10', (0.01752649819979209, {'5': 1}, 0.017612753693786565))\n",
      "('2', (0.4048891636676074, {'3': 1}, 0.31063313287310995))\n",
      "('5', (0.10404177699112763, {'4': 3, '2': 1, '6': 1}, 0.0885514163129474))\n",
      "('3', (0.2543433606473845, {'2': 2}, 0.3617685428112528))\n",
      "('6', (0.033171759661375345, {'2': 1, '5': 2}, 0.03529985578227826))\n",
      "('7', (0.01752649819979209, {'2': 1, '5': 1}, 0.017612753693786565))\n",
      "('11', (0.01752649819979209, {'5': 2}, 0.017612753693786565))\n",
      "Total Mass Distributed:  0.9999999999999998\n",
      "Total Mass Diff: 0.23239266625892685\n",
      "--------------------------------------------------\n",
      "--------------------------------------------------\n",
      "iteration 7\n",
      "('1', (0.04500922379221685, {}, 0.04715082459390296))\n",
      "('4', (0.07067405995926167, {'1': 1, '2': 1}, 0.06227557143081992))\n",
      "('8', (0.017612753693786565, {'2': 1, '5': 1}, 0.017114349111216755))\n",
      "('9', (0.017612753693786565, {'2': 1, '5': 1}, 0.017114349111216755))\n",
      "('10', (0.017612753693786565, {'5': 1}, 0.017114349111216755))\n",
      "('2', (0.31063313287310995, {'3': 1}, 0.40216571352122565))\n",
      "('5', (0.0885514163129474, {'4': 3, '2': 1, '6': 1}, 0.08951554296018947))\n",
      "('3', (0.3617685428112528, {'2': 2}, 0.28115251205336017))\n",
      "('6', (0.03529985578227826, {'2': 1, '5': 2}, 0.032168089884417814))\n",
      "('7', (0.017612753693786565, {'2': 1, '5': 1}, 0.017114349111216755))\n",
      "('11', (0.017612753693786565, {'5': 2}, 0.017114349111216755))\n",
      "Total Mass Distributed:  0.9999999999999998\n",
      "Total Mass Diff: 0.18927661619408775\n",
      "--------------------------------------------------\n",
      "--------------------------------------------------\n",
      "iteration 8\n",
      "('1', (0.04715082459390296, {}, 0.04374695430399097))\n",
      "('4', (0.06227557143081992, {'1': 1, '2': 1}, 0.06293276335558914))\n",
      "('8', (0.017114349111216755, {'2': 1, '5': 1}, 0.0172798364458925))\n",
      "('9', (0.017114349111216755, {'2': 1, '5': 1}, 0.0172798364458925))\n",
      "('10', (0.017114349111216755, {'5': 1}, 0.0172798364458925))\n",
      "('2', (0.40216571352122565, {'3': 1}, 0.3288793191032991))\n",
      "('5', (0.08951554296018947, {'4': 3, '2': 1, '6': 1}, 0.0864236093195991))\n",
      "('3', (0.28115251205336017, {'2': 2}, 0.3591206929389343))\n",
      "('6', (0.032168089884417814, {'2': 1, '5': 2}, 0.03249747874912471))\n",
      "('7', (0.017114349111216755, {'2': 1, '5': 1}, 0.0172798364458925))\n",
      "('11', (0.017114349111216755, {'5': 2}, 0.0172798364458925))\n",
      "Total Mass Distributed:  0.9999999999999998\n",
      "Total Mass Diff: 0.1595643966968579\n",
      "--------------------------------------------------\n",
      "--------------------------------------------------\n",
      "iteration 9\n",
      "('1', (0.04374695430399097, {}, 0.04376323453143378))\n",
      "('4', (0.06293276335558914, {'1': 1, '2': 1}, 0.06109285085830393))\n",
      "('8', (0.0172798364458925, {'2': 1, '5': 1}, 0.017016810105308394))\n",
      "('9', (0.0172798364458925, {'2': 1, '5': 1}, 0.017016810105308394))\n",
      "('10', (0.0172798364458925, {'5': 1}, 0.017016810105308394))\n",
      "('2', (0.3288793191032991, {'3': 1}, 0.3949472475612913))\n",
      "('5', (0.0864236093195991, {'4': 3, '2': 1, '6': 1}, 0.08683956148967592))\n",
      "('3', (0.3591206929389343, {'2': 2}, 0.2965642313431126))\n",
      "('6', (0.03249747874912471, {'2': 1, '5': 2}, 0.03170882368964024))\n",
      "('7', (0.0172798364458925, {'2': 1, '5': 1}, 0.017016810105308394))\n",
      "('11', (0.0172798364458925, {'5': 2}, 0.017016810105308394))\n",
      "Total Mass Distributed:  0.9999999999999998\n",
      "Total Mass Diff: 0.13300032171102374\n",
      "--------------------------------------------------\n",
      "--------------------------------------------------\n",
      "iteration 10\n",
      "('1', (0.04376323453143378, {}, 0.04298252973766269))\n",
      "('4', (0.06109285085830393, {'1': 1, '2': 1}, 0.061306244482618226))\n",
      "('8', (0.017016810105308394, {'2': 1, '5': 1}, 0.017018068122883517))\n",
      "('9', (0.017016810105308394, {'2': 1, '5': 1}, 0.017018068122883517))\n",
      "('10', (0.017016810105308394, {'5': 1}, 0.017018068122883517))\n",
      "('2', (0.3949472475612913, {'3': 1}, 0.3405054514288862))\n",
      "('5', (0.08683956148967592, {'4': 3, '2': 1, '6': 1}, 0.08561141161030547))\n",
      "('3', (0.2965642313431126, {'2': 2}, 0.35272322854998106))\n",
      "('6', (0.03170882368964024, {'2': 1, '5': 2}, 0.031780793576128424))\n",
      "('7', (0.017016810105308394, {'2': 1, '5': 1}, 0.017018068122883517))\n",
      "('11', (0.017016810105308394, {'5': 2}, 0.017018068122883517))\n",
      "Total Mass Distributed:  0.9999999999999997\n",
      "Total Mass Diff: 0.11290130161109317\n",
      "--------------------------------------------------\n",
      "--------------------------------------------------\n",
      "iteration 11\n",
      "('1', (0.04298252973766269, {}, 0.043012894839386674))\n",
      "('4', (0.061306244482618226, {'1': 1, '2': 1}, 0.060619560855529726))\n",
      "('8', (0.017018068122883517, {'2': 1, '5': 1}, 0.016957740934273935))\n",
      "('9', (0.017018068122883517, {'2': 1, '5': 1}, 0.016957740934273935))\n",
      "('10', (0.017018068122883517, {'5': 1}, 0.016957740934273935))\n",
      "('2', (0.3405054514288862, {'3': 1}, 0.38808417411720203))\n",
      "('5', (0.08561141161030547, {'4': 3, '2': 1, '6': 1}, 0.08559560995965851))\n",
      "('3', (0.35272322854998106, {'2': 2}, 0.3063873746488272))\n",
      "('6', (0.031780793576128424, {'2': 1, '5': 2}, 0.03151168090802586))\n",
      "('7', (0.017018068122883517, {'2': 1, '5': 1}, 0.016957740934273935))\n",
      "('11', (0.017018068122883517, {'5': 2}, 0.016957740934273935))\n",
      "Total Mass Distributed:  0.9999999999999997\n",
      "Total Mass Diff: 0.09521817558007958\n",
      "--------------------------------------------------\n",
      "--------------------------------------------------\n",
      "iteration 12\n",
      "('1', (0.043012894839386674, {}, 0.04272340069209819))\n",
      "('4', (0.060619560855529726, {'1': 1, '2': 1}, 0.060613848407923894))\n",
      "('8', (0.016957740934273935, {'2': 1, '5': 1}, 0.01696008732849806))\n",
      "('9', (0.016957740934273935, {'2': 1, '5': 1}, 0.01696008732849806))\n",
      "('10', (0.016957740934273935, {'5': 1}, 0.01696008732849806))\n",
      "('2', (0.38808417411720203, {'3': 1}, 0.34825335211854985))\n",
      "('5', (0.08559560995965851, {'4': 3, '2': 1, '6': 1}, 0.08526598578917768))\n",
      "('3', (0.3063873746488272, {'2': 2}, 0.3468316353281198))\n",
      "('6', (0.03151168090802586, {'2': 1, '5': 2}, 0.03151134102164001))\n",
      "('7', (0.016957740934273935, {'2': 1, '5': 1}, 0.01696008732849806))\n",
      "('11', (0.016957740934273935, {'5': 2}, 0.01696008732849806))\n",
      "Total Mass Distributed:  0.9999999999999998\n",
      "Total Mass Diff: 0.08091198530082638\n",
      "--------------------------------------------------\n",
      "--------------------------------------------------\n",
      "iteration 13\n",
      "('1', (0.04272340069209819, {}, 0.04269860289957524))\n",
      "('4', (0.060613848407923894, {'1': 1, '2': 1}, 0.0604233700786882))\n",
      "('8', (0.01696008732849806, {'2': 1, '5': 1}, 0.016937717326207587))\n",
      "('9', (0.01696008732849806, {'2': 1, '5': 1}, 0.016937717326207587))\n",
      "('10', (0.01696008732849806, {'5': 1}, 0.016937717326207587))\n",
      "('2', (0.34825335211854985, {'3': 1}, 0.3825530351459369))\n",
      "('5', (0.08526598578917768, {'4': 3, '2': 1, '6': 1}, 0.08525040370741865))\n",
      "('3', (0.3468316353281198, {'2': 2}, 0.3129530666269749))\n",
      "('6', (0.03151134102164001, {'2': 1, '5': 2}, 0.03143293491036779))\n",
      "('7', (0.01696008732849806, {'2': 1, '5': 1}, 0.016937717326207587))\n",
      "('11', (0.01696008732849806, {'5': 2}, 0.016937717326207587))\n",
      "Total Mass Distributed:  0.9999999999999998\n",
      "Total Mass Diff: 0.06859936605477418\n",
      "--------------------------------------------------\n",
      "--------------------------------------------------\n",
      "iteration 14\n",
      "('1', (0.04269860289957524, {}, 0.04261573341659148))\n",
      "('4', (0.0604233700786882, {'1': 1, '2': 1}, 0.06041350702393251))\n",
      "('8', (0.016937717326207587, {'2': 1, '5': 1}, 0.016935801133148996))\n",
      "('9', (0.016937717326207587, {'2': 1, '5': 1}, 0.016935801133148996))\n",
      "('10', (0.016937717326207587, {'5': 1}, 0.016935801133148996))\n",
      "('2', (0.3825530351459369, {'3': 1}, 0.3536199964953002))\n",
      "('5', (0.08525040370741865, {'4': 3, '2': 1, '6': 1}, 0.08513750662782499))\n",
      "('3', (0.3129530666269749, {'2': 2}, 0.34210588100719536))\n",
      "('6', (0.03143293491036779, {'2': 1, '5': 2}, 0.031428369763410166))\n",
      "('7', (0.016937717326207587, {'2': 1, '5': 1}, 0.016935801133148996))\n",
      "('11', (0.016937717326207587, {'5': 2}, 0.016935801133148996))\n",
      "Total Mass Distributed:  0.9999999999999996\n",
      "Total Mass Diff: 0.05830562876044086\n",
      "--------------------------------------------------\n",
      "--------------------------------------------------\n",
      "iteration 15\n",
      "('1', (0.04261573341659148, {}, 0.04260513806736247))\n",
      "('4', (0.06041350702393251, {'1': 1, '2': 1}, 0.060349525962381904))\n",
      "('8', (0.016935801133148996, {'2': 1, '5': 1}, 0.01692939758219116))\n",
      "('9', (0.016935801133148996, {'2': 1, '5': 1}, 0.01692939758219116))\n",
      "('10', (0.016935801133148996, {'5': 1}, 0.01692939758219116))\n",
      "('2', (0.3536199964953002, {'3': 1}, 0.37836636426127324))\n",
      "('5', (0.08513750662782499, {'4': 3, '2': 1, '6': 1}, 0.08512281548590853))\n",
      "('3', (0.34210588100719536, {'2': 2}, 0.3175063946031963))\n",
      "('6', (0.031428369763410166, {'2': 1, '5': 2}, 0.03140277370892141))\n",
      "('7', (0.016935801133148996, {'2': 1, '5': 1}, 0.01692939758219116))\n",
      "('11', (0.016935801133148996, {'5': 2}, 0.01692939758219116))\n",
      "Total Mass Distributed:  0.9999999999999996\n",
      "Total Mass Diff: 0.04949273553194613\n",
      "--------------------------------------------------\n",
      "--------------------------------------------------\n",
      "iteration 16\n",
      "('1', (0.04260513806736247, {}, 0.042577127384672134))\n",
      "('4', (0.060349525962381904, {'1': 1, '2': 1}, 0.060341214748473176))\n",
      "('8', (0.01692939758219116, {'2': 1, '5': 1}, 0.016928578850659827))\n",
      "('9', (0.01692939758219116, {'2': 1, '5': 1}, 0.016928578850659827))\n",
      "('10', (0.01692939758219116, {'5': 1}, 0.016928578850659827))\n",
      "('2', (0.37836636426127324, {'3': 1}, 0.35741087589814824))\n",
      "('5', (0.08512281548590853, {'4': 3, '2': 1, '6': 1}, 0.08508844175940065))\n",
      "('3', (0.3175063946031963, {'2': 2}, 0.3385399884727421))\n",
      "('6', (0.03140277370892141, {'2': 1, '5': 2}, 0.031399457483264274))\n",
      "('7', (0.01692939758219116, {'2': 1, '5': 1}, 0.016928578850659827))\n",
      "('11', (0.01692939758219116, {'5': 2}, 0.016928578850659827))\n",
      "Total Mass Distributed:  0.9999999999999996\n",
      "Total Mass Diff: 0.042067187739091516\n",
      "--------------------------------------------------\n",
      "--------------------------------------------------\n",
      "iteration 17\n",
      "('1', (0.042577127384672134, {}, 0.042571430656916674))\n",
      "('4', (0.060341214748473176, {'1': 1, '2': 1}, 0.06032151968610991))\n",
      "('8', (0.016928578850659827, {'2': 1, '5': 1}, 0.016926414388815574))\n",
      "('9', (0.016928578850659827, {'2': 1, '5': 1}, 0.016926414388815574))\n",
      "('10', (0.016928578850659827, {'5': 1}, 0.016926414388815574))\n",
      "('2', (0.35741087589814824, {'3': 1}, 0.3752759069460283))\n",
      "('5', (0.08508844175940065, {'4': 3, '2': 1, '6': 1}, 0.08508196237671165))\n",
      "('3', (0.3385399884727421, {'2': 2}, 0.32072565890224153))\n",
      "('6', (0.031399457483264274, {'2': 1, '5': 2}, 0.031391449487913684))\n",
      "('7', (0.016928578850659827, {'2': 1, '5': 1}, 0.016926414388815574))\n",
      "('11', (0.016928578850659827, {'5': 2}, 0.016926414388815574))\n",
      "Total Mass Distributed:  0.9999999999999998\n",
      "Total Mass Diff: 0.03573006209576021\n",
      "--------------------------------------------------\n",
      "--------------------------------------------------\n",
      "iteration 18\n",
      "('1', (0.042571430656916674, {}, 0.04256262005372209))\n",
      "('4', (0.06032151968610991, {'1': 1, '2': 1}, 0.06031777499924832))\n",
      "('8', (0.016926414388815574, {'2': 1, '5': 1}, 0.016925974187125378))\n",
      "('9', (0.016926414388815574, {'2': 1, '5': 1}, 0.016925974187125378))\n",
      "('10', (0.016926414388815574, {'5': 1}, 0.016925974187125378))\n",
      "('2', (0.3752759069460283, {'3': 1}, 0.3601187860919837))\n",
      "('5', (0.08508196237671165, {'4': 3, '2': 1, '6': 1}, 0.0850705450370028))\n",
      "('3', (0.32072565890224153, {'2': 2}, 0.33591049509124943))\n",
      "('6', (0.031391449487913684, {'2': 1, '5': 2}, 0.031389907791166356))\n",
      "('7', (0.016926414388815574, {'2': 1, '5': 1}, 0.016925974187125378))\n",
      "('11', (0.016926414388815574, {'5': 2}, 0.016925974187125378))\n",
      "Total Mass Distributed:  0.9999999999999997\n",
      "Total Mass Diff: 0.030369672378015806\n",
      "--------------------------------------------------\n",
      "--------------------------------------------------\n",
      "iteration 19\n",
      "('1', (0.04256262005372209, {}, 0.04256034774246815))\n",
      "('4', (0.06031777499924832, {'1': 1, '2': 1}, 0.06031127133665904))\n",
      "('8', (0.016925974187125378, {'2': 1, '5': 1}, 0.016925293367787614))\n",
      "('9', (0.016925974187125378, {'2': 1, '5': 1}, 0.016925293367787614))\n",
      "('10', (0.016925974187125378, {'5': 1}, 0.016925293367787614))\n",
      "('2', (0.3601187860919837, {'3': 1}, 0.3730206855224026))\n",
      "('5', (0.0850705450370028, {'4': 3, '2': 1, '6': 1}, 0.08506768098947988))\n",
      "('3', (0.33591049509124943, {'2': 2}, 0.32302626154597375))\n",
      "('6', (0.031389907791166356, {'2': 1, '5': 2}, 0.03138728602407809))\n",
      "('7', (0.016925974187125378, {'2': 1, '5': 1}, 0.016925293367787614))\n",
      "('11', (0.016925974187125378, {'5': 2}, 0.016925293367787614))\n",
      "Total Mass Distributed:  0.9999999999999994\n",
      "Total Mass Diff: 0.025803798860837775\n",
      "--------------------------------------------------\n",
      "--------------------------------------------------\n",
      "iteration 20\n",
      "('1', (0.04256034774246815, {}, 0.04255740809817991))\n",
      "('4', (0.06031127133665904, {'1': 1, '2': 1}, 0.06030963508473455))\n",
      "('8', (0.016925293367787614, {'2': 1, '5': 1}, 0.01692511778009981))\n",
      "('9', (0.016925293367787614, {'2': 1, '5': 1}, 0.01692511778009981))\n",
      "('10', (0.016925293367787614, {'5': 1}, 0.01692511778009981))\n",
      "('2', (0.3730206855224026, {'3': 1}, 0.3620640495978871))\n",
      "('5', (0.08506768098947988, {'4': 3, '2': 1, '6': 1}, 0.08506399429624555))\n",
      "('3', (0.32302626154597375, {'2': 2}, 0.333992700474142))\n",
      "('6', (0.03138728602407809, {'2': 1, '5': 2}, 0.03138662354831139))\n",
      "('7', (0.016925293367787614, {'2': 1, '5': 1}, 0.01692511778009981))\n",
      "('11', (0.016925293367787614, {'5': 2}, 0.01692511778009981))\n",
      "Total Mass Distributed:  0.9999999999999996\n",
      "Total Mass Diff: 0.02193287785633646\n",
      "--------------------------------------------------\n",
      "...trained 20 iterations in 8.905953645706177 seconds.\n",
      "Top 20 ranked nodes:\n"
     ]
    },
    {
     "data": {
      "text/plain": [
       "[('2', 0.3620640495978871),\n",
       " ('3', 0.333992700474142),\n",
       " ('5', 0.08506399429624555),\n",
       " ('4', 0.06030963508473455),\n",
       " ('1', 0.04255740809817991),\n",
       " ('6', 0.03138662354831139),\n",
       " ('8', 0.01692511778009981),\n",
       " ('9', 0.01692511778009981),\n",
       " ('10', 0.01692511778009981),\n",
       " ('7', 0.01692511778009981),\n",
       " ('11', 0.01692511778009981)]"
      ]
     },
     "execution_count": 40,
     "metadata": {},
     "output_type": "execute_result"
    }
   ],
   "source": [
    "# part d - run PageRank on the test graph (RUN THIS CELL AS IS)\n",
    "# NOTE: while developing your code you may want turn on the verbose option\n",
    "nIter = 20\n",
    "testGraphRDD = initGraph(testRDD)\n",
    "start = time.time()\n",
    "test_results = runPageRank(testGraphRDD, alpha = 0.15, maxIter = nIter, verbose = True)\n",
    "print(f'...trained {nIter} iterations in {time.time() - start} seconds.')\n",
    "print(f'Top 20 ranked nodes:')\n",
    "test_results.takeOrdered(20, key=lambda x: -x[1])"
   ]
  },
  {
   "cell_type": "markdown",
   "metadata": {},
   "source": [
    "__`expected results for the test graph:`__\n",
    "```\n",
    "[(2, 0.3620640495978871),\n",
    " (3, 0.333992700474142),\n",
    " (5, 0.08506399429624555),\n",
    " (4, 0.06030963508473455),\n",
    " (1, 0.04255740809817991),\n",
    " (6, 0.03138662354831139),\n",
    " (8, 0.01692511778009981),\n",
    " (10, 0.01692511778009981),\n",
    " (7, 0.01692511778009981),\n",
    " (9, 0.01692511778009981),\n",
    " (11, 0.01692511778009981)]\n",
    "```"
   ]
  },
  {
   "cell_type": "code",
   "execution_count": null,
   "metadata": {},
   "outputs": [],
   "source": [
    "# part d - run PageRank on the full graph (RUN THIS CELL AS IS)\n",
    "# NOTE: wikiGraphRDD should have been computed & cached above!\n",
    "nIter = 10\n",
    "start = time.time()\n",
    "full_results = runPageRank(wikiGraphRDD, alpha = 0.15, maxIter = nIter, verbose = True)\n",
    "print(f'...trained {nIter} iterations in {time.time() - start} seconds.')\n",
    "print(f'Top 20 ranked nodes:')\n",
    "full_results.takeOrdered(20, key=lambda x: - x[1])"
   ]
  },
  {
   "cell_type": "markdown",
   "metadata": {},
   "source": [
    "Instead of running the cell above, submit a spark job to GCP and run PageRank algorithm there and save results."
   ]
  },
  {
   "cell_type": "code",
   "execution_count": 3,
   "metadata": {
    "scrolled": true
   },
   "outputs": [],
   "source": [
    "!python3 submit_job_to_cluster.py \\\n",
    "    --project_id=\"adroit-chemist-229001\" \\\n",
    "    --zone=us-central1-b \\\n",
    "    --cluster_name=\"hw5-2\" \\\n",
    "    --gcs_bucket=\"w261-bucket-hou\" \\\n",
    "    --key_file=$HOME/w261.json \\\n",
    "    --create_new_cluster \\\n",
    "    --pyspark_file=hw5_script.py > hw5_results.txt"
   ]
  },
  {
   "cell_type": "code",
   "execution_count": 8,
   "metadata": {},
   "outputs": [
    {
     "name": "stdout",
     "output_type": "stream",
     "text": [
      "PageRank  | Page ID        \n",
      "======================\n",
      "0.001545  | 13455888       \n",
      "0.000671  | 4695850        \n",
      "0.000598  | 5051368        \n",
      "0.000598  | 1184351        \n",
      "0.000462  | 2437837        \n",
      "0.000455  | 6076759        \n",
      "0.000442  | 4196067        \n",
      "0.000442  | 13425865       \n",
      "0.000422  | 6172466        \n",
      "0.000401  | 1384888        \n",
      "0.000396  | 6113490        \n",
      "0.000394  | 14112583       \n",
      "0.000370  | 7902219        \n",
      "0.000365  | 10390714       \n",
      "0.000362  | 12836211       \n",
      "0.000352  | 6237129        \n",
      "0.000349  | 6416278        \n",
      "0.000339  | 13432150       \n",
      "0.000333  | 1516699        \n",
      "0.000308  | 7990491        \n"
     ]
    }
   ],
   "source": [
    "#Open the result save and extract the top 20 pages having the highest ranks\n",
    "#The file was renamed as hw5_results_submission.txt to avoid being over written.\n",
    "\n",
    "f = open(\"hw5_results_submission.txt\", \"rt\")\n",
    "content = f.read()\n",
    "f.close()\n",
    "\n",
    "search_key = r\"Top 20 ranked nodes:\\n\"\n",
    "start_pos = content.find(search_key) + len(search_key)\n",
    "end_pos = content.find(r\"\\n\", start_pos)\n",
    "topNodes = ast.literal_eval(content[start_pos:end_pos])\n",
    "\n",
    "print('%-10s| %-15s' %('PageRank','Page ID'))\n",
    "print('='*22)\n",
    "for line in topNodes:\n",
    "    print('%-10.6f| %-15s' %(line[1], line[0]))"
   ]
  },
  {
   "cell_type": "code",
   "execution_count": 13,
   "metadata": {},
   "outputs": [
    {
     "data": {
      "text/plain": [
       "['! $var = &quot;&quot;\\t1\\t1\\t0']"
      ]
     },
     "execution_count": 13,
     "metadata": {},
     "output_type": "execute_result"
    }
   ],
   "source": [
    "# title\\t indx\\t inDeg\\t outDeg\n",
    "indexRDD.take(1)"
   ]
  },
  {
   "cell_type": "code",
   "execution_count": 55,
   "metadata": {},
   "outputs": [],
   "source": [
    "namesKV_RDD = indexRDD.map(lambda x: (int(x.split('\\t')[1]), x.split('\\t')[0]))"
   ]
  },
  {
   "cell_type": "code",
   "execution_count": 56,
   "metadata": {},
   "outputs": [
    {
     "data": {
      "text/plain": [
       "[(1, '! $var = &quot;&quot;')]"
      ]
     },
     "execution_count": 56,
     "metadata": {},
     "output_type": "execute_result"
    }
   ],
   "source": [
    "namesKV_RDD.take(1)"
   ]
  },
  {
   "cell_type": "code",
   "execution_count": 10,
   "metadata": {},
   "outputs": [],
   "source": [
    "# We should have saved these above, but it takes too long to run in the cloud ($$$), so for expedience:\n",
    "top_20 = [(13455888, 0.0015447247129832947),\n",
    " (4695850, 0.0006710240718906518),\n",
    " (5051368, 0.0005983856809747697),\n",
    " (1184351, 0.0005982073536467391),\n",
    " (2437837, 0.0004624928928940748),\n",
    " (6076759, 0.00045509400641448284),\n",
    " (4196067, 0.0004423778888372447),\n",
    " (13425865, 0.00044155351714348035),\n",
    " (6172466, 0.0004224002001845032),\n",
    " (1384888, 0.0004012895604073632),\n",
    " (6113490, 0.00039578924771805474),\n",
    " (14112583, 0.0003943847283754762),\n",
    " (7902219, 0.000370098784735699),\n",
    " (10390714, 0.0003650264964328283),\n",
    " (12836211, 0.0003619948863114985),\n",
    " (6237129, 0.0003519555847625285),\n",
    " (6416278, 0.00034866235645266493),\n",
    " (13432150, 0.00033936510637418247),\n",
    " (1516699, 0.00033297500286244265),\n",
    " (7990491, 0.00030760906265869104)]"
   ]
  },
  {
   "cell_type": "code",
   "execution_count": 17,
   "metadata": {},
   "outputs": [],
   "source": [
    "top_20_RDD = sc.parallelize(top_20)"
   ]
  },
  {
   "cell_type": "code",
   "execution_count": 18,
   "metadata": {},
   "outputs": [
    {
     "data": {
      "text/plain": [
       "[(13455888, 0.0015447247129832947)]"
      ]
     },
     "execution_count": 18,
     "metadata": {},
     "output_type": "execute_result"
    }
   ],
   "source": [
    "top_20_RDD.take(1)"
   ]
  },
  {
   "cell_type": "markdown",
   "metadata": {},
   "source": [
    "# Extra Credit\n",
    "(The combined extra credit points amount to approximately 5 percentage points on your final grade.)\n",
    "\n",
    "## EC 1 - 5pts\n",
    "The indexRDD we created earlier from the indices.txt file contains the titles of the pages and thier IDs.\n",
    "\n",
    "* __a) code:__ Join this dataset with your top 20 results.\n",
    "* __b) code:__ Print the results"
   ]
  },
  {
   "cell_type": "markdown",
   "metadata": {},
   "source": [
    "## Join with indexRDD and print pretty"
   ]
  },
  {
   "cell_type": "code",
   "execution_count": 13,
   "metadata": {},
   "outputs": [],
   "source": [
    "# part a\n",
    "joinedWithNames = None\n",
    "############## YOUR CODE HERE ###############\n",
    "top = sc.parallelize(top_20)\n",
    "joinedWithNames = indexRDD.map(lambda x: (int(x.split('\\t')[1]), x.split('\\t')[0])).join(top).takeOrdered(20, key=lambda x: -x[1][1])\n",
    "############## END YOUR CODE ###############"
   ]
  },
  {
   "cell_type": "code",
   "execution_count": 14,
   "metadata": {},
   "outputs": [
    {
     "name": "stdout",
     "output_type": "stream",
     "text": [
      "PageRank  \t| Page id   \t| Title\n",
      "====================================================================================================\n",
      "0.001545\t|   13455888\t| United States\n",
      "0.000671\t|    4695850\t| France\n",
      "0.000598\t|    5051368\t| Germany\n",
      "0.000598\t|    1184351\t| Animal\n",
      "0.000462\t|    2437837\t| Canada\n",
      "0.000455\t|    6076759\t| India\n",
      "0.000442\t|    4196067\t| England\n",
      "0.000442\t|   13425865\t| United Kingdom\n",
      "0.000422\t|    6172466\t| Iran\n",
      "0.000401\t|    1384888\t| Arthropod\n",
      "0.000396\t|    6113490\t| Insect\n",
      "0.000394\t|   14112583\t| World War II\n",
      "0.000370\t|    7902219\t| List of sovereign states\n",
      "0.000365\t|   10390714\t| Poland\n",
      "0.000362\t|   12836211\t| The New York Times\n",
      "0.000352\t|    6237129\t| Italy\n",
      "0.000349\t|    6416278\t| Japan\n",
      "0.000339\t|   13432150\t| United States Census Bureau\n",
      "0.000333\t|    1516699\t| Australia\n",
      "0.000308\t|    7990491\t| London\n"
     ]
    }
   ],
   "source": [
    "# part b\n",
    "# Feel free to modify this cell to suit your implementation, but please keep the formatting and sort order.\n",
    "print(\"{:10s}\\t| {:10s}\\t| {}\".format(\"PageRank\",\"Page id\",\"Title\"))\n",
    "print(\"=\"*100)\n",
    "for r in joinedWithNames:\n",
    "    print (\"{:6f}\\t| {:10d}\\t| {}\".format(r[1][1],r[0],r[1][0]))"
   ]
  },
  {
   "cell_type": "code",
   "execution_count": null,
   "metadata": {},
   "outputs": [],
   "source": []
  },
  {
   "cell_type": "markdown",
   "metadata": {},
   "source": [
    "## GraphFrames\n",
    "## EC 2 - 30pts\n",
    "GraphFrames is a graph library which is built on top of the Spark DataFrames API.\n",
    "\n",
    "* __a) code:__ Using the same dataset, run the graphframes implementation of pagerank.\n",
    "* __b) code:__ Join the top 20 results with indices.txt and display in the same format as above.\n",
    "* __c) short answer:__ Compare your results with the results from graphframes.\n",
    "\n",
    "__NOTE:__ Feel free to create as many code cells as you need. Code should be clear and concise - do not include your scratch work. Comment your code if it's not self annotating."
   ]
  },
  {
   "cell_type": "code",
   "execution_count": null,
   "metadata": {},
   "outputs": [],
   "source": [
    "from graphframes import *"
   ]
  },
  {
   "cell_type": "code",
   "execution_count": null,
   "metadata": {},
   "outputs": [],
   "source": [
    "from pyspark.sql import functions as F"
   ]
  },
  {
   "cell_type": "code",
   "execution_count": null,
   "metadata": {},
   "outputs": [],
   "source": [
    "# load the data into Spark RDDs for convenience of use later (RUN THIS CELL AS IS)\n",
    "testRDD = sc.textFile('gs://w261-bucket/wiki/test_graph.txt')\n",
    "indexRDD = sc.textFile('gs://w261-bucket/wiki/indices.txt')\n",
    "wikiRDD = sc.textFile('gs://w261-bucket/wiki/wiki_graph.txt')"
   ]
  },
  {
   "cell_type": "code",
   "execution_count": null,
   "metadata": {},
   "outputs": [],
   "source": [
    "DF = wikiRDD.map(lambda x: (x.split('\\t')[0], ast.literal_eval(x.split('\\t')[1]))).toDF()"
   ]
  },
  {
   "cell_type": "code",
   "execution_count": null,
   "metadata": {},
   "outputs": [],
   "source": [
    "%%time\n",
    "DF.take(1)"
   ]
  },
  {
   "cell_type": "code",
   "execution_count": null,
   "metadata": {},
   "outputs": [],
   "source": [
    "%%time\n",
    "v = DF.select('_1').withColumnRenamed('_1','id').distinct()"
   ]
  },
  {
   "cell_type": "code",
   "execution_count": null,
   "metadata": {},
   "outputs": [],
   "source": [
    "%%time\n",
    "v.cache()"
   ]
  },
  {
   "cell_type": "code",
   "execution_count": null,
   "metadata": {},
   "outputs": [],
   "source": [
    "%%time\n",
    "v.show(1)"
   ]
  },
  {
   "cell_type": "code",
   "execution_count": null,
   "metadata": {},
   "outputs": [],
   "source": [
    "import ast\n",
    "def getEdges(row):\n",
    "    node_id, nodes = row\n",
    "    for node in nodes: \n",
    "        yield int(node_id), int(node)"
   ]
  },
  {
   "cell_type": "code",
   "execution_count": null,
   "metadata": {},
   "outputs": [],
   "source": [
    "%%time\n",
    "e = spark.createDataFrame(DF.rdd.flatMap(getEdges), [\"src\", \"dst\"])"
   ]
  },
  {
   "cell_type": "code",
   "execution_count": null,
   "metadata": {},
   "outputs": [],
   "source": [
    "%%time\n",
    "e.cache()"
   ]
  },
  {
   "cell_type": "code",
   "execution_count": null,
   "metadata": {},
   "outputs": [],
   "source": [
    "%%time\n",
    "e.show(1)"
   ]
  },
  {
   "cell_type": "code",
   "execution_count": null,
   "metadata": {},
   "outputs": [],
   "source": [
    "%%time\n",
    "# Create a GraphFrame\n",
    "from graphframes import *\n",
    "g = GraphFrame(v, e)\n",
    "\n",
    "# Query: Get in-degree of each vertex.\n",
    "# g.inDegrees.show()"
   ]
  },
  {
   "cell_type": "code",
   "execution_count": null,
   "metadata": {},
   "outputs": [],
   "source": [
    "%%time\n",
    "# Run PageRank algorithm, and show results.\n",
    "results = g.pageRank(resetProbability=0.15, maxIter=10)"
   ]
  },
  {
   "cell_type": "code",
   "execution_count": null,
   "metadata": {},
   "outputs": [],
   "source": [
    "%%time\n",
    "top_20 = results.vertices.orderBy(F.desc(\"pagerank\")).limit(20)"
   ]
  },
  {
   "cell_type": "code",
   "execution_count": null,
   "metadata": {},
   "outputs": [],
   "source": [
    "%%time\n",
    "top_20.show()"
   ]
  },
  {
   "cell_type": "code",
   "execution_count": null,
   "metadata": {},
   "outputs": [],
   "source": [
    "type(top_20)"
   ]
  },
  {
   "cell_type": "code",
   "execution_count": null,
   "metadata": {},
   "outputs": [],
   "source": [
    "top_20.take(1)"
   ]
  },
  {
   "cell_type": "code",
   "execution_count": null,
   "metadata": {},
   "outputs": [],
   "source": [
    "%%time\n",
    "namesKV_RDD = indexRDD.map(lambda x: (int(x.split('\\t')[1]), x.split('\\t')[0]))"
   ]
  },
  {
   "cell_type": "code",
   "execution_count": null,
   "metadata": {},
   "outputs": [],
   "source": [
    "namesKV_DF = namesKV_RDD.toDF()"
   ]
  },
  {
   "cell_type": "code",
   "execution_count": null,
   "metadata": {},
   "outputs": [],
   "source": [
    "namesKV_DF = namesKV_DF.withColumnRenamed('_1','id')\n",
    "namesKV_DF = namesKV_DF.withColumnRenamed('_2','title')\n",
    "namesKV_DF.take(1)"
   ]
  },
  {
   "cell_type": "code",
   "execution_count": null,
   "metadata": {},
   "outputs": [],
   "source": [
    "%%time\n",
    "resultsWithNames = namesKV_DF.join(top_20, namesKV_DF.id==top_20.id).orderBy(F.desc(\"pagerank\")).collect()"
   ]
  },
  {
   "cell_type": "code",
   "execution_count": null,
   "metadata": {},
   "outputs": [],
   "source": [
    "# TODO: use f' for string formatting\n",
    "print(\"{:10s}\\t| {:10s}\\t| {}\".format(\"PageRank\",\"Page id\",\"Title\"))\n",
    "print(\"=\"*100)\n",
    "for r in resultsWithNames:\n",
    "    print (\"{:6f}\\t| {:10s}\\t| {}\".format(r[3],r[2],r[1]))"
   ]
  },
  {
   "cell_type": "markdown",
   "metadata": {},
   "source": [
    "Our RDD implementaion takes about 35 minutes, whereas the GraphFrame one takes around 8 minutes. GraphFrames doesn't normalize the ranks. "
   ]
  },
  {
   "cell_type": "markdown",
   "metadata": {},
   "source": [
    "### Congratulations, you have completed HW5! Please refer to the readme for submission instructions.\n",
    "\n",
    "If you would like to provide feedback regarding this homework, please use the survey at: https://docs.google.com/forms/d/e/1FAIpQLScgIz4laP2JHChStLZx8MO0jGvrGyrOyQBnj7M4_4vcVXkB7g/viewform?usp=sf_link"
   ]
  },
  {
   "cell_type": "code",
   "execution_count": null,
   "metadata": {},
   "outputs": [],
   "source": []
  }
 ],
 "metadata": {
  "kernelspec": {
   "display_name": "Python 3",
   "language": "python",
   "name": "python3"
  },
  "language_info": {
   "codemirror_mode": {
    "name": "ipython",
    "version": 3
   },
   "file_extension": ".py",
   "mimetype": "text/x-python",
   "name": "python",
   "nbconvert_exporter": "python",
   "pygments_lexer": "ipython3",
   "version": "3.6.6"
  },
  "toc": {
   "colors": {
    "hover_highlight": "#DAA520",
    "running_highlight": "#FF0000",
    "selected_highlight": "#FFD700"
   },
   "moveMenuLeft": true,
   "nav_menu": {
    "height": "441px",
    "width": "252px"
   },
   "navigate_menu": true,
   "number_sections": true,
   "sideBar": true,
   "threshold": 4,
   "toc_cell": true,
   "toc_position": {
    "height": "827px",
    "left": "0px",
    "right": "1125px",
    "top": "107px",
    "width": "428px"
   },
   "toc_section_display": "block",
   "toc_window_display": true
  }
 },
 "nbformat": 4,
 "nbformat_minor": 2
}
