{
 "cells": [
  {
   "cell_type": "markdown",
   "metadata": {},
   "source": [
    "# HW 2 - Naive Bayes in Hadoop MR\n",
    "__`MIDS w261: Machine Learning at Scale | UC Berkeley School of Information | Fall 2018`__\n",
    "\n",
    "In the live sessions for week 2 and week 3 you got some practice designing and debugging Hadoop Streaming jobs. In this homework we'll use Hadoop MapReduce to implement your first parallelized machine learning algorithm: Naive Bayes. As you develop your implementation you'll test it on a small dataset that matches the 'Chinese Example' in the _Manning, Raghavan and Shutze_ reading for Week 2. For the main task in this assignment you'll be working with a small subset of the Enron Spam/Ham Corpus. By the end of this assignment you should be able to:\n",
    "* __... describe__ the Naive Bayes algorithm including both training and inference.\n",
    "* __... perform__ EDA on a corpus using Hadoop MR.\n",
    "* __... implement__ parallelized Naive Bayes.\n",
    "* __... constrast__ partial, unordered and total order sort and their implementations in Hadoop Streaming.\n",
    "* __... explain__ how smoothing affects the bias and variance of a Multinomial Naive Bayes model.\n",
    "\n",
    "As always, your work will be graded both on the correctness of your output and on the clarity and design of your code. __Please refer to the `README` for homework submission instructions.__ "
   ]
  },
  {
   "cell_type": "markdown",
   "metadata": {},
   "source": [
    "## Notebook Setup\n",
    "Before starting, run the following cells to confirm your setup."
   ]
  },
  {
   "cell_type": "code",
   "execution_count": 1,
   "metadata": {},
   "outputs": [],
   "source": [
    "# imports\n",
    "import numpy as np\n",
    "import matplotlib.pyplot as plt\n",
    "%matplotlib inline\n",
    "%reload_ext autoreload\n",
    "%autoreload 2"
   ]
  },
  {
   "cell_type": "code",
   "execution_count": 2,
   "metadata": {},
   "outputs": [],
   "source": [
    "# global vars (paths) - ADJUST AS NEEDED\n",
    "JAR_FILE = \"/usr/lib/hadoop-mapreduce/hadoop-streaming.jar\"\n",
    "HDFS_DIR = \"/user/root/HW2\"\n",
    "HOME_DIR = \"/media/notebooks/Assignments/HW2\" # FILL IN HERE eg. /media/notebooks/Assignments/HW2"
   ]
  },
  {
   "cell_type": "code",
   "execution_count": 3,
   "metadata": {},
   "outputs": [],
   "source": [
    "# save path for use in Hadoop jobs (-cmdenv PATH={PATH})\n",
    "from os import environ\n",
    "PATH  = environ['PATH']"
   ]
  },
  {
   "cell_type": "code",
   "execution_count": 4,
   "metadata": {},
   "outputs": [],
   "source": [
    "# data path\n",
    "ENRON = \"data/enronemail_1h.txt\""
   ]
  },
  {
   "cell_type": "markdown",
   "metadata": {},
   "source": [
    "# Question 1: Hadoop MapReduce Key Takeaways.  \n",
    "\n",
    "This assignment will be the only one in which you use Hadoop Streaming to implement a distributed algorithm. The key reason we continue to teach Hadoop streaming is because of the way it forces the programmer to think carefully about what is happening under the hood when you parallelize a calculation. This question will briefly highlight some of the most important concepts that you need to understand about Hadoop Streaming and MapReduce before we move on to Spark next week.   \n",
    "\n",
    "### Q1 Tasks:\n",
    "\n",
    "* __a) short response:__ What \"programming paradigm\" is Hadoop MapReduce based on? What are the main ideas of this programming paradigm and how does MapReduce exemplify these ideas?\n",
    "\n",
    "* __b) short response:__ What is the Hadoop Shuffle? When does it happen? Why is it potentially costly? Describe one specific thing we can we do to mitigate the cost associated with this stage of our Hadoop Streaming jobs.\n",
    "\n",
    "* __c) short response:__ In Hadoop Streaming why do the input and output record format of a combiner script have to be the same? [__`HINT`__ _what level of combining does the framework guarantee? what is the relationship between the record format your mapper emits and the format your reducer expects to receive?_]\n",
    "\n",
    "* __d) short response:__ To what extent can you control the level of parallelization of your Hadoop Streaming jobs? Please be specific.\n",
    "\n",
    "* __e) short response:__ What change in the kind of computing resources available prompted the creation of parallel computation frameworks like Hadoop? "
   ]
  },
  {
   "cell_type": "markdown",
   "metadata": {},
   "source": [
    "### Q1 Student Answers:\n",
    "\n",
    "> __a)__ Hadoop MapReduce is based on the funtional programming paradigm. The main ideas of functional programming paradigm is that higher order function that takes another function as arguments. The map in MapReduce exemplifies a function that takes a transformation logic (which is a function) and a list as inputs and apply the transformation logic on each of the elements in the input list. The reduce in MapReduce exemplifies a function that takes a aggregation logic (which is another function) and a ordered list as an input and apply the logic on all the inputs of the same keys.\n",
    "\n",
    "> __b)__ Hadoop Shuffle is the tranfers of the output of map tasks to the reduce tasks as input. It might be costly because the system might hit network bottleneck when data has to be transferred from the nodes where map tasks are to the nodes where reduce tasks reside. Plus this also involves reading and writing to disk and this adds more cost in terms of time. One thing we can do is to utilize combiners to make our key-value pairs more compact and reduce the volume of the data we need to read, copy, transfer and write between mappers and reducers.\n",
    "\n",
    "> __c)__ Because when using combiners, it is the framework that has control over how many times and even whether the combiners are going to be used at all. Therefore, it is not guaranteed that the reducers will receive data that is in the same format as the combiners output. Therefore, both combiners and mappers need to have the same output format that is the format the reducers would like to take as input.  \n",
    "\n",
    "> __d)__ In the mapping stage, developers can only hint the framework on the extent of the parallelization (i.e., how many mappers to use); however, it is ultimately decided by the framework how many mappers are going to be deployed depending on factors such as the location of the data, and etc... On the other hand, the developers have control over the exact number of reducers used in the job. \n",
    "\n",
    "> __e)__ The increasing availability of the amount of data for people to draw insight from and the commodity-hardware that can form as a cluster of machines have prompted the creation of parallel computation frameworks like hadoop."
   ]
  },
  {
   "cell_type": "markdown",
   "metadata": {},
   "source": [
    "# Question 2: MapReduce Design Patterns.  \n",
    "\n",
    "In the last two live sessions and in your readings from Lin & Dyer you encountered a number of techniques for manipulating the logistics of a MapReduce implementation to ensure that the right information is available at the right time and location. In this question we'll review a few of the key techniques you learned.   \n",
    "\n",
    "### Q2 Tasks:\n",
    "\n",
    "* __a) short response:__ What are counters (in the context of Hadoop Streaming)? How are they useful? What kinds of counters does Hadoop provide for you? How do you create your own custom counter?\n",
    "\n",
    "* __b) short response:__ What are composite keys? How are they useful? How are they related to the idea of custom partitioning?\n",
    "\n",
    "* __c) short response:__ What is the order inversion pattern? What problem does it help solve? How do we implement it? "
   ]
  },
  {
   "cell_type": "markdown",
   "metadata": {},
   "source": [
    "### Q2 Student Answers:\n",
    "\n",
    "> __a)__ Counters give different information about our Hadoop Streaming jobs. They are useful because we can use them to understand how our job was executed, debug and optimize our job. By default, Hadoop provides File System Counters (about the files a Hadoop job take in and output) and Job Counters (about our map tasks and reduce tasks). Custom counters can be created by inluding the following line of code `sys.stderr.write(\"reporter:counter:MyWordCounters,counter-name,10\\n\")`. This will create a custom counter, _counter-name_ under group, _MyWordCounters_ with a count of 10. This line of code can be placed in mapper, combiner or reducer scripts. In addition, just like a regular counter, the counts will be outputted to the console.\n",
    "\n",
    "> __b)__ A composite key is a key made by appending to our original key with a delimiter another unit that is meaningful in the context of our Hadoop job on its own. For example, we can form a composite key by including the value in a key-value pair. They are useful because since the key is used for both partitioning and sorting, a composite key will enable the job with more options for sorting and partitioning. For example, when I create a composite key by including the value in a key-value pair. I can partition by the original key and sort by the value. The custom partitioning can be achieve with the use of composite key. One can explicitly assign a value to be included as the composite key of a key-value pair and have hadoop parition by the value. \n",
    "\n",
    "> __c)__ The order inversion pattern is a design pattern where through proper design we can access the result of some calculation in the reducers before processing the records needed for that calculation. In the count frequency problem, the order inversion design pattern enable us get the total word count (the result of we can get from aggregating all the records) first before any words were processed by the reducers. Therefore, we could divide the count of a word by the total word count to get the frequency of a word as the reducers finish processing a word. We implemented it by customize a key that will guarantee all the records corresponding to that key will be pushed to the top in the sorting results (in the case of using multiple reducers, we will also need to use custom partitioning to make sure each reducer is getting a total count).   \n"
   ]
  },
  {
   "cell_type": "markdown",
   "metadata": {},
   "source": [
    "# Question 3: Understanding Total Order Sort\n",
    "\n",
    "The key challenge in distributed computing is to break a problem into a set of sub-problems that can be performed without communicating with each other. Ideally, we should be able to define an arbirtary number of splits and still get the right result, but that is not always possible. Parallelization becomes particularly challenging when we need to make comparisons between records, for example when sorting. Total Order Sort allows us to order large datasets in a way that enables efficient retrieval of results. Before beginning this assignment, make sure you have read and understand the [Total Order Sort Notebook](https://github.com/UCB-w261/main/tree/master/HelpfulResources/TotalSortGuide/_total-sort-guide-spark2.01-JAN27-2017.ipynb). You can skip the first two MRJob sections, but the rest of section III and all of section IV are **very** important (and apply to Hadoop Streaming) so make sure to read them closely. Feel free to read the Spark sections as well but you won't be responsible for that material until later in the course. To verify your understanding, answer the following questions.\n",
    "\n",
    "### Q3 Tasks:\n",
    "\n",
    "* __a) short response:__ What is the difference between a partial sort, an unordered total sort, and a total order sort? From the programmer's perspective, what does total order sort allow us to do that we can't with unordered total? Why is this important with large datasets?\n",
    "\n",
    "* __b) short response:__ Which phase of a MapReduce job is leveraged to implement Total Order Sort? Which default behaviors must be changed. Why must they be changed?\n",
    "\n",
    "* __c) short response:__ Describe in words how to configure a Hadoop Streaming job for the custom sorting and partitioning that is required for Total Order Sort.  \n",
    "\n",
    "* __d) short response:__ Explain why we need to use an inverse hash code function.\n",
    "\n",
    "* __e) short response:__ Where does this function need to be located so that a Total Order Sort can be performed?"
   ]
  },
  {
   "cell_type": "markdown",
   "metadata": {},
   "source": [
    "### Q3 Student Answers:\n",
    "\n",
    "> __a)__ A partial sort is the result of sorting operation where records within files are sorted but not across files. An unordered total sort is a result of sorting where records across files are sorted (i.e., all keys used to sort in one files are either bigger or smaller than those in another file) but the sequence of files are not aligned with the sorted results (i.e., not all the keys used to sort in the previous file are bigger than all the keys used to sort in the current file in the case of descending sort). The total order sort is a result of the sorting where records are sorted within and acorss files, and the files are ordered in way that is aligned with the objective of the sorting operation. Total order sort will enable us to ready and process the records in a sequence of files sequentially without having to keep track of the state. We can look up the top or bottom records without having to scan through all the files. Such desirable properties come with the result of a total order sort. The cost to work with unordered sort becomes very great as the datasets get large. \n",
    "\n",
    "> __b)__ Partitioning phase of MapReduce needs to be leveraged to implement Total Order Sort. We need to change the default behavior of the hashing so that the partition keys are assigned taking into consideration of its position amoung all other partitions. It needs to be changed here because this is where the sequence of the files is determined.\n",
    "\n",
    "> __c)__ We need to tell the system that we are going to use composite keys. We need to tell Hadoop that we are using the keys in the composite key for partitioning and sorting. We need to tell Hadoop that We need to specify which key(s) we are using for partitioning and which keys(s) we are using for sorting. \n",
    "\n",
    "> __d)__ To order the partition keys so that when keys for sorting are used to generate a partition key, they are assigned with partition keys that will guarantee them to be sorted across partitions.\n",
    "\n",
    "> __e)__ In the mapper script."
   ]
  },
  {
   "cell_type": "markdown",
   "metadata": {},
   "source": [
    "# About the Data\n",
    "For the main task in this portion of the homework you will train a classifier to determine whether an email represents spam or not. You will train your Naive Bayes model on a 100 record subset of the Enron Spam/Ham corpus available in the HW2 data directory (__`HW2/data/enronemail_1h.txt`__).\n",
    "\n",
    "__Source:__   \n",
    "The original data included about 93,000 emails which were made public after the company's collapse. There have been a number raw and preprocessed versions of this corpus (including those available [here](http://www.aueb.gr/users/ion/data/enron-spam/index.html) and [here](http://www.aueb.gr/users/ion/publications.html)). The subset we will use is limited to emails from 6 Enron employees and a number of spam sources. It is part of [this data set](http://www.aueb.gr/users/ion/data/enron-spam/) which was created by researchers working on personlized Bayesian spam filters. Their original publication is [available here](http://www.aueb.gr/users/ion/docs/ceas2006_paper.pdf). __`IMPORTANT!`__ _For this homework please limit your analysis to the 100 email subset which we provide. No need to download or run your analysis on any of the original datasets, those links are merely provided as context._\n",
    "\n",
    "__Preprocessing:__  \n",
    "For their work, Metsis et al. (the authors) appeared to have pre-processed the data, not only collapsing all text to lower-case, but additionally separating \"words\" by spaces, where \"words\" unfortunately include punctuation. As a concrete example, the sentence:  \n",
    ">  `Hey Jon, I hope you don't get lost out there this weekend!`  \n",
    "\n",
    "... would have been reduced by Metsis et al. to the form:  \n",
    "> `hey jon , i hope you don ' t get lost out there this weekend !` \n",
    "\n",
    "... so we have reverted the data back toward its original state, removing spaces so that our sample sentence would now look like:\n",
    "> `hey jon, i hope you don't get lost out there this weekend!`  \n",
    "\n",
    "Thus we have at least preserved contractions and other higher-order lexical forms. However, one must be aware that this reversion is not complete, and that some object (specifically web sites) will be ill-formatted, and that all text is still lower-cased.\n",
    "\n",
    "\n",
    "__Format:__   \n",
    "All messages are collated to a tab-delimited format:  \n",
    "\n",
    ">    `ID \\t SPAM \\t SUBJECT \\t CONTENT \\n`  \n",
    "\n",
    "where:  \n",
    ">    `ID = string; unique message identifier`  \n",
    "    `SPAM = binary; with 1 indicating a spam message`  \n",
    "    `SUBJECT = string; title of the message`  \n",
    "    `CONTENT = string; content of the message`   \n",
    "    \n",
    "Note that either of `SUBJECT` or `CONTENT` may be \"NA\", and that all tab (\\t) and newline (\\n) characters have been removed from both of the `SUBJECT` and `CONTENT` columns.  "
   ]
  },
  {
   "cell_type": "code",
   "execution_count": 5,
   "metadata": {},
   "outputs": [
    {
     "name": "stdout",
     "output_type": "stream",
     "text": [
      "/media/notebooks/Assignments/HW2\n"
     ]
    }
   ],
   "source": [
    "!pwd"
   ]
  },
  {
   "cell_type": "code",
   "execution_count": 6,
   "metadata": {},
   "outputs": [
    {
     "name": "stdout",
     "output_type": "stream",
     "text": [
      "0001.1999-12-10.farmer\t0\t christmas tree farm pictures\tNA\n",
      "0001.1999-12-10.kaminski\t0\t re: rankings\t thank you.\n",
      "0001.2000-01-17.beck\t0\t leadership development pilot\t\" sally:  what timing, ask and you shall receiv\n",
      "0001.2000-06-06.lokay\t0\t\" key dates and impact of upcoming sap implementation over the next few week\n",
      "0001.2001-02-07.kitchen\t0\t key hr issues going forward\t a) year end reviews-report needs generating \n"
     ]
    }
   ],
   "source": [
    "# take a look at the first 100 characters of the first 5 records (RUN THIS CELL AS IS)\n",
    "!head -n 5 /media/notebooks/Assignments/HW2/{ENRON} | cut -c-100"
   ]
  },
  {
   "cell_type": "code",
   "execution_count": 7,
   "metadata": {},
   "outputs": [
    {
     "name": "stdout",
     "output_type": "stream",
     "text": [
      "100 /media/notebooks/Assignments/HW2/data/enronemail_1h.txt\n"
     ]
    }
   ],
   "source": [
    "# see how many messages/lines are in the file \n",
    "#(this number may be off by 1 if the last line doesn't end with a newline)\n",
    "!wc -l /media/notebooks/Assignments/HW2/{ENRON}"
   ]
  },
  {
   "cell_type": "code",
   "execution_count": 8,
   "metadata": {},
   "outputs": [],
   "source": [
    "# make the HDFS directory if it doesn't already exist\n",
    "!hdfs dfs -mkdir {HDFS_DIR}"
   ]
  },
  {
   "cell_type": "code",
   "execution_count": 9,
   "metadata": {},
   "outputs": [],
   "source": [
    "# load the data into HDFS (RUN THIS CELL AS IS)\n",
    "!hdfs dfs -copyFromLocal /media/notebooks/Assignments/HW2/{ENRON} {HDFS_DIR}/enron.txt"
   ]
  },
  {
   "cell_type": "code",
   "execution_count": 10,
   "metadata": {},
   "outputs": [
    {
     "name": "stdout",
     "output_type": "stream",
     "text": [
      "Found 1 items\n",
      "-rw-r--r--   1 root supergroup     204559 2019-09-18 21:11 /user/root/HW2/enron.txt\n"
     ]
    }
   ],
   "source": [
    "!hdfs dfs -ls {HDFS_DIR}"
   ]
  },
  {
   "cell_type": "markdown",
   "metadata": {},
   "source": [
    "# Question 4:  Enron Ham/Spam EDA.\n",
    "Before building our classifier, lets get aquainted with our data. In particular, we're interested in which words occur more in spam emails than in real emails. In this question you'll implement two Hadoop MapReduce jobs to count and sort word occurrences by document class. You'll also learn about two new Hadoop streaming parameters that will allow you to control how the records output of your mappers are partitioned for reducing on separate nodes. \n",
    "\n",
    "__`IMPORTANT NOTE:`__ For this question and all subsequent items, you should include both the subject and the body of the email in your analysis (i.e. concatetate them to get the 'text' of the document).\n",
    "\n",
    "### Q4 Tasks:\n",
    "* __a) code:__ Complete the missing components of the code in __`EnronEDA/mapper.py`__ and __`EnronEDA/reducer.py`__ to create a Hadoop MapReduce job that counts how many times each word in the corpus occurs in an email for each class. Pay close attention to the data format specified in the docstrings of these scripts _-- there are a number of ways to accomplish this task, we've chosen this format to help illustrate a technique in `part e`_. Run the provided unit tests to confirm that your code works as expected then run the provided Hadoop streaming command to apply your analysis to the Enron data.\n",
    "\n",
    "\n",
    "* __b) code + short response:__ How many times does the word \"__assistance__\" occur in each class? (`HINT:` Use a `grep` command to read from the results file you generated in '`a`' and then report the answer in the space provided.)\n",
    "\n",
    "\n",
    "* __c) short response:__ Would it have been possible to add some sorting parameters to the Hadoop streaming command that would cause our `part a` results to be sorted by count? Briefly explain why or why not.\n",
    "\n",
    "\n",
    "* __d) code + short response:__ Write a second Hadoop MapReduce job to sort the output of `part a` first by class and then by count. Run your job and save the results to a local file. Then describe in words how you would go about printing the top 10 words in each class given this sorted output. (`HINT 1:` _remember that you can simply pass the `part a` output directory to the input field of this job; `HINT 2:` since this task is just reodering the records from `part a` we don't need to write a mapper or reducer, just use `/bin/cat` for both_)\n",
    "\n",
    "\n",
    "* __e) code:__ A more efficient alternative to '`grep`-ing' for the top 10 words in each class would be to use the Hadoop framework to separate records from each class into its own partition so that we can just read the top lines in each. Edit your job from ` part d` to specify 2 reduce tasks and to tell Hadoop to partition based on the second field (which indicates spam/ham in our data). Your code should maintain the secondary sort -- that is each partition should list words from most to least frequent."
   ]
  },
  {
   "cell_type": "markdown",
   "metadata": {},
   "source": [
    "### Q4 Student Answers:\n",
    "> __b)__ The word asssistance occurred twice in the ham class and eight times in the spam class.\n",
    "\n",
    "> __c)__ We are only aggregating the counts of words as the reducers process the data. Therefore, it would have been impossible to sort the data on the result of the reduce tasks.  \n",
    "\n",
    "> __d)__ I will use only two reducers and try to partition the key-value pairs by the is_spam field, then print the top ten records of each output file from the sorted results of the reducers."
   ]
  },
  {
   "cell_type": "code",
   "execution_count": 11,
   "metadata": {},
   "outputs": [],
   "source": [
    "# part a - do your work in the provided scripts then RUN THIS CELL AS IS\n",
    "!chmod a+x EnronEDA/mapper.py\n",
    "!chmod a+x EnronEDA/reducer.py"
   ]
  },
  {
   "cell_type": "code",
   "execution_count": 12,
   "metadata": {},
   "outputs": [
    {
     "name": "stdout",
     "output_type": "stream",
     "text": [
      "title\t1\t1\n",
      "body\t1\t1\n",
      "title\t0\t1\n",
      "body\t0\t1\n"
     ]
    }
   ],
   "source": [
    "# part a - unit test EnronEDA/mapper.py (RUN THIS CELL AS IS)\n",
    "!echo -e \"d1\t1\ttitle\tbody\\nd2\t0\ttitle\tbody\" | EnronEDA/mapper.py"
   ]
  },
  {
   "cell_type": "code",
   "execution_count": 13,
   "metadata": {},
   "outputs": [
    {
     "name": "stdout",
     "output_type": "stream",
     "text": [
      "one\t1\t1\n",
      "one\t0\t2\n",
      "two\t1\t0\n",
      "two\t0\t1\n"
     ]
    }
   ],
   "source": [
    "# part a - unit test EnronEDA/reducer.py (RUN THIS CELL AS IS)\n",
    "!echo -e \"one\t1\t1\\none\t0\t1\\none\t0\t1\\ntwo\t0\t1\" | EnronEDA/reducer.py"
   ]
  },
  {
   "cell_type": "code",
   "execution_count": 14,
   "metadata": {},
   "outputs": [
    {
     "name": "stdout",
     "output_type": "stream",
     "text": [
      "rm: `/user/root/HW2/eda-output': No such file or directory\n"
     ]
    }
   ],
   "source": [
    "# part a - clear output directory in HDFS (RUN THIS CELL AS IS)\n",
    "!hdfs dfs -rm -r {HDFS_DIR}/eda-output"
   ]
  },
  {
   "cell_type": "code",
   "execution_count": 15,
   "metadata": {},
   "outputs": [
    {
     "name": "stdout",
     "output_type": "stream",
     "text": [
      "packageJobJar: [] [/usr/lib/hadoop-mapreduce/hadoop-streaming-2.6.0-cdh5.15.1.jar] /tmp/streamjob460403120325841111.jar tmpDir=null\n",
      "19/09/18 19:59:38 INFO client.RMProxy: Connecting to ResourceManager at /0.0.0.0:8032\n",
      "19/09/18 19:59:38 INFO client.RMProxy: Connecting to ResourceManager at /0.0.0.0:8032\n",
      "19/09/18 19:59:39 INFO mapred.FileInputFormat: Total input paths to process : 1\n",
      "19/09/18 19:59:39 INFO mapreduce.JobSubmitter: number of splits:2\n",
      "19/09/18 19:59:40 INFO mapreduce.JobSubmitter: Submitting tokens for job: job_1568836755256_0001\n",
      "19/09/18 19:59:41 INFO impl.YarnClientImpl: Submitted application application_1568836755256_0001\n",
      "19/09/18 19:59:41 INFO mapreduce.Job: The url to track the job: http://docker.w261:8088/proxy/application_1568836755256_0001/\n",
      "19/09/18 19:59:41 INFO mapreduce.Job: Running job: job_1568836755256_0001\n",
      "19/09/18 19:59:50 INFO mapreduce.Job: Job job_1568836755256_0001 running in uber mode : false\n",
      "19/09/18 19:59:50 INFO mapreduce.Job:  map 0% reduce 0%\n",
      "19/09/18 19:59:57 INFO mapreduce.Job:  map 50% reduce 0%\n",
      "19/09/18 19:59:58 INFO mapreduce.Job:  map 100% reduce 0%\n",
      "19/09/18 20:00:05 INFO mapreduce.Job:  map 100% reduce 100%\n",
      "19/09/18 20:00:06 INFO mapreduce.Job: Job job_1568836755256_0001 completed successfully\n",
      "19/09/18 20:00:06 INFO mapreduce.Job: Counters: 50\n",
      "\tFile System Counters\n",
      "\t\tFILE: Number of bytes read=369010\n",
      "\t\tFILE: Number of bytes written=1335694\n",
      "\t\tFILE: Number of read operations=0\n",
      "\t\tFILE: Number of large read operations=0\n",
      "\t\tFILE: Number of write operations=0\n",
      "\t\tHDFS: Number of bytes read=217061\n",
      "\t\tHDFS: Number of bytes written=119173\n",
      "\t\tHDFS: Number of read operations=12\n",
      "\t\tHDFS: Number of large read operations=0\n",
      "\t\tHDFS: Number of write operations=4\n",
      "\tJob Counters \n",
      "\t\tKilled map tasks=1\n",
      "\t\tLaunched map tasks=2\n",
      "\t\tLaunched reduce tasks=2\n",
      "\t\tData-local map tasks=2\n",
      "\t\tTotal time spent by all maps in occupied slots (ms)=11117\n",
      "\t\tTotal time spent by all reduces in occupied slots (ms)=9843\n",
      "\t\tTotal time spent by all map tasks (ms)=11117\n",
      "\t\tTotal time spent by all reduce tasks (ms)=9843\n",
      "\t\tTotal vcore-milliseconds taken by all map tasks=11117\n",
      "\t\tTotal vcore-milliseconds taken by all reduce tasks=9843\n",
      "\t\tTotal megabyte-milliseconds taken by all map tasks=11383808\n",
      "\t\tTotal megabyte-milliseconds taken by all reduce tasks=10079232\n",
      "\tMap-Reduce Framework\n",
      "\t\tMap input records=100\n",
      "\t\tMap output records=31490\n",
      "\t\tMap output bytes=306018\n",
      "\t\tMap output materialized bytes=369022\n",
      "\t\tInput split bytes=214\n",
      "\t\tCombine input records=0\n",
      "\t\tCombine output records=0\n",
      "\t\tReduce input groups=5065\n",
      "\t\tReduce shuffle bytes=369022\n",
      "\t\tReduce input records=31490\n",
      "\t\tReduce output records=10130\n",
      "\t\tSpilled Records=62980\n",
      "\t\tShuffled Maps =4\n",
      "\t\tFailed Shuffles=0\n",
      "\t\tMerged Map outputs=4\n",
      "\t\tGC time elapsed (ms)=298\n",
      "\t\tCPU time spent (ms)=7580\n",
      "\t\tPhysical memory (bytes) snapshot=1135484928\n",
      "\t\tVirtual memory (bytes) snapshot=5492379648\n",
      "\t\tTotal committed heap usage (bytes)=1195376640\n",
      "\tShuffle Errors\n",
      "\t\tBAD_ID=0\n",
      "\t\tCONNECTION=0\n",
      "\t\tIO_ERROR=0\n",
      "\t\tWRONG_LENGTH=0\n",
      "\t\tWRONG_MAP=0\n",
      "\t\tWRONG_REDUCE=0\n",
      "\tFile Input Format Counters \n",
      "\t\tBytes Read=216847\n",
      "\tFile Output Format Counters \n",
      "\t\tBytes Written=119173\n",
      "19/09/18 20:00:06 INFO streaming.StreamJob: Output directory: /user/root/HW2/eda-output\n"
     ]
    }
   ],
   "source": [
    "# part a - Hadoop streaming job (RUN THIS CELL AS IS)\n",
    "!hadoop jar {JAR_FILE} \\\n",
    "  -files EnronEDA/reducer.py,EnronEDA/mapper.py \\\n",
    "  -mapper mapper.py \\\n",
    "  -reducer reducer.py \\\n",
    "  -input {HDFS_DIR}/enron.txt \\\n",
    "  -output {HDFS_DIR}/eda-output \\\n",
    "  -numReduceTasks 2 \\\n",
    "  -cmdenv PATH={PATH}"
   ]
  },
  {
   "cell_type": "code",
   "execution_count": 16,
   "metadata": {},
   "outputs": [],
   "source": [
    "# part a - retrieve results from HDFS & copy them into a local file (RUN THIS CELL AS IS)\n",
    "!hdfs dfs -cat {HDFS_DIR}/eda-output/part-0000* > EnronEDA/results.txt"
   ]
  },
  {
   "cell_type": "code",
   "execution_count": 17,
   "metadata": {},
   "outputs": [
    {
     "name": "stdout",
     "output_type": "stream",
     "text": [
      "assistance\t1\t8\n",
      "assistance\t0\t2\n"
     ]
    }
   ],
   "source": [
    "# part b - write your grep command here\n",
    "!grep assistance EnronEDA/results.txt"
   ]
  },
  {
   "cell_type": "code",
   "execution_count": 18,
   "metadata": {},
   "outputs": [
    {
     "name": "stdout",
     "output_type": "stream",
     "text": [
      "rm: `/user/root/HW2/eda-sort-output': No such file or directory\n"
     ]
    }
   ],
   "source": [
    "# part d/e - clear the output directory in HDFS (RUN THIS CELL AS IS)\n",
    "!hdfs dfs -rm -r {HDFS_DIR}/eda-sort-output"
   ]
  },
  {
   "cell_type": "code",
   "execution_count": 19,
   "metadata": {},
   "outputs": [
    {
     "name": "stdout",
     "output_type": "stream",
     "text": [
      "packageJobJar: [] [/usr/lib/hadoop-mapreduce/hadoop-streaming-2.6.0-cdh5.15.1.jar] /tmp/streamjob3614549535295051912.jar tmpDir=null\n",
      "19/09/18 20:00:16 INFO client.RMProxy: Connecting to ResourceManager at /0.0.0.0:8032\n",
      "19/09/18 20:00:16 INFO client.RMProxy: Connecting to ResourceManager at /0.0.0.0:8032\n",
      "19/09/18 20:00:17 INFO mapred.FileInputFormat: Total input paths to process : 2\n",
      "19/09/18 20:00:17 INFO mapreduce.JobSubmitter: number of splits:2\n",
      "19/09/18 20:00:17 INFO mapreduce.JobSubmitter: Submitting tokens for job: job_1568836755256_0002\n",
      "19/09/18 20:00:17 INFO impl.YarnClientImpl: Submitted application application_1568836755256_0002\n",
      "19/09/18 20:00:17 INFO mapreduce.Job: The url to track the job: http://docker.w261:8088/proxy/application_1568836755256_0002/\n",
      "19/09/18 20:00:17 INFO mapreduce.Job: Running job: job_1568836755256_0002\n",
      "19/09/18 20:00:24 INFO mapreduce.Job: Job job_1568836755256_0002 running in uber mode : false\n",
      "19/09/18 20:00:24 INFO mapreduce.Job:  map 0% reduce 0%\n",
      "19/09/18 20:00:31 INFO mapreduce.Job:  map 100% reduce 0%\n",
      "19/09/18 20:00:37 INFO mapreduce.Job:  map 100% reduce 50%\n",
      "19/09/18 20:00:38 INFO mapreduce.Job:  map 100% reduce 100%\n",
      "19/09/18 20:00:39 INFO mapreduce.Job: Job job_1568836755256_0002 completed successfully\n",
      "19/09/18 20:00:39 INFO mapreduce.Job: Counters: 49\n",
      "\tFile System Counters\n",
      "\t\tFILE: Number of bytes read=149575\n",
      "\t\tFILE: Number of bytes written=894376\n",
      "\t\tFILE: Number of read operations=0\n",
      "\t\tFILE: Number of large read operations=0\n",
      "\t\tFILE: Number of write operations=0\n",
      "\t\tHDFS: Number of bytes read=119411\n",
      "\t\tHDFS: Number of bytes written=129303\n",
      "\t\tHDFS: Number of read operations=12\n",
      "\t\tHDFS: Number of large read operations=0\n",
      "\t\tHDFS: Number of write operations=4\n",
      "\tJob Counters \n",
      "\t\tLaunched map tasks=2\n",
      "\t\tLaunched reduce tasks=2\n",
      "\t\tData-local map tasks=2\n",
      "\t\tTotal time spent by all maps in occupied slots (ms)=9081\n",
      "\t\tTotal time spent by all reduces in occupied slots (ms)=9361\n",
      "\t\tTotal time spent by all map tasks (ms)=9081\n",
      "\t\tTotal time spent by all reduce tasks (ms)=9361\n",
      "\t\tTotal vcore-milliseconds taken by all map tasks=9081\n",
      "\t\tTotal vcore-milliseconds taken by all reduce tasks=9361\n",
      "\t\tTotal megabyte-milliseconds taken by all map tasks=9298944\n",
      "\t\tTotal megabyte-milliseconds taken by all reduce tasks=9585664\n",
      "\tMap-Reduce Framework\n",
      "\t\tMap input records=10130\n",
      "\t\tMap output records=10130\n",
      "\t\tMap output bytes=129303\n",
      "\t\tMap output materialized bytes=149587\n",
      "\t\tInput split bytes=238\n",
      "\t\tCombine input records=0\n",
      "\t\tCombine output records=0\n",
      "\t\tReduce input groups=10130\n",
      "\t\tReduce shuffle bytes=149587\n",
      "\t\tReduce input records=10130\n",
      "\t\tReduce output records=10130\n",
      "\t\tSpilled Records=20260\n",
      "\t\tShuffled Maps =4\n",
      "\t\tFailed Shuffles=0\n",
      "\t\tMerged Map outputs=4\n",
      "\t\tGC time elapsed (ms)=298\n",
      "\t\tCPU time spent (ms)=7220\n",
      "\t\tPhysical memory (bytes) snapshot=1148854272\n",
      "\t\tVirtual memory (bytes) snapshot=5522595840\n",
      "\t\tTotal committed heap usage (bytes)=1195376640\n",
      "\tShuffle Errors\n",
      "\t\tBAD_ID=0\n",
      "\t\tCONNECTION=0\n",
      "\t\tIO_ERROR=0\n",
      "\t\tWRONG_LENGTH=0\n",
      "\t\tWRONG_MAP=0\n",
      "\t\tWRONG_REDUCE=0\n",
      "\tFile Input Format Counters \n",
      "\t\tBytes Read=119173\n",
      "\tFile Output Format Counters \n",
      "\t\tBytes Written=129303\n",
      "19/09/18 20:00:39 INFO streaming.StreamJob: Output directory: /user/root/HW2/eda-sort-output\n"
     ]
    }
   ],
   "source": [
    "# part d/e - write your Hadoop streaming job here\n",
    "!hadoop jar {JAR_FILE} \\\n",
    "  -D stream.num.map.output.key.fields=3 \\\n",
    "  -D mapreduce.job.output.key.comparator.class=org.apache.hadoop.mapred.lib.KeyFieldBasedComparator \\\n",
    "  -D mapreduce.partition.keycomparator.options=\"-k3,3nr\" \\\n",
    "  -D mapreduce.partition.keypartitioner.options=\"-k2,2\" \\\n",
    "  -mapper /bin/cat \\\n",
    "  -partitioner org.apache.hadoop.mapred.lib.KeyFieldBasedPartitioner \\\n",
    "  -reducer /bin/cat \\\n",
    "  -input {HDFS_DIR}/eda-output \\\n",
    "  -output {HDFS_DIR}/eda-sort-output \\\n",
    "  -numReduceTasks 2 \\\n",
    "  -cmdenv PATH={PATH}"
   ]
  },
  {
   "cell_type": "code",
   "execution_count": 20,
   "metadata": {},
   "outputs": [
    {
     "name": "stdout",
     "output_type": "stream",
     "text": [
      "\n",
      "===== part-00000=====\n",
      "\n",
      "the\t0\t549\t\n",
      "to\t0\t398\t\n",
      "ect\t0\t382\t\n",
      "and\t0\t278\t\n",
      "of\t0\t230\t\n",
      "hou\t0\t206\t\n",
      "a\t0\t196\t\n",
      "in\t0\t182\t\n",
      "for\t0\t170\t\n",
      "on\t0\t135\t\n",
      "cat: Unable to write to output stream.\n",
      "\n",
      "===== part-00001=====\n",
      "\n",
      "the\t1\t698\t\n",
      "to\t1\t566\t\n",
      "and\t1\t392\t\n",
      "your\t1\t357\t\n",
      "a\t1\t347\t\n",
      "you\t1\t345\t\n",
      "of\t1\t336\t\n",
      "in\t1\t236\t\n",
      "for\t1\t204\t\n",
      "com\t1\t153\t\n",
      "cat: Unable to write to output stream.\n"
     ]
    }
   ],
   "source": [
    "# part e - view the top 10 records from each partition (RUN THIS CELL AS IS)\n",
    "for idx in range(2):\n",
    "    print(f\"\\n===== part-0000{idx}=====\\n\")\n",
    "    !hdfs dfs -cat {HDFS_DIR}/eda-sort-output/part-0000{idx} | head"
   ]
  },
  {
   "cell_type": "markdown",
   "metadata": {},
   "source": [
    "__Expected output:__\n",
    "<table>\n",
    "<th>part-00000:</th>\n",
    "<th>part-00001:</th>\n",
    "<tr><td><pre>\n",
    "the\t0\t549\t\n",
    "to\t0\t398\t\n",
    "ect\t0\t382\t\n",
    "and\t0\t278\t\n",
    "of\t0\t230\t\n",
    "hou\t0\t206\t\n",
    "a\t0\t196\t\n",
    "in\t0\t182\t\n",
    "for\t0\t170\t\n",
    "on\t0\t135\n",
    "</pre></td>\n",
    "<td><pre>\n",
    "the\t1\t698\t\n",
    "to\t1\t566\t\n",
    "and\t1\t392\t\n",
    "your\t1\t357\t\n",
    "a\t1\t347\t\n",
    "you\t1\t345\t\n",
    "of\t1\t336\t\n",
    "in\t1\t236\t\n",
    "for\t1\t204\t\n",
    "com\t1\t153\n",
    "</pre></td></tr>\n",
    "</table>"
   ]
  },
  {
   "cell_type": "markdown",
   "metadata": {},
   "source": [
    "# Question 5: Counters and Combiners.\n",
    "Tuning the number of mappers & reducers is helpful to optimize very large distributed computations. Doing so successfully requires a thorough understanding of the data size at each stage of the job. As you learned in the week3 live session, counters are an invaluable resource for understanding this kind of detail. In this question, we will take the EDA performed in Question 4 as an opportunity to illustrate some related concepts.\n",
    "\n",
    "### Q5 Tasks:\n",
    "* __a) short response:__ Read the Hadoop output from your job in Question 4a to report how many records are emitted by the mappers and how many records are received be the reducers. In the context of word counting what does this number represent practically?\n",
    "\n",
    "* __b) code:__ Note that we wrote the reducer in question 4a such that the input and output record format is identical. This makes it easy to use the same reducer script as a combiner. In the space provided below, write the Hadoop Streaming command to re-run your job from question 4a with this combining added.\n",
    "\n",
    "* __c) short response__: Report the number of records emitted by your mappers in part b and the number of records received by your reducers. Compare your results here to what you saw in part a. Explain.\n",
    "\n",
    "* __d) short response__: Describe a scenario where using a combiner would _NOT_ improve the efficiency of the shuffle stage. Explain. [__`BONUS:`__ how does increasing the number of mappers affect the usefulness of a combiner?]"
   ]
  },
  {
   "cell_type": "markdown",
   "metadata": {},
   "source": [
    "### Q5 Student Answers:\n",
    "> __a)__ 31490 records is the number of the output of mappers and the input of the reducers. According to the mapper code, since we are emitting one record per word, so this means the total number of words we have in our dataset.\n",
    "\n",
    "> __c)__ The number of records emitted by mappers is still 31490; however, the number of reducer input records has dropped down to 13096. This is the work done by the combiners. The combiners combined records that have the same keys.\n",
    "\n",
    "> __d)__ An obvious scenario is when we don't have any records that share the same key in a given partition. Another case would be, when each mapper is only dealing with very few records, it might be more likely to not have any records having the same key in the same parition and also to not have enough spills for combiners to do any work before the shuffle stage. "
   ]
  },
  {
   "cell_type": "code",
   "execution_count": 21,
   "metadata": {},
   "outputs": [
    {
     "name": "stdout",
     "output_type": "stream",
     "text": [
      "Deleted /user/root/HW2/eda-output\n"
     ]
    }
   ],
   "source": [
    "# part b - clear output directory in HDFS (RUN THIS CELL AS IS)\n",
    "!hdfs dfs -rm -r {HDFS_DIR}/eda-output"
   ]
  },
  {
   "cell_type": "code",
   "execution_count": 22,
   "metadata": {},
   "outputs": [
    {
     "name": "stdout",
     "output_type": "stream",
     "text": [
      "packageJobJar: [] [/usr/lib/hadoop-mapreduce/hadoop-streaming-2.6.0-cdh5.15.1.jar] /tmp/streamjob1644425443111381626.jar tmpDir=null\n",
      "19/09/17 20:11:47 INFO client.RMProxy: Connecting to ResourceManager at /0.0.0.0:8032\n",
      "19/09/17 20:11:48 INFO client.RMProxy: Connecting to ResourceManager at /0.0.0.0:8032\n",
      "19/09/17 20:11:49 INFO mapred.FileInputFormat: Total input paths to process : 1\n",
      "19/09/17 20:11:49 INFO mapreduce.JobSubmitter: number of splits:2\n",
      "19/09/17 20:11:49 INFO mapreduce.JobSubmitter: Submitting tokens for job: job_1568751006211_0003\n",
      "19/09/17 20:11:49 INFO impl.YarnClientImpl: Submitted application application_1568751006211_0003\n",
      "19/09/17 20:11:49 INFO mapreduce.Job: The url to track the job: http://docker.w261:8088/proxy/application_1568751006211_0003/\n",
      "19/09/17 20:11:49 INFO mapreduce.Job: Running job: job_1568751006211_0003\n",
      "19/09/17 20:11:56 INFO mapreduce.Job: Job job_1568751006211_0003 running in uber mode : false\n",
      "19/09/17 20:11:56 INFO mapreduce.Job:  map 0% reduce 0%\n",
      "19/09/17 20:12:04 INFO mapreduce.Job:  map 50% reduce 0%\n",
      "19/09/17 20:12:05 INFO mapreduce.Job:  map 100% reduce 0%\n",
      "19/09/17 20:12:12 INFO mapreduce.Job:  map 100% reduce 50%\n",
      "19/09/17 20:12:13 INFO mapreduce.Job:  map 100% reduce 100%\n",
      "19/09/17 20:12:13 INFO mapreduce.Job: Job job_1568751006211_0003 completed successfully\n",
      "19/09/17 20:12:13 INFO mapreduce.Job: Counters: 50\n",
      "\tFile System Counters\n",
      "\t\tFILE: Number of bytes read=177959\n",
      "\t\tFILE: Number of bytes written=955024\n",
      "\t\tFILE: Number of read operations=0\n",
      "\t\tFILE: Number of large read operations=0\n",
      "\t\tFILE: Number of write operations=0\n",
      "\t\tHDFS: Number of bytes read=217061\n",
      "\t\tHDFS: Number of bytes written=119173\n",
      "\t\tHDFS: Number of read operations=12\n",
      "\t\tHDFS: Number of large read operations=0\n",
      "\t\tHDFS: Number of write operations=4\n",
      "\tJob Counters \n",
      "\t\tKilled reduce tasks=1\n",
      "\t\tLaunched map tasks=2\n",
      "\t\tLaunched reduce tasks=2\n",
      "\t\tData-local map tasks=2\n",
      "\t\tTotal time spent by all maps in occupied slots (ms)=10272\n",
      "\t\tTotal time spent by all reduces in occupied slots (ms)=10012\n",
      "\t\tTotal time spent by all map tasks (ms)=10272\n",
      "\t\tTotal time spent by all reduce tasks (ms)=10012\n",
      "\t\tTotal vcore-milliseconds taken by all map tasks=10272\n",
      "\t\tTotal vcore-milliseconds taken by all reduce tasks=10012\n",
      "\t\tTotal megabyte-milliseconds taken by all map tasks=10518528\n",
      "\t\tTotal megabyte-milliseconds taken by all reduce tasks=10252288\n",
      "\tMap-Reduce Framework\n",
      "\t\tMap input records=100\n",
      "\t\tMap output records=31490\n",
      "\t\tMap output bytes=306018\n",
      "\t\tMap output materialized bytes=177971\n",
      "\t\tInput split bytes=214\n",
      "\t\tCombine input records=31490\n",
      "\t\tCombine output records=13096\n",
      "\t\tReduce input groups=5065\n",
      "\t\tReduce shuffle bytes=177971\n",
      "\t\tReduce input records=13096\n",
      "\t\tReduce output records=10130\n",
      "\t\tSpilled Records=26192\n",
      "\t\tShuffled Maps =4\n",
      "\t\tFailed Shuffles=0\n",
      "\t\tMerged Map outputs=4\n",
      "\t\tGC time elapsed (ms)=334\n",
      "\t\tCPU time spent (ms)=8670\n",
      "\t\tPhysical memory (bytes) snapshot=1187164160\n",
      "\t\tVirtual memory (bytes) snapshot=5521158144\n",
      "\t\tTotal committed heap usage (bytes)=1195376640\n",
      "\tShuffle Errors\n",
      "\t\tBAD_ID=0\n",
      "\t\tCONNECTION=0\n",
      "\t\tIO_ERROR=0\n",
      "\t\tWRONG_LENGTH=0\n",
      "\t\tWRONG_MAP=0\n",
      "\t\tWRONG_REDUCE=0\n",
      "\tFile Input Format Counters \n",
      "\t\tBytes Read=216847\n",
      "\tFile Output Format Counters \n",
      "\t\tBytes Written=119173\n",
      "19/09/17 20:12:13 INFO streaming.StreamJob: Output directory: /user/root/HW2/eda-output\n"
     ]
    }
   ],
   "source": [
    "# part b - write your Hadoop streaming job here\n",
    "!hadoop jar {JAR_FILE} \\\n",
    "  -files EnronEDA/reducer.py,EnronEDA/mapper.py \\\n",
    "  -mapper mapper.py \\\n",
    "  -combiner reducer.py \\\n",
    "  -reducer reducer.py \\\n",
    "  -input {HDFS_DIR}/enron.txt \\\n",
    "  -output {HDFS_DIR}/eda-output \\\n",
    "  -numReduceTasks 2 \\\n",
    "  -cmdenv PATH={PATH}"
   ]
  },
  {
   "cell_type": "markdown",
   "metadata": {},
   "source": [
    "# Question 6: Document Classification Task Overview.\n",
    "The week 2 assigned reading from Chapter 13 of _Introduction to Information Retrieval_ by Manning, Raghavan and Schutze provides a thorough introduction to the document classification task and the math behind Naive Bayes. In this question we'll use the example from Table 13.1 (reproduced below) to 'train' an unsmoothed Multinomial Naive Bayes model and classify a test document by hand.\n",
    "\n",
    "<table>\n",
    "<th>DocID</th>\n",
    "<th>Class</th>\n",
    "<th>Subject</th>\n",
    "<th>Body</th>\n",
    "<tr><td>Doc1</td><td>1</td><td></td><td>Chinese Beijing Chinese</td></tr>\n",
    "<tr><td>Doc2</td><td>1</td><td></td><td>Chinese Chinese Shanghai</td></tr>\n",
    "<tr><td>Doc3</td><td>1</td><td></td><td>Chinese Macao</td></tr>\n",
    "<tr><td>Doc4</td><td>0</td><td></td><td>Tokyo Japan Chinese</td></tr>\n",
    "</table>\n",
    "\n",
    "### Q6 Tasks:\n",
    "* __a) short response:__ Equation 13.3 in Manning, Raghavan and Shutze shows how a Multinomial Naive Bayes model classifies a document. It predicts the class, $c$, for which the estimated conditional probability of the class given the document's contents,  $\\hat{P}(c|d)$, is greatest. In this equation what two pieces of information are required to calculate  $\\hat{P}(c|d)$? Your answer should include both mathematical notatation and verbal explanation.\n",
    "\n",
    "\n",
    "* __b) short response:__ The Enron data includes two classes of documents: `spam` and `ham` (they're actually labeled `1` and `0`). In plain English, explain what  $\\hat{P}(c)$ and   $\\hat{P}(t_{k} | c)$ mean in the context of this data. How will we would estimate these values from a training corpus? How many passes over the data would we need to make to retrieve this information for all classes and all words?\n",
    "\n",
    "\n",
    "* __c) hand calculations:__ Above we've reproduced the document classification example from the textbook (we added an empty subject field to mimic the Enron data format). Remember that the classes in this \"Chinese Example\" are `1` (about China) and `0` (not about China). Calculate the class priors and the conditional probabilities for an __unsmoothed__ Multinomial Naive Bayes model trained on this data. Show the calculations that lead to your result using markdown and $\\LaTeX$ in the space provided or by embedding an image of your hand written work. [`NOTE:` _Your results should NOT match those in the text -- they are training a model with +1 smoothing you are training a model without smoothing_]\n",
    "\n",
    "\n",
    "* __d) hand calculations:__ Use the model you trained to classify the following test document: `Chinese Chinese Chinese Tokyo Japan`. Show the calculations that lead to your result using markdown and   $\\LaTeX$ in the space provided or by embedding an image of your hand written work.\n",
    "\n",
    "\n",
    "* __e) short response:__ Compare the classification you get from this unsmoothed model in `d`/`e` to the results in the textbook's \"Example 1\" which reflects a model with Laplace plus 1 smoothing. How does smoothing affect our inference?"
   ]
  },
  {
   "cell_type": "markdown",
   "metadata": {},
   "source": [
    "### Q6 Student Answers:\n",
    "> __a)__ $\\hat P(c|d) = \\hat P(c) \\prod_{1\\leq k\\leq n_d} \\hat P(t_k|c)$. According to the math, we will need the estimated prior probability of a class, c and the estimated conditional probability of term $t_k$ of class c ($t_k$ represents one of the terms in the document, d that we are using for the classification task. There are usually multiple terms a model use, so all the conditional probability estimates of different terms needed to be calculated from the training set).\n",
    "\n",
    "> __b)__ $\\hat P(c)$ is the prior probability of a class which means how prevalent the class is in the training set. It's calculated by the number of document in a class devided by the total number of documents in the training set. $\\hat P(t_k|c)$ is the estimated conditional probability of term $t_k$ of class c which means how often the term occurs relative to other terms for a given class, c. It is calculated by the count of a term divdied by the total count of all terms in a given class, c in the training set. We will only need one pass on the data to retrieve this information for all classes and all words.\n",
    "\n",
    "> __c)__ \n",
    "\n",
    ">> $\\hat P(1) = 3/4 =\\frac{3}{4}$  \n",
    ">> $\\hat P(Chinese|1) = 5/8 =\\frac{5}{8}$  \n",
    ">> $\\hat P(Beijing|1) = \\hat P(Shanghai|1) = \\hat P(Macao|1) = 1/8 = \\frac{1}{8}$  \n",
    ">> $\\hat P(Tokyo|1) = \\hat P(Japan|1) = 0/8 = 0$  \n",
    "\n",
    ">> $\\hat P(0) = 1/4 =\\frac{1}{4}$  \n",
    ">> $\\hat P(Chinese|0) = 1/3 =\\frac{1}{3}$  \n",
    ">> $\\hat P(Beijing|0) = \\hat P(Shanghai|0) = \\hat P(Macao|0) = 0/3 = 0$  \n",
    ">> $\\hat P(Tokyo|0) = \\hat P(Japan|0) = 1/3 = \\frac{1}{3}$  \n",
    "\n",
    "> __d)__ \n",
    ">> d = \"Chinese Chinese Chinese Tokyo Japan\" \n",
    "\n",
    ">> $\\hat P(1|d) = \\hat P(1) \\cdot \\hat P(Chinese|1) \\cdot \\hat P(Chinese|1) \\cdot \\hat P(Chinese|1) \\cdot \\hat P(Tokyo|1) \\cdot \\hat P(Japan|1)$  \n",
    "$= \\frac{3}{4} \\cdot \\frac{5}{8} \\cdot \\frac{5}{8} \\cdot \\frac{5}{8} \\cdot 0 \\cdot 0 = 0$ \n",
    "\n",
    ">> $\\hat P(1|d) = \\hat P(0) \\cdot \\hat P(Chinese|0) \\cdot \\hat P(Chinese|0) \\cdot \\hat P(Chinese|0) \\cdot \\hat P(Tokyo|0) \\cdot \\hat P(Japan|0)$  \n",
    "$= \\frac{1}{4} \\cdot \\frac{1}{3} \\cdot \\frac{1}{3} \\cdot \\frac{1}{3} \\cdot \\frac{1}{3} \\cdot \\frac{1}{3} = \\frac{1}{972}$ \n",
    "\n",
    ">> The model will classify the document as \"not about China\" since that is the class which has the higher probability\n",
    "\n",
    "> __e)__ Smoothing makes our model more resilient to overfitting. Our unsmoothed model classified the document, \"Chinese Chinese Chinese Tokyo Japan\" as not about China simply because Tokyo and Japan didn't occur in a documnet associated with the label, \"about China\" in our training set. The estimates of the conditional probablities, $\\hat P(Tokyo|1), \\hat P(Japan|1)$ were zero and that caused the estimated probability, $\\hat P(1|d)$ to be zero. This gave the two terms unreasonably large influence over the predicitons of the model. In contrast the smoothed model was able to lower the influence of the absence of terms like Tokyo and Japan of a given label by assigning a default occurance of one to all terms, which in turns, allows the model to make dicisions based on more important evidence in our documnet such as term, \"China\". As a result, the model was able to classify documents more reasonably.\n",
    "\n"
   ]
  },
  {
   "cell_type": "code",
   "execution_count": null,
   "metadata": {},
   "outputs": [],
   "source": [
    "# part d/e - if you didn't write out your calcuations above, embed a picture of them here:\n",
    "from IPython.display import Image\n",
    "Image(filename=\"path-to-hand-calulations-image.png\")"
   ]
  },
  {
   "cell_type": "markdown",
   "metadata": {},
   "source": [
    "# Question 7: Naive Bayes Inference.\n",
    "In the next two questions you'll write code to parallelize the Naive Bayes calculations that you performed above. We'll do this in two phases: one MapReduce job to perform training and a second MapReduce to perform inference. While in practice we'd need to train a model before we can use it to classify documents, for learning purposes we're going to develop our code in the opposite order. By first focusing on the pieces of information/format we need to perform the classification (inference) task you should find it easier to develop a solid implementation for training phase when you get to question 8 below. In both of these questions we'll continue to use the Chinese example corpus from the textbook to help us test our MapReduce code as we develop it. Below we've reproduced the corpus, test set and model in text format that matches the Enron data.\n",
    "\n",
    "### Q7 Tasks:\n",
    "* __a) short response:__ run the provided cells to create the example files and load them in to HDFS. Then take a closer look at __`NBmodel.txt`__. This text file represents a Naive Bayes model trained (with Laplace +1 smoothing) on the example corpus. What are the 'keys' and 'values' in this file? Which record means something slightly different than the rest? The value field of each record includes two numbers which will be helpful for debugging but which we don't actually need to perform inference -- what are they? [`HINT`: _This file represents the model from Example 13.1 in the textbook, if you're having trouble getting oriented try comparing our file to the numbers in that example._]\n",
    "\n",
    "\n",
    "* __b) short response:__ When performing Naive Bayes in practice instead of multiplying the probabilities (as in equation 13.3) we add their logs (as in equation 13.4). Why do we choose to work with log probabilities? If we had an unsmoothed model, what potential error could arise from this transformation?\n",
    "\n",
    "\n",
    "* __c) short response:__ Documents 6 and 8 in the test set include a word that did not appear in the training corpus (and as a result does not appear in the model). What should we do at inference time when we need a class conditional probability for this word?\n",
    "\n",
    "\n",
    "* __d) short response:__ The goal of our MapReduce job is to stream over the test set and classify each document by peforming the calculation from equation 13.4. To do this we'll load the model file (which contains the probabilities for equation 13.4) into memory on the nodes where we do our mapping. This is called an in-memory join. Does loading a model 'state' like this depart from the functional programming principles? Explain why or why not. From a scability perspective when would this kind of memory use be justified? when would it be unwise?\n",
    "\n",
    "\n",
    "* __e) code:__ Complete the code in __`NaiveBayes/classify_mapper.py`__. Read the docstring carefully to understand how this script should work and the format it should return. Run the provided unit tests to confirm that your script works as expected then write a Hadoop streaming job to classify the Chinese example test set. [`HINT 1:` _you shouldn't need a reducer for this one._ `HINT 2:` _Don't forget to add the model file to the_ `-files` _parameter in your Hadoop streaming job so that it gets shipped to the mapper nodes where it will be accessed by your script._]\n",
    "\n",
    "\n",
    "* __f) short response:__ In our test example and in the Enron data set we have fairly short documents. Since these fit fine in memory on a mapper node we didn't need a reducer and could just do all of our calculations in the mapper. However with much longer documents (eg. books) we might want a higher level of parallelization -- for example we might want to process parts of a document on different nodes. In this hypothetical scenario how would our algorithm design change? What could the mappers still do? What key-value structure would they emit? What would the reducers have to do as a last step?"
   ]
  },
  {
   "cell_type": "markdown",
   "metadata": {},
   "source": [
    "### Q7 Student Answers:\n",
    "> __a)__ \n",
    ">> The keys are the first value in the records, and the values are the information in all the rest of each record.\n",
    ">> The record having its key as ClassPriors is different. It contains the prior probabilities for the classes  \n",
    ">> The first two numbers of each records are not needed to make inferences. They represent the counts of term occurances given a label, or in the case of ClassPriors, the count of documents given a label.\n",
    "\n",
    "> __b)__ Because when we multiply many fractions, in computation, the number might get really small for us to run into underflow issue. Therefore, we perform addition for the logs of probabilities instead. If we have a unsmoothed model, some estimates for conditional probabilities might be zero, and the log of zero is undefined. We might encounter this error when taking logs on the probability estimates when using an unsmoothed model. \n",
    "\n",
    "> __c)__ We disregard it by assigning a conditional probablity of 1 or 0 for the log of conditional probability such that they don't influence the outcome of the inference.\n",
    "\n",
    "> __d)__ \n",
    ">> I don't think loading the model file into memory on the nodes where we do our mapping goes against the functional programming principle bacause the mapper nodes only read from the model file and use it for subsequent computation and do not update the file. Therefore, the mappers do not need to be aware of anything outside of their tast as they perform the computation which fits the principles of functional programming.  \n",
    ">> From scalability point of view, when having a very lean model with a small vocabulary like this example, it works to load to memory. However, when working with model that might need to use a big vocabulary, it would be unwise to design it to load all the terms and conditional probabilities into memory.\n",
    "\n",
    "> __e)__ Complete the coding portion of this question before answering 'f'.\n",
    "\n",
    "> __f)__ I will just have the mappers calculate the partial sum of log probabilities for the parts of different documents they are assigned with. They should emit as output docID, \\_class as keys and logpHam, logpSpam as values. The reducers will aggregate logpHam and logpSpam by the key and predict which class a document is."
   ]
  },
  {
   "cell_type": "markdown",
   "metadata": {},
   "source": [
    "Run these cells to create the example corpus and model."
   ]
  },
  {
   "cell_type": "code",
   "execution_count": 23,
   "metadata": {},
   "outputs": [
    {
     "name": "stdout",
     "output_type": "stream",
     "text": [
      "Writing NaiveBayes/chineseTrain.txt\n"
     ]
    }
   ],
   "source": [
    "%%writefile NaiveBayes/chineseTrain.txt\n",
    "D1\t1\t\tChinese Beijing Chinese\n",
    "D2\t1\t\tChinese Chinese Shanghai\n",
    "D3\t1\t\tChinese Macao\n",
    "D4\t0\t\tTokyo Japan Chinese"
   ]
  },
  {
   "cell_type": "code",
   "execution_count": 24,
   "metadata": {},
   "outputs": [
    {
     "name": "stdout",
     "output_type": "stream",
     "text": [
      "Writing NaiveBayes/chineseTest.txt\n"
     ]
    }
   ],
   "source": [
    "%%writefile NaiveBayes/chineseTest.txt\n",
    "D5\t1\t\tChinese Chinese Chinese Tokyo Japan\n",
    "D6\t1\t\tBeijing Shanghai Trade\n",
    "D7\t0\t\tJapan Macao Tokyo\n",
    "D8\t0\t\tTokyo Japan Trade"
   ]
  },
  {
   "cell_type": "code",
   "execution_count": 25,
   "metadata": {},
   "outputs": [
    {
     "name": "stdout",
     "output_type": "stream",
     "text": [
      "Writing NBmodel.txt\n"
     ]
    }
   ],
   "source": [
    "%%writefile NBmodel.txt\n",
    "beijing\t0.0,1.0,0.111111111111,0.142857142857\n",
    "chinese\t1.0,5.0,0.222222222222,0.428571428571\n",
    "tokyo\t1.0,0.0,0.222222222222,0.0714285714286\n",
    "shanghai\t0.0,1.0,0.111111111111,0.142857142857\n",
    "ClassPriors\t1.0,3.0,0.25,0.75\n",
    "japan\t1.0,0.0,0.222222222222,0.0714285714286\n",
    "macao\t0.0,1.0,0.111111111111,0.142857142857"
   ]
  },
  {
   "cell_type": "code",
   "execution_count": 11,
   "metadata": {},
   "outputs": [],
   "source": [
    "# load the data files into HDFS\n",
    "!hdfs dfs -copyFromLocal NaiveBayes/chineseTrain.txt {HDFS_DIR}\n",
    "!hdfs dfs -copyFromLocal NaiveBayes/chineseTest.txt {HDFS_DIR}"
   ]
  },
  {
   "cell_type": "markdown",
   "metadata": {},
   "source": [
    "Your work for `part e` starts here:"
   ]
  },
  {
   "cell_type": "code",
   "execution_count": 27,
   "metadata": {},
   "outputs": [],
   "source": [
    "# part e - do your work in NaiveBayes/classify_mapper.py first, then run this cell.\n",
    "!chmod a+x NaiveBayes/classify_mapper.py"
   ]
  },
  {
   "cell_type": "code",
   "execution_count": 31,
   "metadata": {},
   "outputs": [
    {
     "name": "stdout",
     "output_type": "stream",
     "text": [
      "d5  1  -8.90668134500626   -8.10769031284611   1\n",
      "d6  1  -5.780743515794329  -4.179502370564408  1\n",
      "d7  0  -6.591673732011658  -7.511706880737812  0\n",
      "d8  0  -4.394449154674438  -5.565796731681498  0\n"
     ]
    }
   ],
   "source": [
    "# part e - unit test NaiveBayes/classify_mapper.py (RUN THIS CELL AS IS)\n",
    "!cat NaiveBayes/chineseTest.txt | NaiveBayes/classify_mapper.py | column -t"
   ]
  },
  {
   "cell_type": "code",
   "execution_count": 42,
   "metadata": {},
   "outputs": [
    {
     "name": "stdout",
     "output_type": "stream",
     "text": [
      "Deleted /user/root/HW2/chinese-output\n"
     ]
    }
   ],
   "source": [
    "# part e - clear the output directory in HDFS (RUN THIS CELL AS IS)\n",
    "!hdfs dfs -rm -r {HDFS_DIR}/chinese-output"
   ]
  },
  {
   "cell_type": "code",
   "execution_count": 43,
   "metadata": {},
   "outputs": [
    {
     "name": "stdout",
     "output_type": "stream",
     "text": [
      "packageJobJar: [] [/usr/lib/hadoop-mapreduce/hadoop-streaming-2.6.0-cdh5.15.1.jar] /tmp/streamjob8204806717041595072.jar tmpDir=null\n",
      "19/09/17 21:07:46 INFO client.RMProxy: Connecting to ResourceManager at /0.0.0.0:8032\n",
      "19/09/17 21:07:46 INFO client.RMProxy: Connecting to ResourceManager at /0.0.0.0:8032\n",
      "19/09/17 21:07:47 INFO mapred.FileInputFormat: Total input paths to process : 1\n",
      "19/09/17 21:07:47 INFO mapreduce.JobSubmitter: number of splits:2\n",
      "19/09/17 21:07:47 INFO mapreduce.JobSubmitter: Submitting tokens for job: job_1568751006211_0006\n",
      "19/09/17 21:07:47 INFO impl.YarnClientImpl: Submitted application application_1568751006211_0006\n",
      "19/09/17 21:07:47 INFO mapreduce.Job: The url to track the job: http://docker.w261:8088/proxy/application_1568751006211_0006/\n",
      "19/09/17 21:07:47 INFO mapreduce.Job: Running job: job_1568751006211_0006\n",
      "19/09/17 21:07:54 INFO mapreduce.Job: Job job_1568751006211_0006 running in uber mode : false\n",
      "19/09/17 21:07:54 INFO mapreduce.Job:  map 0% reduce 0%\n",
      "19/09/17 21:08:01 INFO mapreduce.Job:  map 50% reduce 0%\n",
      "19/09/17 21:08:02 INFO mapreduce.Job:  map 100% reduce 0%\n",
      "19/09/17 21:08:07 INFO mapreduce.Job:  map 100% reduce 100%\n",
      "19/09/17 21:08:07 INFO mapreduce.Job: Job job_1568751006211_0006 completed successfully\n",
      "19/09/17 21:08:07 INFO mapreduce.Job: Counters: 49\n",
      "\tFile System Counters\n",
      "\t\tFILE: Number of bytes read=192\n",
      "\t\tFILE: Number of bytes written=448802\n",
      "\t\tFILE: Number of read operations=0\n",
      "\t\tFILE: Number of large read operations=0\n",
      "\t\tFILE: Number of write operations=0\n",
      "\t\tHDFS: Number of bytes read=403\n",
      "\t\tHDFS: Number of bytes written=178\n",
      "\t\tHDFS: Number of read operations=9\n",
      "\t\tHDFS: Number of large read operations=0\n",
      "\t\tHDFS: Number of write operations=2\n",
      "\tJob Counters \n",
      "\t\tLaunched map tasks=2\n",
      "\t\tLaunched reduce tasks=1\n",
      "\t\tData-local map tasks=2\n",
      "\t\tTotal time spent by all maps in occupied slots (ms)=9149\n",
      "\t\tTotal time spent by all reduces in occupied slots (ms)=3497\n",
      "\t\tTotal time spent by all map tasks (ms)=9149\n",
      "\t\tTotal time spent by all reduce tasks (ms)=3497\n",
      "\t\tTotal vcore-milliseconds taken by all map tasks=9149\n",
      "\t\tTotal vcore-milliseconds taken by all reduce tasks=3497\n",
      "\t\tTotal megabyte-milliseconds taken by all map tasks=9368576\n",
      "\t\tTotal megabyte-milliseconds taken by all reduce tasks=3580928\n",
      "\tMap-Reduce Framework\n",
      "\t\tMap input records=4\n",
      "\t\tMap output records=4\n",
      "\t\tMap output bytes=178\n",
      "\t\tMap output materialized bytes=198\n",
      "\t\tInput split bytes=226\n",
      "\t\tCombine input records=0\n",
      "\t\tCombine output records=0\n",
      "\t\tReduce input groups=4\n",
      "\t\tReduce shuffle bytes=198\n",
      "\t\tReduce input records=4\n",
      "\t\tReduce output records=4\n",
      "\t\tSpilled Records=8\n",
      "\t\tShuffled Maps =2\n",
      "\t\tFailed Shuffles=0\n",
      "\t\tMerged Map outputs=2\n",
      "\t\tGC time elapsed (ms)=165\n",
      "\t\tCPU time spent (ms)=3030\n",
      "\t\tPhysical memory (bytes) snapshot=851181568\n",
      "\t\tVirtual memory (bytes) snapshot=4138315776\n",
      "\t\tTotal committed heap usage (bytes)=834142208\n",
      "\tShuffle Errors\n",
      "\t\tBAD_ID=0\n",
      "\t\tCONNECTION=0\n",
      "\t\tIO_ERROR=0\n",
      "\t\tWRONG_LENGTH=0\n",
      "\t\tWRONG_MAP=0\n",
      "\t\tWRONG_REDUCE=0\n",
      "\tFile Input Format Counters \n",
      "\t\tBytes Read=177\n",
      "\tFile Output Format Counters \n",
      "\t\tBytes Written=178\n",
      "19/09/17 21:08:07 INFO streaming.StreamJob: Output directory: /user/root/HW2/chinese-output\n"
     ]
    }
   ],
   "source": [
    "# part e - write your Hadooop streaming job here\n",
    "!hadoop jar {JAR_FILE} \\\n",
    "  -files NaiveBayes/classify_mapper.py,NBmodel.txt \\\n",
    "  -mapper classify_mapper.py \\\n",
    "  -reducer /bin/cat \\\n",
    "  -input {HDFS_DIR}/chineseTest.txt \\\n",
    "  -output {HDFS_DIR}/chinese-output \\\n",
    "  -cmdenv PATH={PATH}"
   ]
  },
  {
   "cell_type": "code",
   "execution_count": 44,
   "metadata": {},
   "outputs": [],
   "source": [
    "# part e - retrieve test set results from HDFS (RUN THIS CELL AS IS)\n",
    "!hdfs dfs -cat {HDFS_DIR}/chinese-output/part-000* > NaiveBayes/chineseResults.txt"
   ]
  },
  {
   "cell_type": "code",
   "execution_count": 45,
   "metadata": {},
   "outputs": [
    {
     "name": "stdout",
     "output_type": "stream",
     "text": [
      "d5  1  -8.90668134500626   -8.10769031284611   1\n",
      "d6  1  -5.780743515794329  -4.179502370564408  1\n",
      "d7  0  -6.591673732011658  -7.511706880737812  0\n",
      "d8  0  -4.394449154674438  -5.565796731681498  0\n"
     ]
    }
   ],
   "source": [
    "# part e - take a look (RUN THIS CELL AS IS)\n",
    "!cat NaiveBayes/chineseResults.txt | column -t"
   ]
  },
  {
   "cell_type": "markdown",
   "metadata": {},
   "source": [
    "<table>\n",
    "<th> Expected output for the test set:</th>\n",
    "<tr align=Left><td><pre>\n",
    "d5\t1\t-8.90668134\t-8.10769031\t1\n",
    "d6\t1\t-5.78074351\t-4.17950237\t1\n",
    "d7\t0\t-6.59167373\t-7.51170688\t0\n",
    "d8\t0\t-4.39444915\t-5.56579673\t0\n",
    "</pre></td><tr>\n",
    "</table>"
   ]
  },
  {
   "cell_type": "markdown",
   "metadata": {},
   "source": [
    "# Question 8: Naive Bayes Training.\n",
    "In Question 7 we used a model that we had trained by hand. Next we'll develop the code to do that same training in parallel, making it suitable for use with larger corpora (like the Enron emails). The end result of the MapReduce job you write in this question should be a model text file that looks just like the example (`NBmodel.txt`) that we created by hand above.\n",
    "\n",
    "To refresh your memory about the training process take a look at  `6a` and `6b` where you described the pieces of information you'll need to collect in order to encode a Multinomial Naive Bayes model. We now want to retrieve those pieces of information while streaming over a corpus. The bulk of the task will be very similar to the word counting excercises you've already done but you may want to consider a slightly different key-value record structure to efficiently tally counts for each class. \n",
    "\n",
    "The most challenging (interesting?) design question will be how to retrieve the totals (# of documents and # of words in documents for each class). Of course, counting these numbers is easy. The hard part is the timing: you'll need to make sure you have the counts totalled up _before_ you start estimating the class conditional probabilities for each word. It would be best (i.e. most scalable) if we could find a way to do this tallying without storing the whole vocabulary in memory... Use an appropriate MapReduce design pattern to implement this efficiently! \n",
    "\n",
    "\n",
    "### Q8 Tasks:\n",
    "* __a) make a plan:__  Fill in the docstrings for __`NaiveBayes/train_mapper.py`__ and __`NaiveBayes/train_reducer.py`__ to appropriately reflect the format that each script will input/output. [`HINT:` _the input files_ (`enronemail_1h.txt` & `chineseTrain.txt`) _have a prespecified format and your output file should match_ `NBmodel.txt` _so you really only have to decide on an internal format for Hadoop_].\n",
    "\n",
    "\n",
    "* __b) implement it:__ Complete the code in __`NaiveBayes/train_mapper.py`__ and __`NaiveBayes/train_reducer.py`__ so that together they train a Multinomial Naive Bayes model __with no smoothing__. Make sure your end result is formatted correctly (see note above). Test your scripts independently and together (using `chineseTrain.txt` or test input of your own devising). When you are satisfied with your Python code design and run a Hadoop streaming command to run your job in parallel on the __chineseTrain.txt__. Confirm that your trained model matches your hand calculations from Question 5.\n",
    "\n",
    "\n",
    "* __c) short response:__ We saw in Question 6 that adding Laplace +1 smoothing makes our classifications less sensitve to rare words. However implementing this technique requires access to one additional piece of information that we had not previously used in our Naive Bayes training. What is that extra piece of information? [`HINT:` see equation 13.7 in Manning, Raghavan and Schutze].\n",
    "\n",
    "\n",
    "* __d) short response:__ There are a couple of approaches that we could take to handle the extra piece of information you identified in `c`: 1) if we knew this extra information beforehand, we could provide it to our reducer as a configurable parameter for the vocab size dynamically (_where would we get it in the first place?_). Or 2) we could compute it in the reducer without storing any bulky information in memory but then we'd need some postprocessing or a second MapReduce job to complete the calculation (_why?_). Breifly explain what is non-ideal about each of these options. \n",
    "\n",
    "\n",
    "* __e) code + short response:__ Choose one of the 2 options above. State your choice & reasoning in the space below then use that strategy to complete the code in __`NaiveBayes/train_reducer_smooth.py`__. Test this alternate reducer then write and run a Hadoop streaming job to train an MNB model with smoothing on the Chinese example. Your results should match the model that we provided for you above (and the calculations in the textbook example). [`HINT:` _don't start from scratch with this one -- you can just copy over your reducer code from part `b` and make the needed modifications_]."
   ]
  },
  {
   "cell_type": "markdown",
   "metadata": {},
   "source": [
    "\n",
    "__IMPORTANT NOTE:__ For full credit on this question, your code must work with multiple reducers. [`HINT:`_You will need to implement custom partitioning - [Total Order Sort Notebook](https://github.com/UCB-w261/main/tree/master/HelpfulResources/TotalSortGuide/_total-sort-guide-spark2.01-JAN27-2017.ipynb)]\n"
   ]
  },
  {
   "cell_type": "markdown",
   "metadata": {},
   "source": [
    "### Q8 Student Answers:\n",
    "> __ c)__ We will need the number of unique words in our training set\n",
    "\n",
    "> __ d)__\n",
    ">> 1) We can run another pre-processing MapReduce job before training our model to compute the total number of unique words in our training set. It's very simple to do but this would also mean that we will have to take two passes on the entire training set to train the model with smoothing.\n",
    ">> 2) We can also produce the unique word count as we are processing our sorted word list in the reducers by just increment the count whenever we encounter a new word. However, we will have to post-process to get the smoothed NB model because the total number of unique words of our training set will be the sum of the total numbers of unique words in each partition. We won't be able to obtain this piece of information since this is part of the result of our entire MapReduce job. The implementation of this approach will require us to write the entire vocabulary to disk as a intermediary step which is a lot more than approach 1) which only wrote counts and read entire vocabulary again to calculate the smoothed conditional probabilities.\n",
    "\n",
    "> __ e)__ I will choose the latter of the two options. Since the size of the vocabulary is usually orders of magnitude smaller than the original text it is extracted from. I'm thinking the latter approach might work better for really large datasets."
   ]
  },
  {
   "cell_type": "code",
   "execution_count": 12,
   "metadata": {},
   "outputs": [
    {
     "name": "stdout",
     "output_type": "stream",
     "text": [
      "=========== MAPPER DOCSTRING ============\n",
      "Mapper reads in text documents and emits word counts by class.\n",
      "INPUT:                                                    \n",
      "    DocID \\t true_class \\t subject \\t body                \n",
      "OUTPUT:                                                   \n",
      "    partitionKey \\t word \\t class0_partialCount,class1_partialCount       \n",
      "    \n",
      "=========== REDUCER DOCSTRING ============\n",
      "Reducer aggregates word counts by class and emits frequencies.\n",
      "\n",
      "INPUT:\n",
      "    partitionKey \\t word \\t class0_partialCount,class1_partialCount  \n",
      "OUTPUT:\n",
      "    word \\t class0_totalCount,class1_totalCount,class0_conditionalProbability,class1_conditionalProbability\n"
     ]
    }
   ],
   "source": [
    "# part a - do your work in train_mapper.py and train_reducer.py then RUN THIS CELL AS IS\n",
    "!chmod a+x NaiveBayes/train_mapper.py\n",
    "!chmod a+x NaiveBayes/train_reducer.py\n",
    "!echo \"=========== MAPPER DOCSTRING ============\"\n",
    "!head -n 8 NaiveBayes/train_mapper.py | tail -n 6\n",
    "!echo \"=========== REDUCER DOCSTRING ============\"\n",
    "!head -n 8 NaiveBayes/train_reducer.py | tail -n 6"
   ]
  },
  {
   "cell_type": "markdown",
   "metadata": {},
   "source": [
    "__`part b starts here`:__ MNB _without_ Smoothing (training on Chinese Example Corpus)."
   ]
  },
  {
   "cell_type": "code",
   "execution_count": 13,
   "metadata": {},
   "outputs": [
    {
     "name": "stdout",
     "output_type": "stream",
     "text": [
      "A  chinese      0,1\n",
      "A  beijing      0,1\n",
      "A  chinese      0,1\n",
      "A  chinese      0,1\n",
      "A  chinese      0,1\n",
      "A  shanghai     0,1\n",
      "A  chinese      0,1\n",
      "A  macao        0,1\n",
      "A  tokyo        1,0\n",
      "A  japan        1,0\n",
      "A  chinese      1,0\n",
      "A  *docTotals   1,3\n",
      "A  *wordTotals  3,8\n"
     ]
    }
   ],
   "source": [
    "# part b - write a unit test for your mapper here\n",
    "!cat NaiveBayes/chineseTrain.txt | NaiveBayes/train_mapper.py | column -t"
   ]
  },
  {
   "cell_type": "code",
   "execution_count": 14,
   "metadata": {},
   "outputs": [
    {
     "name": "stdout",
     "output_type": "stream",
     "text": [
      "ClassPriors  1.0,1.0,0.5,0.5\n",
      "body         1.0,1.0,0.5,0.5\n",
      "title        1.0,1.0,0.5,0.5\n"
     ]
    }
   ],
   "source": [
    "# part b - write a unit test for your reducer here\n",
    "!echo -e \"A\ttitle\t0,1\\nA\tbody\t0,1\\nA\ttitle\t1,0\\nA\tbody\t1,0\\nA\t*docTotals\t1,1\\nA\t*wordTotals\t2,2\"| sort -k1,1 | NaiveBayes/train_reducer.py |column -t"
   ]
  },
  {
   "cell_type": "code",
   "execution_count": 15,
   "metadata": {},
   "outputs": [
    {
     "name": "stdout",
     "output_type": "stream",
     "text": [
      "ClassPriors  1.0,3.0,0.25,0.75\n",
      "beijing      0.0,1.0,0.0,0.125\n",
      "chinese      1.0,5.0,0.3333333333333333,0.625\n",
      "japan        1.0,0.0,0.3333333333333333,0.0\n",
      "macao        0.0,1.0,0.0,0.125\n",
      "shanghai     0.0,1.0,0.0,0.125\n",
      "tokyo        1.0,0.0,0.3333333333333333,0.0\n"
     ]
    }
   ],
   "source": [
    "# part b - write a systems test for your mapper + reducer together here\n",
    "!cat NaiveBayes/chineseTrain.txt | NaiveBayes/train_mapper.py| sort -k1,1 | NaiveBayes/train_reducer.py | column -t"
   ]
  },
  {
   "cell_type": "code",
   "execution_count": 16,
   "metadata": {},
   "outputs": [
    {
     "name": "stdout",
     "output_type": "stream",
     "text": [
      "rm: `/user/root/HW2/unsmoothed-chinese-NB-model': No such file or directory\n"
     ]
    }
   ],
   "source": [
    "# part b - clear (and name) an output directory in HDFS for your unsmoothed chinese NB model\n",
    "!hdfs dfs -rm -r {HDFS_DIR}/unsmoothed-chinese-NB-model"
   ]
  },
  {
   "cell_type": "code",
   "execution_count": 17,
   "metadata": {},
   "outputs": [
    {
     "name": "stdout",
     "output_type": "stream",
     "text": [
      "packageJobJar: [] [/usr/lib/hadoop-mapreduce/hadoop-streaming-2.6.0-cdh5.15.1.jar] /tmp/streamjob1240893402786393711.jar tmpDir=null\n",
      "19/09/18 21:12:38 INFO client.RMProxy: Connecting to ResourceManager at /0.0.0.0:8032\n",
      "19/09/18 21:12:38 INFO client.RMProxy: Connecting to ResourceManager at /0.0.0.0:8032\n",
      "19/09/18 21:12:40 INFO mapred.FileInputFormat: Total input paths to process : 1\n",
      "19/09/18 21:12:40 INFO mapreduce.JobSubmitter: number of splits:2\n",
      "19/09/18 21:12:40 INFO mapreduce.JobSubmitter: Submitting tokens for job: job_1568841085575_0001\n",
      "19/09/18 21:12:41 INFO impl.YarnClientImpl: Submitted application application_1568841085575_0001\n",
      "19/09/18 21:12:41 INFO mapreduce.Job: The url to track the job: http://docker.w261:8088/proxy/application_1568841085575_0001/\n",
      "19/09/18 21:12:41 INFO mapreduce.Job: Running job: job_1568841085575_0001\n",
      "19/09/18 21:12:49 INFO mapreduce.Job: Job job_1568841085575_0001 running in uber mode : false\n",
      "19/09/18 21:12:49 INFO mapreduce.Job:  map 0% reduce 0%\n",
      "19/09/18 21:12:56 INFO mapreduce.Job:  map 50% reduce 0%\n",
      "19/09/18 21:12:57 INFO mapreduce.Job:  map 100% reduce 0%\n",
      "19/09/18 21:13:04 INFO mapreduce.Job:  map 100% reduce 50%\n",
      "19/09/18 21:13:05 INFO mapreduce.Job:  map 100% reduce 100%\n",
      "19/09/18 21:13:05 INFO mapreduce.Job: Job job_1568841085575_0001 completed successfully\n",
      "19/09/18 21:13:05 INFO mapreduce.Job: Counters: 49\n",
      "\tFile System Counters\n",
      "\t\tFILE: Number of bytes read=339\n",
      "\t\tFILE: Number of bytes written=602480\n",
      "\t\tFILE: Number of read operations=0\n",
      "\t\tFILE: Number of large read operations=0\n",
      "\t\tFILE: Number of write operations=0\n",
      "\t\tHDFS: Number of bytes read=387\n",
      "\t\tHDFS: Number of bytes written=252\n",
      "\t\tHDFS: Number of read operations=12\n",
      "\t\tHDFS: Number of large read operations=0\n",
      "\t\tHDFS: Number of write operations=4\n",
      "\tJob Counters \n",
      "\t\tLaunched map tasks=2\n",
      "\t\tLaunched reduce tasks=2\n",
      "\t\tData-local map tasks=2\n",
      "\t\tTotal time spent by all maps in occupied slots (ms)=9194\n",
      "\t\tTotal time spent by all reduces in occupied slots (ms)=9069\n",
      "\t\tTotal time spent by all map tasks (ms)=9194\n",
      "\t\tTotal time spent by all reduce tasks (ms)=9069\n",
      "\t\tTotal vcore-milliseconds taken by all map tasks=9194\n",
      "\t\tTotal vcore-milliseconds taken by all reduce tasks=9069\n",
      "\t\tTotal megabyte-milliseconds taken by all map tasks=9414656\n",
      "\t\tTotal megabyte-milliseconds taken by all reduce tasks=9286656\n",
      "\tMap-Reduce Framework\n",
      "\t\tMap input records=4\n",
      "\t\tMap output records=19\n",
      "\t\tMap output bytes=289\n",
      "\t\tMap output materialized bytes=351\n",
      "\t\tInput split bytes=228\n",
      "\t\tCombine input records=0\n",
      "\t\tCombine output records=0\n",
      "\t\tReduce input groups=10\n",
      "\t\tReduce shuffle bytes=351\n",
      "\t\tReduce input records=19\n",
      "\t\tReduce output records=8\n",
      "\t\tSpilled Records=38\n",
      "\t\tShuffled Maps =4\n",
      "\t\tFailed Shuffles=0\n",
      "\t\tMerged Map outputs=4\n",
      "\t\tGC time elapsed (ms)=195\n",
      "\t\tCPU time spent (ms)=4290\n",
      "\t\tPhysical memory (bytes) snapshot=1033011200\n",
      "\t\tVirtual memory (bytes) snapshot=5504966656\n",
      "\t\tTotal committed heap usage (bytes)=1132986368\n",
      "\tShuffle Errors\n",
      "\t\tBAD_ID=0\n",
      "\t\tCONNECTION=0\n",
      "\t\tIO_ERROR=0\n",
      "\t\tWRONG_LENGTH=0\n",
      "\t\tWRONG_MAP=0\n",
      "\t\tWRONG_REDUCE=0\n",
      "\tFile Input Format Counters \n",
      "\t\tBytes Read=159\n",
      "\tFile Output Format Counters \n",
      "\t\tBytes Written=252\n",
      "19/09/18 21:13:05 INFO streaming.StreamJob: Output directory: /user/root/HW2/unsmoothed-chinese-NB-model\n"
     ]
    }
   ],
   "source": [
    "# part b - write your hadoop streaming job\n",
    "!hadoop jar {JAR_FILE} \\\n",
    "  -D stream.num.map.output.key.fields=2 \\\n",
    "  -D mapreduce.job.output.key.comparator.class=org.apache.hadoop.mapred.lib.KeyFieldBasedComparator \\\n",
    "  -D mapreduce.partition.keycomparator.options=\"-k2,2\" \\\n",
    "  -D mapreduce.partition.keypartitioner.options=\"-k1,1\" \\\n",
    "  -files NaiveBayes/train_mapper.py,NaiveBayes/train_reducer.py \\\n",
    "  -mapper train_mapper.py \\\n",
    "  -partitioner org.apache.hadoop.mapred.lib.KeyFieldBasedPartitioner \\\n",
    "  -reducer train_reducer.py \\\n",
    "  -input {HDFS_DIR}/chineseTrain.txt \\\n",
    "  -output {HDFS_DIR}/unsmoothed-chinese-NB-model \\\n",
    "  -numReduceTasks 2 \\\n",
    "  -cmdenv PATH={PATH}"
   ]
  },
  {
   "cell_type": "code",
   "execution_count": 18,
   "metadata": {},
   "outputs": [],
   "source": [
    "# part b - extract your results (i.e. model) to a local file\n",
    "!hdfs dfs -cat {HDFS_DIR}/unsmoothed-chinese-NB-model/part-000* > NaiveBayes/unsmoothed-chinese-NB-modelResults.txt"
   ]
  },
  {
   "cell_type": "code",
   "execution_count": 19,
   "metadata": {},
   "outputs": [
    {
     "name": "stdout",
     "output_type": "stream",
     "text": [
      "ClassPriors  1.0,3.0,0.25,0.75\n",
      "beijing      0.0,1.0,0.0,0.125\n",
      "japan        1.0,0.0,0.3333333333333333,0.0\n",
      "tokyo        1.0,0.0,0.3333333333333333,0.0\n",
      "ClassPriors  1.0,3.0,0.25,0.75\n",
      "chinese      1.0,5.0,0.3333333333333333,0.625\n",
      "macao        0.0,1.0,0.0,0.125\n",
      "shanghai     0.0,1.0,0.0,0.125\n"
     ]
    }
   ],
   "source": [
    "# part b - print your model so that we can confirm that it matches expected results\n",
    "!cat NaiveBayes/unsmoothed-chinese-NB-modelResults.txt | column -t"
   ]
  },
  {
   "cell_type": "code",
   "execution_count": 20,
   "metadata": {},
   "outputs": [
    {
     "name": "stdout",
     "output_type": "stream",
     "text": [
      "D1\t1\t\tChinese Beijing Chinese\n",
      "D2\t1\t\tChinese Chinese Shanghai\n",
      "D3\t1\t\tChinese Macao\n",
      "D4\t0\t\tTokyo Japan Chinese"
     ]
    }
   ],
   "source": [
    "!cat NaiveBayes/chineseTrain.txt"
   ]
  },
  {
   "cell_type": "markdown",
   "metadata": {},
   "source": [
    "__`part e starts here`:__ MNB _with_ Smoothing (training on Chinese Example Corpus)."
   ]
  },
  {
   "cell_type": "code",
   "execution_count": 21,
   "metadata": {},
   "outputs": [
    {
     "name": "stdout",
     "output_type": "stream",
     "text": [
      "ClassPriors    1.0,1.0,0.5,0.5\n",
      "*total_count   2.0,2.0,0.0,0.0\n",
      "body           1.0,1.0,0.5,0.5\n",
      "title          1.0,1.0,0.5,0.5\n",
      "*unique_count  2.0,2.0,0.0,0.0\n"
     ]
    }
   ],
   "source": [
    "# part e - write a unit test for your NEW reducer here\n",
    "!chmod a+x NaiveBayes/train_reducer_smooth.py\n",
    "!chmod a+x NaiveBayes/postprocess_mapper.py\n",
    "!chmod a+x NaiveBayes/postprocess_reducer.py\n",
    "!echo -e \"A\ttitle\t0,1\\nA\tbody\t0,1\\nA\ttitle\t1,0\\nA\tbody\t1,0\\nA\t*docTotals\t1,1\\nA\t*wordTotals\t2,2\"| sort -k1,1 | NaiveBayes/train_reducer_smooth.py |column -t"
   ]
  },
  {
   "cell_type": "code",
   "execution_count": 22,
   "metadata": {},
   "outputs": [
    {
     "name": "stdout",
     "output_type": "stream",
     "text": [
      "A  *total_count   3.0,8.0,0.0,0.0\n",
      "A  *unique_count  6.0,6.0,0.0,0.0\n",
      "A  ClassPriors    1.0,3.0,0.25,0.75\n",
      "A  beijing        0.0,1.0,0.0,0.125\n",
      "A  chinese        1.0,5.0,0.3333333333333333,0.625\n",
      "A  japan          1.0,0.0,0.3333333333333333,0.0\n",
      "A  macao          0.0,1.0,0.0,0.125\n",
      "A  shanghai       0.0,1.0,0.0,0.125\n",
      "A  tokyo          1.0,0.0,0.3333333333333333,0.0\n"
     ]
    }
   ],
   "source": [
    "# part e - write a systems test for your mapper + reducer together here\n",
    "!cat NaiveBayes/chineseTrain.txt | NaiveBayes/train_mapper.py| sort -k1,1 | NaiveBayes/train_reducer_smooth.py | NaiveBayes/postprocess_mapper.py | sort -k1,1 -k2,2 | column -t"
   ]
  },
  {
   "cell_type": "code",
   "execution_count": 23,
   "metadata": {},
   "outputs": [
    {
     "name": "stdout",
     "output_type": "stream",
     "text": [
      "beijing      0.0,1.0,0.1111111111111111,0.14285714285714285\n",
      "chinese      1.0,5.0,0.2222222222222222,0.42857142857142855\n",
      "japan        1.0,0.0,0.2222222222222222,0.07142857142857142\n",
      "macao        0.0,1.0,0.1111111111111111,0.14285714285714285\n",
      "shanghai     0.0,1.0,0.1111111111111111,0.14285714285714285\n",
      "tokyo        1.0,0.0,0.2222222222222222,0.07142857142857142\n",
      "ClassPriors  1.0,3.0,0.25,0.75\n"
     ]
    }
   ],
   "source": [
    "# part e - write a systems test for your mapper + reducer together here\n",
    "!cat NaiveBayes/chineseTrain.txt | NaiveBayes/train_mapper.py| sort -k1,1 | NaiveBayes/train_reducer_smooth.py | NaiveBayes/postprocess_mapper.py | sort -k1,1 -k2,2 | NaiveBayes/postprocess_reducer.py | column -t"
   ]
  },
  {
   "cell_type": "code",
   "execution_count": 24,
   "metadata": {},
   "outputs": [
    {
     "name": "stdout",
     "output_type": "stream",
     "text": [
      "rm: `/user/root/HW2/smoothed-chinese-NB-model_temp': No such file or directory\n"
     ]
    }
   ],
   "source": [
    "# part e - clear (and name) an output directory in HDFS for your SMOOTHED chinese NB model\n",
    "!hdfs dfs -rm -r {HDFS_DIR}/smoothed-chinese-NB-model_temp"
   ]
  },
  {
   "cell_type": "code",
   "execution_count": 25,
   "metadata": {},
   "outputs": [
    {
     "name": "stdout",
     "output_type": "stream",
     "text": [
      "packageJobJar: [] [/usr/lib/hadoop-mapreduce/hadoop-streaming-2.6.0-cdh5.15.1.jar] /tmp/streamjob4831795807205008295.jar tmpDir=null\n",
      "19/09/18 21:13:20 INFO client.RMProxy: Connecting to ResourceManager at /0.0.0.0:8032\n",
      "19/09/18 21:13:20 INFO client.RMProxy: Connecting to ResourceManager at /0.0.0.0:8032\n",
      "19/09/18 21:13:21 INFO mapred.FileInputFormat: Total input paths to process : 1\n",
      "19/09/18 21:13:21 INFO mapreduce.JobSubmitter: number of splits:2\n",
      "19/09/18 21:13:21 INFO mapreduce.JobSubmitter: Submitting tokens for job: job_1568841085575_0002\n",
      "19/09/18 21:13:21 INFO impl.YarnClientImpl: Submitted application application_1568841085575_0002\n",
      "19/09/18 21:13:21 INFO mapreduce.Job: The url to track the job: http://docker.w261:8088/proxy/application_1568841085575_0002/\n",
      "19/09/18 21:13:21 INFO mapreduce.Job: Running job: job_1568841085575_0002\n",
      "19/09/18 21:13:29 INFO mapreduce.Job: Job job_1568841085575_0002 running in uber mode : false\n",
      "19/09/18 21:13:29 INFO mapreduce.Job:  map 0% reduce 0%\n",
      "19/09/18 21:13:35 INFO mapreduce.Job:  map 50% reduce 0%\n",
      "19/09/18 21:13:36 INFO mapreduce.Job:  map 100% reduce 0%\n",
      "19/09/18 21:13:42 INFO mapreduce.Job:  map 100% reduce 50%\n",
      "19/09/18 21:13:43 INFO mapreduce.Job:  map 100% reduce 100%\n",
      "19/09/18 21:13:44 INFO mapreduce.Job: Job job_1568841085575_0002 completed successfully\n",
      "19/09/18 21:13:44 INFO mapreduce.Job: Counters: 49\n",
      "\tFile System Counters\n",
      "\t\tFILE: Number of bytes read=339\n",
      "\t\tFILE: Number of bytes written=602632\n",
      "\t\tFILE: Number of read operations=0\n",
      "\t\tFILE: Number of large read operations=0\n",
      "\t\tFILE: Number of write operations=0\n",
      "\t\tHDFS: Number of bytes read=387\n",
      "\t\tHDFS: Number of bytes written=370\n",
      "\t\tHDFS: Number of read operations=12\n",
      "\t\tHDFS: Number of large read operations=0\n",
      "\t\tHDFS: Number of write operations=4\n",
      "\tJob Counters \n",
      "\t\tLaunched map tasks=2\n",
      "\t\tLaunched reduce tasks=2\n",
      "\t\tData-local map tasks=2\n",
      "\t\tTotal time spent by all maps in occupied slots (ms)=8808\n",
      "\t\tTotal time spent by all reduces in occupied slots (ms)=8706\n",
      "\t\tTotal time spent by all map tasks (ms)=8808\n",
      "\t\tTotal time spent by all reduce tasks (ms)=8706\n",
      "\t\tTotal vcore-milliseconds taken by all map tasks=8808\n",
      "\t\tTotal vcore-milliseconds taken by all reduce tasks=8706\n",
      "\t\tTotal megabyte-milliseconds taken by all map tasks=9019392\n",
      "\t\tTotal megabyte-milliseconds taken by all reduce tasks=8914944\n",
      "\tMap-Reduce Framework\n",
      "\t\tMap input records=4\n",
      "\t\tMap output records=19\n",
      "\t\tMap output bytes=289\n",
      "\t\tMap output materialized bytes=351\n",
      "\t\tInput split bytes=228\n",
      "\t\tCombine input records=0\n",
      "\t\tCombine output records=0\n",
      "\t\tReduce input groups=10\n",
      "\t\tReduce shuffle bytes=351\n",
      "\t\tReduce input records=19\n",
      "\t\tReduce output records=12\n",
      "\t\tSpilled Records=38\n",
      "\t\tShuffled Maps =4\n",
      "\t\tFailed Shuffles=0\n",
      "\t\tMerged Map outputs=4\n",
      "\t\tGC time elapsed (ms)=205\n",
      "\t\tCPU time spent (ms)=4220\n",
      "\t\tPhysical memory (bytes) snapshot=1027776512\n",
      "\t\tVirtual memory (bytes) snapshot=5520674816\n",
      "\t\tTotal committed heap usage (bytes)=1070596096\n",
      "\tShuffle Errors\n",
      "\t\tBAD_ID=0\n",
      "\t\tCONNECTION=0\n",
      "\t\tIO_ERROR=0\n",
      "\t\tWRONG_LENGTH=0\n",
      "\t\tWRONG_MAP=0\n",
      "\t\tWRONG_REDUCE=0\n",
      "\tFile Input Format Counters \n",
      "\t\tBytes Read=159\n",
      "\tFile Output Format Counters \n",
      "\t\tBytes Written=370\n",
      "19/09/18 21:13:44 INFO streaming.StreamJob: Output directory: /user/root/HW2/smoothed-chinese-NB-model_temp\n"
     ]
    }
   ],
   "source": [
    "# part e - write your hadoop streaming job\n",
    "!hadoop jar {JAR_FILE} \\\n",
    "  -D stream.num.map.output.key.fields=2 \\\n",
    "  -D mapreduce.job.output.key.comparator.class=org.apache.hadoop.mapred.lib.KeyFieldBasedComparator \\\n",
    "  -D mapreduce.partition.keycomparator.options=\"-k2,2\" \\\n",
    "  -D mapreduce.partition.keypartitioner.options=\"-k1,1\" \\\n",
    "  -files NaiveBayes/train_mapper.py,NaiveBayes/train_reducer_smooth.py \\\n",
    "  -mapper train_mapper.py \\\n",
    "  -partitioner org.apache.hadoop.mapred.lib.KeyFieldBasedPartitioner \\\n",
    "  -reducer train_reducer_smooth.py \\\n",
    "  -input {HDFS_DIR}/chineseTrain.txt \\\n",
    "  -output {HDFS_DIR}/smoothed-chinese-NB-model_temp \\\n",
    "  -numReduceTasks 2 \\\n",
    "  -cmdenv PATH={PATH}"
   ]
  },
  {
   "cell_type": "code",
   "execution_count": 26,
   "metadata": {},
   "outputs": [
    {
     "name": "stdout",
     "output_type": "stream",
     "text": [
      "rm: `/user/root/HW2/smoothed-chinese-NB-model': No such file or directory\n",
      "packageJobJar: [] [/usr/lib/hadoop-mapreduce/hadoop-streaming-2.6.0-cdh5.15.1.jar] /tmp/streamjob7838169417323661751.jar tmpDir=null\n",
      "19/09/18 21:13:50 INFO client.RMProxy: Connecting to ResourceManager at /0.0.0.0:8032\n",
      "19/09/18 21:13:50 INFO client.RMProxy: Connecting to ResourceManager at /0.0.0.0:8032\n",
      "19/09/18 21:13:51 INFO mapred.FileInputFormat: Total input paths to process : 2\n",
      "19/09/18 21:13:51 INFO mapreduce.JobSubmitter: number of splits:2\n",
      "19/09/18 21:13:51 INFO mapreduce.JobSubmitter: Submitting tokens for job: job_1568841085575_0003\n",
      "19/09/18 21:13:51 INFO impl.YarnClientImpl: Submitted application application_1568841085575_0003\n",
      "19/09/18 21:13:51 INFO mapreduce.Job: The url to track the job: http://docker.w261:8088/proxy/application_1568841085575_0003/\n",
      "19/09/18 21:13:51 INFO mapreduce.Job: Running job: job_1568841085575_0003\n",
      "19/09/18 21:13:59 INFO mapreduce.Job: Job job_1568841085575_0003 running in uber mode : false\n",
      "19/09/18 21:13:59 INFO mapreduce.Job:  map 0% reduce 0%\n",
      "19/09/18 21:14:05 INFO mapreduce.Job:  map 50% reduce 0%\n",
      "19/09/18 21:14:06 INFO mapreduce.Job:  map 100% reduce 0%\n",
      "19/09/18 21:14:11 INFO mapreduce.Job:  map 100% reduce 50%\n",
      "19/09/18 21:14:13 INFO mapreduce.Job:  map 100% reduce 100%\n",
      "19/09/18 21:14:13 INFO mapreduce.Job: Job job_1568841085575_0003 completed successfully\n",
      "19/09/18 21:14:13 INFO mapreduce.Job: Counters: 49\n",
      "\tFile System Counters\n",
      "\t\tFILE: Number of bytes read=564\n",
      "\t\tFILE: Number of bytes written=603218\n",
      "\t\tFILE: Number of read operations=0\n",
      "\t\tFILE: Number of large read operations=0\n",
      "\t\tFILE: Number of write operations=0\n",
      "\t\tHDFS: Number of bytes read=648\n",
      "\t\tHDFS: Number of bytes written=355\n",
      "\t\tHDFS: Number of read operations=12\n",
      "\t\tHDFS: Number of large read operations=0\n",
      "\t\tHDFS: Number of write operations=4\n",
      "\tJob Counters \n",
      "\t\tLaunched map tasks=2\n",
      "\t\tLaunched reduce tasks=2\n",
      "\t\tData-local map tasks=2\n",
      "\t\tTotal time spent by all maps in occupied slots (ms)=8833\n",
      "\t\tTotal time spent by all reduces in occupied slots (ms)=8217\n",
      "\t\tTotal time spent by all map tasks (ms)=8833\n",
      "\t\tTotal time spent by all reduce tasks (ms)=8217\n",
      "\t\tTotal vcore-milliseconds taken by all map tasks=8833\n",
      "\t\tTotal vcore-milliseconds taken by all reduce tasks=8217\n",
      "\t\tTotal megabyte-milliseconds taken by all map tasks=9044992\n",
      "\t\tTotal megabyte-milliseconds taken by all reduce tasks=8414208\n",
      "\tMap-Reduce Framework\n",
      "\t\tMap input records=12\n",
      "\t\tMap output records=16\n",
      "\t\tMap output bytes=520\n",
      "\t\tMap output materialized bytes=576\n",
      "\t\tInput split bytes=278\n",
      "\t\tCombine input records=0\n",
      "\t\tCombine output records=0\n",
      "\t\tReduce input groups=11\n",
      "\t\tReduce shuffle bytes=576\n",
      "\t\tReduce input records=16\n",
      "\t\tReduce output records=7\n",
      "\t\tSpilled Records=32\n",
      "\t\tShuffled Maps =4\n",
      "\t\tFailed Shuffles=0\n",
      "\t\tMerged Map outputs=4\n",
      "\t\tGC time elapsed (ms)=210\n",
      "\t\tCPU time spent (ms)=3850\n",
      "\t\tPhysical memory (bytes) snapshot=1128869888\n",
      "\t\tVirtual memory (bytes) snapshot=5503291392\n",
      "\t\tTotal committed heap usage (bytes)=1195376640\n",
      "\tShuffle Errors\n",
      "\t\tBAD_ID=0\n",
      "\t\tCONNECTION=0\n",
      "\t\tIO_ERROR=0\n",
      "\t\tWRONG_LENGTH=0\n",
      "\t\tWRONG_MAP=0\n",
      "\t\tWRONG_REDUCE=0\n",
      "\tFile Input Format Counters \n",
      "\t\tBytes Read=370\n",
      "\tFile Output Format Counters \n",
      "\t\tBytes Written=355\n",
      "19/09/18 21:14:13 INFO streaming.StreamJob: Output directory: /user/root/HW2/smoothed-chinese-NB-model\n"
     ]
    }
   ],
   "source": [
    "!hdfs dfs -rm -r {HDFS_DIR}/smoothed-chinese-NB-model\n",
    "!hadoop jar {JAR_FILE} \\\n",
    "  -D stream.num.map.output.key.fields=2 \\\n",
    "  -D mapreduce.job.output.key.comparator.class=org.apache.hadoop.mapred.lib.KeyFieldBasedComparator \\\n",
    "  -D mapreduce.partition.keycomparator.options=\"-k2,2\" \\\n",
    "  -D mapreduce.partition.keypartitioner.options=\"-k1,1\" \\\n",
    "  -files NaiveBayes/postprocess_mapper.py,NaiveBayes/postprocess_reducer.py \\\n",
    "  -mapper postprocess_mapper.py \\\n",
    "  -partitioner org.apache.hadoop.mapred.lib.KeyFieldBasedPartitioner \\\n",
    "  -reducer postprocess_reducer.py \\\n",
    "  -input {HDFS_DIR}/smoothed-chinese-NB-model_temp \\\n",
    "  -output {HDFS_DIR}/smoothed-chinese-NB-model \\\n",
    "  -numReduceTasks 2 \\\n",
    "  -cmdenv PATH={PATH}"
   ]
  },
  {
   "cell_type": "code",
   "execution_count": 27,
   "metadata": {},
   "outputs": [],
   "source": [
    "# part b - extract your results (i.e. model) to a local file\n",
    "!hdfs dfs -cat {HDFS_DIR}/smoothed-chinese-NB-model_temp/part-000* > NaiveBayes/smoothed-chinese-NB-model_temp.txt"
   ]
  },
  {
   "cell_type": "code",
   "execution_count": 28,
   "metadata": {},
   "outputs": [
    {
     "name": "stdout",
     "output_type": "stream",
     "text": [
      "ClassPriors    1.0,3.0,0.25,0.75\n",
      "*total_count   3.0,8.0,0.0,0.0\n",
      "beijing        0.0,1.0,0.0,0.125\n",
      "japan          1.0,0.0,0.3333333333333333,0.0\n",
      "tokyo          1.0,0.0,0.3333333333333333,0.0\n",
      "*unique_count  3.0,3.0,0.0,0.0\n",
      "ClassPriors    1.0,3.0,0.25,0.75\n",
      "*total_count   3.0,8.0,0.0,0.0\n",
      "chinese        1.0,5.0,0.3333333333333333,0.625\n",
      "macao          0.0,1.0,0.0,0.125\n",
      "shanghai       0.0,1.0,0.0,0.125\n",
      "*unique_count  3.0,3.0,0.0,0.0\n"
     ]
    }
   ],
   "source": [
    "# part b - print your model so that we can confirm that it matches expected results\n",
    "!cat NaiveBayes/smoothed-chinese-NB-model_temp.txt | column -t"
   ]
  },
  {
   "cell_type": "code",
   "execution_count": 29,
   "metadata": {},
   "outputs": [],
   "source": [
    "# part e - extract your results (i.e. model) to a local file\n",
    "!hdfs dfs -cat {HDFS_DIR}/smoothed-chinese-NB-model/part-000* > NaiveBayes/smoothed-chinese-NB-model.txt"
   ]
  },
  {
   "cell_type": "code",
   "execution_count": 30,
   "metadata": {},
   "outputs": [
    {
     "name": "stdout",
     "output_type": "stream",
     "text": [
      "beijing      0.0,1.0,0.1111111111111111,0.14285714285714285\n",
      "chinese      1.0,5.0,0.2222222222222222,0.42857142857142855\n",
      "japan        1.0,0.0,0.2222222222222222,0.07142857142857142\n",
      "macao        0.0,1.0,0.1111111111111111,0.14285714285714285\n",
      "shanghai     0.0,1.0,0.1111111111111111,0.14285714285714285\n",
      "tokyo        1.0,0.0,0.2222222222222222,0.07142857142857142\n",
      "ClassPriors  1.0,3.0,0.25,0.75\n"
     ]
    }
   ],
   "source": [
    "!cat NaiveBayes/smoothed-chinese-NB-model.txt | column -t"
   ]
  },
  {
   "cell_type": "markdown",
   "metadata": {},
   "source": [
    "# Question 9: Enron Ham/Spam NB Classifier & Results.\n",
    "\n",
    "Fantastic work. We're finally ready to perform Spam Classification on the Enron Corpus. In this question you'll run the analysis you've developed, report its performance, and draw some conclusions.\n",
    "\n",
    "### Q9 Tasks:\n",
    "* __a) train/test split:__ Run the provided code to split our Enron file into a training set and testing set then load them into HDFS. \n",
    "\n",
    "[`NOTE:` _Make sure you re calculate the vocab size for just the training set!_]\n",
    "\n",
    "* __b) train 2 models:__ Write Hadoop Streaming jobs to train MNB Models on the training set with and without smoothing. Save your models to local files at __`NaiveBayes/Unsmoothed/NBmodel.txt`__ and __`NaiveBayes/Smoothed/NBmodel.txt`__. [`NOTE:` _This naming is important because we wrote our classification task so that it expects a file of that name... if this inelegance frustrates you there is an alternative that would involve a few adjustments to your code [read more about it here](http://www.tnoda.com/blog/2013-11-23)._] Finally run the checks that we provide to confirm that your results are correct.\n",
    "\n",
    "\n",
    "* __c) code:__ Recall that we designed our classification job with just a mapper. An efficient way to report the performance of our models would be to simply add a reducer phase to this job and compute precision and recall right there. Complete the code in __`NaiveBayes/evaluation_reducer.py`__ and then write Hadoop jobs to evaluate your two models on the test set. Report their performance side by side. [`NOTE:` if you need a refresher on precision, recall and F1-score [Wikipedia](https://en.wikipedia.org/wiki/F1_score) is a good resource.]\n",
    "\n",
    "\n",
    "* __d) short response:__ Compare the performance of your two models. What do you notice about the unsmoothed model's predictions? Can you guess why this is happening? Which evaluation measure do you think is most relevant in our use case? [`NOTE:` _Feel free to answer using your common sense but if you want more information on evaluating the classification task checkout_ [this blogpost](https://tryolabs.com/blog/2013/03/25/why-accuracy-alone-bad-measure-classification-tasks-and-what-we-can-do-about-it/\n",
    ") or [this paper](http://www.flinders.edu.au/science_engineering/fms/School-CSEM/publications/tech_reps-research_artfcts/TRRA_2007.pdf\n",
    ")]\n",
    "\n",
    "\n",
    "* __e) code + short response:__ Let's look at the top ten words with the highest conditional probability in `Spam` and in `Ham`. We'll do this by writing a Hadoop job that sorts the model file (`NaiveBayes/Smoothed/NBmodel.py`). Normally we'd have to run two jobs -- one that sorts on $P(word|ham)$ and another that sorts on $P(word|spam)$. However if we slighly modify the data format in the model file then we can get the top words in each class with just one job. We've written a mapper that will do just this for you. Read through __`NaiveBayes/model_sort_mapper.py`__ and then briefly explain how this mapper will allow us to partition and sort our model file. Write a Hadoop job that uses our mapper and `/bin/cat` for a reducer to partition and sort. Print out the top 10 words in each class (where 'top' == highest conditional probability).[`HINT:` _this should remind you a lot of what we did in Question 6._]\n",
    "\n",
    "\n",
    "* __f) short response:__ What do you notice about the 'top words' we printed in `e`? How would increasing the smoothing parameter 'k' affect the probabilities for the top words that you identified for 'e'. How would they affect the probabilities of words that occur much more in one class than another? In summary, how does the smoothing parameter 'k' affect the bias and the variance of our model. [`NOTE:` _you do not need to code anything for this task, but if you are struggling with it you could try changing 'k' and see what happens to the test set. We don't recommend doing this exploration with the Enron data because it will be harder to see the impact with such a big vocabulary_]"
   ]
  },
  {
   "cell_type": "markdown",
   "metadata": {},
   "source": [
    "### Q9 Student Answers:\n",
    "> __d)__ The unsmoothed model's predictions favor heavily on ham (negatives). 19 out of the 20 test examples were predicted to be ham (negative). I'm guessing it's probably because the code I have in `classify_mapper.py`. When making predictions I have these lines of code \n",
    "```\n",
    "    if logpSpam > logpHam:\n",
    "        pred_class = '1'\n",
    "    else:\n",
    "        pred_class = '0'\n",
    "```\n",
    "> A document is only predicted as spam if the predicted probability of spam is __strictly larger__ than the predicted probability of ham.  \n",
    "> Since our training sample size is small, there is going to be a lot of words that occur only in one class but not the other, which will cause us to have many estimated conditional probabilities of zero in a unsmoothed model. As we are summing up the log of probabilities, it might often be the case that each class comes across at least one word that has minus infinite as the log of conditional probablity. As a result, it's often the case that for our unsmoothed model, it's very rare that logpSpam is strictly larger than logpHam.\n",
    "\n",
    "> In terms of which measure is more important. I think the bottom line is to have high accuracy. However, when deciding between precision and recall trade-off, I think precision is more important than recall. Since we can afford to have some spam sneaking into the inbox, but it might cause more problem when we have important messages being sent to spam folder which might affect the timingly actions people need to take.\n",
    "\n",
    "> __e)__ We can include all fields into the composite key. Then use `maxClass` to partition and `maxClassP` to sort. Then make sure we use two reducers, so the top ten records in each output file would be the results we need.\n",
    "\n",
    "> __f)__ \n",
    "> Those words are usually common words in English that don't contain class-specific information.\n",
    "> Increasing k will decrease the probabilities for the top words.\n",
    "> Increasing k will make the probabilities of words that occur much more in one class than another become more even.\n",
    "> Increasing k makes the model learn less about the local information that the training set carries; therefore, it reduces the variance of our model. In other words, as k increases, it makes the model more biased towards a more simple model where all conditional probabilities are more even and we are more dependent on the priors to make our predictions.  "
   ]
  },
  {
   "cell_type": "markdown",
   "metadata": {},
   "source": [
    "__Test/Train split__"
   ]
  },
  {
   "cell_type": "code",
   "execution_count": 31,
   "metadata": {},
   "outputs": [],
   "source": [
    "# part a - test/train split (RUN THIS CELL AS IS)\n",
    "!head -n 80 data/enronemail_1h.txt > data/enron_train.txt\n",
    "!tail -n 20 data/enronemail_1h.txt > data/enron_test.txt\n",
    "!hdfs dfs -copyFromLocal data/enron_train.txt {HDFS_DIR}\n",
    "!hdfs dfs -copyFromLocal data/enron_test.txt {HDFS_DIR}"
   ]
  },
  {
   "cell_type": "markdown",
   "metadata": {},
   "source": [
    "__Training__ (Enron MNB Model _without smoothing_ )"
   ]
  },
  {
   "cell_type": "code",
   "execution_count": 81,
   "metadata": {},
   "outputs": [
    {
     "name": "stdout",
     "output_type": "stream",
     "text": [
      "Deleted /user/root/HW2/enron-model\n",
      "packageJobJar: [] [/usr/lib/hadoop-mapreduce/hadoop-streaming-2.6.0-cdh5.15.1.jar] /tmp/streamjob3766837961684397282.jar tmpDir=null\n",
      "19/09/19 00:25:09 INFO client.RMProxy: Connecting to ResourceManager at /0.0.0.0:8032\n",
      "19/09/19 00:25:09 INFO client.RMProxy: Connecting to ResourceManager at /0.0.0.0:8032\n",
      "19/09/19 00:25:10 INFO mapred.FileInputFormat: Total input paths to process : 1\n",
      "19/09/19 00:25:10 INFO mapreduce.JobSubmitter: number of splits:2\n",
      "19/09/19 00:25:10 INFO mapreduce.JobSubmitter: Submitting tokens for job: job_1568841085575_0022\n",
      "19/09/19 00:25:10 INFO impl.YarnClientImpl: Submitted application application_1568841085575_0022\n",
      "19/09/19 00:25:10 INFO mapreduce.Job: The url to track the job: http://docker.w261:8088/proxy/application_1568841085575_0022/\n",
      "19/09/19 00:25:10 INFO mapreduce.Job: Running job: job_1568841085575_0022\n",
      "19/09/19 00:25:16 INFO mapreduce.Job: Job job_1568841085575_0022 running in uber mode : false\n",
      "19/09/19 00:25:16 INFO mapreduce.Job:  map 0% reduce 0%\n",
      "19/09/19 00:25:23 INFO mapreduce.Job:  map 50% reduce 0%\n",
      "19/09/19 00:25:24 INFO mapreduce.Job:  map 100% reduce 0%\n",
      "19/09/19 00:25:31 INFO mapreduce.Job:  map 100% reduce 50%\n",
      "19/09/19 00:25:32 INFO mapreduce.Job:  map 100% reduce 100%\n",
      "19/09/19 00:25:32 INFO mapreduce.Job: Job job_1568841085575_0022 completed successfully\n",
      "19/09/19 00:25:33 INFO mapreduce.Job: Counters: 50\n",
      "\tFile System Counters\n",
      "\t\tFILE: Number of bytes read=343662\n",
      "\t\tFILE: Number of bytes written=1289058\n",
      "\t\tFILE: Number of read operations=0\n",
      "\t\tFILE: Number of large read operations=0\n",
      "\t\tFILE: Number of write operations=0\n",
      "\t\tHDFS: Number of bytes read=167388\n",
      "\t\tHDFS: Number of bytes written=205183\n",
      "\t\tHDFS: Number of read operations=12\n",
      "\t\tHDFS: Number of large read operations=0\n",
      "\t\tHDFS: Number of write operations=4\n",
      "\tJob Counters \n",
      "\t\tKilled map tasks=1\n",
      "\t\tLaunched map tasks=2\n",
      "\t\tLaunched reduce tasks=2\n",
      "\t\tData-local map tasks=2\n",
      "\t\tTotal time spent by all maps in occupied slots (ms)=9946\n",
      "\t\tTotal time spent by all reduces in occupied slots (ms)=9751\n",
      "\t\tTotal time spent by all map tasks (ms)=9946\n",
      "\t\tTotal time spent by all reduce tasks (ms)=9751\n",
      "\t\tTotal vcore-milliseconds taken by all map tasks=9946\n",
      "\t\tTotal vcore-milliseconds taken by all reduce tasks=9751\n",
      "\t\tTotal megabyte-milliseconds taken by all map tasks=10184704\n",
      "\t\tTotal megabyte-milliseconds taken by all reduce tasks=9985024\n",
      "\tMap-Reduce Framework\n",
      "\t\tMap input records=80\n",
      "\t\tMap output records=25075\n",
      "\t\tMap output bytes=293500\n",
      "\t\tMap output materialized bytes=343674\n",
      "\t\tInput split bytes=226\n",
      "\t\tCombine input records=0\n",
      "\t\tCombine output records=0\n",
      "\t\tReduce input groups=4559\n",
      "\t\tReduce shuffle bytes=343674\n",
      "\t\tReduce input records=25075\n",
      "\t\tReduce output records=4557\n",
      "\t\tSpilled Records=50150\n",
      "\t\tShuffled Maps =4\n",
      "\t\tFailed Shuffles=0\n",
      "\t\tMerged Map outputs=4\n",
      "\t\tGC time elapsed (ms)=279\n",
      "\t\tCPU time spent (ms)=8620\n",
      "\t\tPhysical memory (bytes) snapshot=1045770240\n",
      "\t\tVirtual memory (bytes) snapshot=5517062144\n",
      "\t\tTotal committed heap usage (bytes)=1195376640\n",
      "\tShuffle Errors\n",
      "\t\tBAD_ID=0\n",
      "\t\tCONNECTION=0\n",
      "\t\tIO_ERROR=0\n",
      "\t\tWRONG_LENGTH=0\n",
      "\t\tWRONG_MAP=0\n",
      "\t\tWRONG_REDUCE=0\n",
      "\tFile Input Format Counters \n",
      "\t\tBytes Read=167162\n",
      "\tFile Output Format Counters \n",
      "\t\tBytes Written=205183\n",
      "19/09/19 00:25:33 INFO streaming.StreamJob: Output directory: /user/root/HW2/enron-model\n",
      "mkdir: cannot create directory `NaiveBayes/Unsmoothed': File exists\n"
     ]
    }
   ],
   "source": [
    "# part b -  Unsmoothed model (FILL IN THE MISSING CODE BELOW)\n",
    "\n",
    "# clear the output directory\n",
    "!hdfs dfs -rm -r {HDFS_DIR}/enron-model\n",
    "\n",
    "# hadoop command\n",
    "!hadoop jar {JAR_FILE} \\\n",
    "  -D stream.num.map.output.key.fields=2 \\\n",
    "  -D mapreduce.job.output.key.comparator.class=org.apache.hadoop.mapred.lib.KeyFieldBasedComparator \\\n",
    "  -D mapreduce.partition.keycomparator.options=\"-k2,2\" \\\n",
    "  -D mapreduce.partition.keypartitioner.options=\"-k1,1\" \\\n",
    "  -files NaiveBayes/train_mapper.py,NaiveBayes/train_reducer.py \\\n",
    "  -mapper train_mapper.py \\\n",
    "  -partitioner org.apache.hadoop.mapred.lib.KeyFieldBasedPartitioner \\\n",
    "  -reducer train_reducer.py \\\n",
    "  -input {HDFS_DIR}/enron_train.txt \\\n",
    "  -output {HDFS_DIR}/enron-model \\\n",
    "  -numReduceTasks 2 \\\n",
    "  -cmdenv PATH={PATH}\n",
    "\n",
    "# save the model locally\n",
    "!mkdir NaiveBayes/Unsmoothed\n",
    "!hdfs dfs -cat {HDFS_DIR}/enron-model/part-000* > NaiveBayes/Unsmoothed/NBmodel.txt"
   ]
  },
  {
   "cell_type": "code",
   "execution_count": 82,
   "metadata": {},
   "outputs": [
    {
     "name": "stdout",
     "output_type": "stream",
     "text": [
      "assistance\t2.0,4.0,0.0001725476662928134,0.00029682398337785694\n"
     ]
    }
   ],
   "source": [
    "# part b - check your UNSMOOTHED model results (RUN THIS CELL AS IS)\n",
    "!grep assistance NaiveBayes/Unsmoothed/NBmodel.txt\n",
    "# EXPECTED OUTPUT: assistance\t2,4,0.000172547666293,0.000296823983378"
   ]
  },
  {
   "cell_type": "code",
   "execution_count": 83,
   "metadata": {},
   "outputs": [
    {
     "name": "stdout",
     "output_type": "stream",
     "text": [
      "money\t1.0,22.0,8.62738331464067e-05,0.001632531908578213\n"
     ]
    }
   ],
   "source": [
    "# part b - check your UNSMOOTHED model results (RUN THIS CELL AS IS)\n",
    "!grep money NaiveBayes/Unsmoothed/NBmodel.txt\n",
    "# EXPECTED OUTPUT: money\t1,22,8.62738331464e-05,0.00163253190858"
   ]
  },
  {
   "cell_type": "markdown",
   "metadata": {},
   "source": [
    "__Training__ (Enron MNB Model _with Laplace +1 smoothing_ )"
   ]
  },
  {
   "cell_type": "code",
   "execution_count": 84,
   "metadata": {},
   "outputs": [
    {
     "name": "stdout",
     "output_type": "stream",
     "text": [
      "Deleted /user/root/HW2/smooth-model\n",
      "packageJobJar: [] [/usr/lib/hadoop-mapreduce/hadoop-streaming-2.6.0-cdh5.15.1.jar] /tmp/streamjob8074166393501718636.jar tmpDir=null\n",
      "19/09/19 00:25:44 INFO client.RMProxy: Connecting to ResourceManager at /0.0.0.0:8032\n",
      "19/09/19 00:25:44 INFO client.RMProxy: Connecting to ResourceManager at /0.0.0.0:8032\n",
      "19/09/19 00:25:44 WARN security.UserGroupInformation: PriviledgedActionException as:root (auth:SIMPLE) cause:org.apache.hadoop.mapred.FileAlreadyExistsException: Output directory hdfs://quickstart.cloudera:8020/user/root/HW2/smoothed-model-temp already exists\n",
      "19/09/19 00:25:44 WARN security.UserGroupInformation: PriviledgedActionException as:root (auth:SIMPLE) cause:org.apache.hadoop.mapred.FileAlreadyExistsException: Output directory hdfs://quickstart.cloudera:8020/user/root/HW2/smoothed-model-temp already exists\n",
      "19/09/19 00:25:44 ERROR streaming.StreamJob: Error Launching job : Output directory hdfs://quickstart.cloudera:8020/user/root/HW2/smoothed-model-temp already exists\n",
      "Streaming Command Failed!\n",
      "packageJobJar: [] [/usr/lib/hadoop-mapreduce/hadoop-streaming-2.6.0-cdh5.15.1.jar] /tmp/streamjob1949809097040248970.jar tmpDir=null\n",
      "19/09/19 00:25:47 INFO client.RMProxy: Connecting to ResourceManager at /0.0.0.0:8032\n",
      "19/09/19 00:25:47 INFO client.RMProxy: Connecting to ResourceManager at /0.0.0.0:8032\n",
      "19/09/19 00:25:48 INFO mapred.FileInputFormat: Total input paths to process : 4\n",
      "19/09/19 00:25:48 INFO mapreduce.JobSubmitter: number of splits:4\n",
      "19/09/19 00:25:48 INFO mapreduce.JobSubmitter: Submitting tokens for job: job_1568841085575_0023\n",
      "19/09/19 00:25:48 INFO impl.YarnClientImpl: Submitted application application_1568841085575_0023\n",
      "19/09/19 00:25:49 INFO mapreduce.Job: The url to track the job: http://docker.w261:8088/proxy/application_1568841085575_0023/\n",
      "19/09/19 00:25:49 INFO mapreduce.Job: Running job: job_1568841085575_0023\n",
      "19/09/19 00:25:55 INFO mapreduce.Job: Job job_1568841085575_0023 running in uber mode : false\n",
      "19/09/19 00:25:55 INFO mapreduce.Job:  map 0% reduce 0%\n",
      "19/09/19 00:26:03 INFO mapreduce.Job:  map 25% reduce 0%\n",
      "19/09/19 00:26:05 INFO mapreduce.Job:  map 50% reduce 0%\n",
      "19/09/19 00:26:06 INFO mapreduce.Job:  map 75% reduce 0%\n",
      "19/09/19 00:26:07 INFO mapreduce.Job:  map 100% reduce 0%\n",
      "19/09/19 00:26:11 INFO mapreduce.Job:  map 100% reduce 100%\n",
      "19/09/19 00:26:12 INFO mapreduce.Job: Job job_1568841085575_0023 completed successfully\n",
      "19/09/19 00:26:12 INFO mapreduce.Job: Counters: 49\n",
      "\tFile System Counters\n",
      "\t\tFILE: Number of bytes read=224151\n",
      "\t\tFILE: Number of bytes written=1351390\n",
      "\t\tFILE: Number of read operations=0\n",
      "\t\tFILE: Number of large read operations=0\n",
      "\t\tFILE: Number of write operations=0\n",
      "\t\tHDFS: Number of bytes read=206059\n",
      "\t\tHDFS: Number of bytes written=272396\n",
      "\t\tHDFS: Number of read operations=18\n",
      "\t\tHDFS: Number of large read operations=0\n",
      "\t\tHDFS: Number of write operations=4\n",
      "\tJob Counters \n",
      "\t\tLaunched map tasks=4\n",
      "\t\tLaunched reduce tasks=2\n",
      "\t\tData-local map tasks=4\n",
      "\t\tTotal time spent by all maps in occupied slots (ms)=28944\n",
      "\t\tTotal time spent by all reduces in occupied slots (ms)=10754\n",
      "\t\tTotal time spent by all map tasks (ms)=28944\n",
      "\t\tTotal time spent by all reduce tasks (ms)=10754\n",
      "\t\tTotal vcore-milliseconds taken by all map tasks=28944\n",
      "\t\tTotal vcore-milliseconds taken by all reduce tasks=10754\n",
      "\t\tTotal megabyte-milliseconds taken by all map tasks=29638656\n",
      "\t\tTotal megabyte-milliseconds taken by all reduce tasks=11012096\n",
      "\tMap-Reduce Framework\n",
      "\t\tMap input records=4567\n",
      "\t\tMap output records=4575\n",
      "\t\tMap output bytes=214989\n",
      "\t\tMap output materialized bytes=224187\n",
      "\t\tInput split bytes=512\n",
      "\t\tCombine input records=0\n",
      "\t\tCombine output records=0\n",
      "\t\tReduce input groups=4560\n",
      "\t\tReduce shuffle bytes=224187\n",
      "\t\tReduce input records=4575\n",
      "\t\tReduce output records=4556\n",
      "\t\tSpilled Records=9150\n",
      "\t\tShuffled Maps =8\n",
      "\t\tFailed Shuffles=0\n",
      "\t\tMerged Map outputs=8\n",
      "\t\tGC time elapsed (ms)=561\n",
      "\t\tCPU time spent (ms)=8560\n",
      "\t\tPhysical memory (bytes) snapshot=1684463616\n",
      "\t\tVirtual memory (bytes) snapshot=8227479552\n",
      "\t\tTotal committed heap usage (bytes)=1793064960\n",
      "\tShuffle Errors\n",
      "\t\tBAD_ID=0\n",
      "\t\tCONNECTION=0\n",
      "\t\tIO_ERROR=0\n",
      "\t\tWRONG_LENGTH=0\n",
      "\t\tWRONG_MAP=0\n",
      "\t\tWRONG_REDUCE=0\n",
      "\tFile Input Format Counters \n",
      "\t\tBytes Read=205547\n",
      "\tFile Output Format Counters \n",
      "\t\tBytes Written=272396\n",
      "19/09/19 00:26:12 INFO streaming.StreamJob: Output directory: /user/root/HW2/smooth-model\n",
      "Deleted /user/root/HW2/smoothed-model-temp\n",
      "mkdir: cannot create directory `NaiveBayes/Smoothed': File exists\n"
     ]
    }
   ],
   "source": [
    "# part b -  Smoothed model (FILL IN THE MISSING CODE BELOW)\n",
    "\n",
    "# clear the output directory\n",
    "!hdfs dfs -rm -r {HDFS_DIR}/smooth-model\n",
    "\n",
    "# hadoop command\n",
    "!hadoop jar {JAR_FILE} \\\n",
    "  -D stream.num.map.output.key.fields=2 \\\n",
    "  -D mapreduce.job.output.key.comparator.class=org.apache.hadoop.mapred.lib.KeyFieldBasedComparator \\\n",
    "  -D mapreduce.partition.keycomparator.options=\"-k2,2\" \\\n",
    "  -D mapreduce.partition.keypartitioner.options=\"-k1,1\" \\\n",
    "  -files NaiveBayes/train_mapper.py,NaiveBayes/train_reducer_smooth.py \\\n",
    "  -mapper train_mapper.py \\\n",
    "  -partitioner org.apache.hadoop.mapred.lib.KeyFieldBasedPartitioner \\\n",
    "  -reducer train_reducer_smooth.py \\\n",
    "  -input {HDFS_DIR}/enron_train.txt \\\n",
    "  -output {HDFS_DIR}/smoothed-model-temp \\\n",
    "  -numReduceTasks 4 \\\n",
    "  -cmdenv PATH={PATH}\n",
    "\n",
    "!hadoop jar {JAR_FILE} \\\n",
    "  -D stream.num.map.output.key.fields=2 \\\n",
    "  -D mapreduce.job.output.key.comparator.class=org.apache.hadoop.mapred.lib.KeyFieldBasedComparator \\\n",
    "  -D mapreduce.partition.keycomparator.options=\"-k2,2\" \\\n",
    "  -D mapreduce.partition.keypartitioner.options=\"-k1,1\" \\\n",
    "  -files NaiveBayes/postprocess_mapper.py,NaiveBayes/postprocess_reducer.py \\\n",
    "  -mapper postprocess_mapper.py \\\n",
    "  -partitioner org.apache.hadoop.mapred.lib.KeyFieldBasedPartitioner \\\n",
    "  -reducer postprocess_reducer.py \\\n",
    "  -input {HDFS_DIR}/smoothed-model-temp \\\n",
    "  -output {HDFS_DIR}/smooth-model \\\n",
    "  -numReduceTasks 2 \\\n",
    "  -cmdenv PATH={PATH}\n",
    "\n",
    "!hdfs dfs -rm -r {HDFS_DIR}/smoothed-model-temp\n",
    "\n",
    "# save the model locally\n",
    "!mkdir NaiveBayes/Smoothed\n",
    "!hdfs dfs -cat {HDFS_DIR}/smooth-model/part-000* > NaiveBayes/Smoothed/NBmodel.txt"
   ]
  },
  {
   "cell_type": "code",
   "execution_count": 85,
   "metadata": {},
   "outputs": [
    {
     "name": "stdout",
     "output_type": "stream",
     "text": [
      "assistance\t2.0,4.0,0.0001858045336306206,0.00027730020520215184\n"
     ]
    }
   ],
   "source": [
    "# part b - check your SMOOTHED model results (RUN THIS CELL AS IS)\n",
    "!grep assistance NaiveBayes/Smoothed/NBmodel.txt\n",
    "# EXPECTED OUTPUT: assistance\t2,4,0.000185804533631,0.000277300205202"
   ]
  },
  {
   "cell_type": "code",
   "execution_count": 86,
   "metadata": {},
   "outputs": [
    {
     "name": "stdout",
     "output_type": "stream",
     "text": [
      "money\t1.0,22.0,0.0001238696890870804,0.0012755809439298986\n"
     ]
    }
   ],
   "source": [
    "# part b - check your SMOOTHED model results (RUN THIS CELL AS IS)\n",
    "!grep money NaiveBayes/Smoothed/NBmodel.txt\n",
    "# EXPECTED OUTPUT: money\t1,22,0.000123869689087,0.00127558094393"
   ]
  },
  {
   "cell_type": "markdown",
   "metadata": {},
   "source": [
    "__Evaluation__"
   ]
  },
  {
   "cell_type": "code",
   "execution_count": 87,
   "metadata": {},
   "outputs": [],
   "source": [
    "# part c - write your code in NaiveBayes/evaluation_reducer.py then RUN THIS\n",
    "!chmod a+x NaiveBayes/evaluation_reducer.py"
   ]
  },
  {
   "cell_type": "code",
   "execution_count": 88,
   "metadata": {},
   "outputs": [
    {
     "name": "stdout",
     "output_type": "stream",
     "text": [
      "d5\t1\t-8.90668134500626\t-8.10769031284611\t1\n",
      "d6\t1\t-5.780743515794329\t-4.179502370564408\t1\n",
      "d7\t0\t-6.591673732011658\t-7.511706880737812\t0\n",
      "d8\t0\t-4.394449154674438\t-5.565796731681498\t0\n",
      "d5\t1\t-8.90668134500626\t-8.10769031284611\t True\n",
      "d6\t1\t-5.780743515794329\t-4.179502370564408\t True\n",
      "d7\t0\t-6.591673732011658\t-7.511706880737812\t True\n",
      "d8\t0\t-4.394449154674438\t-5.565796731681498\t True\n",
      "# Documents:\t4.0\n",
      "True Positives:\t2.0\n",
      "True Negatives:\t2.0\n",
      "False Positives:\t0.0\n",
      "False Negatives:\t0.0\n",
      "Accuracy:\t1.0\n",
      "Precision:\t1.0\n",
      "Recall:\t1.0\n",
      "F-score:\t1.0\n"
     ]
    }
   ],
   "source": [
    "# part c - unit test your evaluation job on the chinese model (RUN THIS CELL AS IS)\n",
    "!cat NaiveBayes/chineseTest.txt | NaiveBayes/classify_mapper.py \n",
    "!cat NaiveBayes/chineseTest.txt | NaiveBayes/classify_mapper.py | NaiveBayes/evaluation_reducer.py"
   ]
  },
  {
   "cell_type": "code",
   "execution_count": 89,
   "metadata": {},
   "outputs": [
    {
     "name": "stdout",
     "output_type": "stream",
     "text": [
      "Deleted /user/root/HW2/unsmoothed-enron_test-output\n",
      "packageJobJar: [] [/usr/lib/hadoop-mapreduce/hadoop-streaming-2.6.0-cdh5.15.1.jar] /tmp/streamjob8336377568194787283.jar tmpDir=null\n",
      "19/09/19 00:26:28 INFO client.RMProxy: Connecting to ResourceManager at /0.0.0.0:8032\n",
      "19/09/19 00:26:28 INFO client.RMProxy: Connecting to ResourceManager at /0.0.0.0:8032\n",
      "19/09/19 00:26:29 INFO mapred.FileInputFormat: Total input paths to process : 1\n",
      "19/09/19 00:26:29 INFO mapreduce.JobSubmitter: number of splits:2\n",
      "19/09/19 00:26:29 INFO mapreduce.JobSubmitter: Submitting tokens for job: job_1568841085575_0024\n",
      "19/09/19 00:26:29 INFO impl.YarnClientImpl: Submitted application application_1568841085575_0024\n",
      "19/09/19 00:26:29 INFO mapreduce.Job: The url to track the job: http://docker.w261:8088/proxy/application_1568841085575_0024/\n",
      "19/09/19 00:26:29 INFO mapreduce.Job: Running job: job_1568841085575_0024\n",
      "19/09/19 00:26:37 INFO mapreduce.Job: Job job_1568841085575_0024 running in uber mode : false\n",
      "19/09/19 00:26:37 INFO mapreduce.Job:  map 0% reduce 0%\n",
      "19/09/19 00:26:43 INFO mapreduce.Job:  map 50% reduce 0%\n",
      "19/09/19 00:26:44 INFO mapreduce.Job:  map 100% reduce 0%\n",
      "19/09/19 00:26:49 INFO mapreduce.Job:  map 100% reduce 100%\n",
      "19/09/19 00:26:49 INFO mapreduce.Job: Job job_1568841085575_0024 completed successfully\n",
      "19/09/19 00:26:49 INFO mapreduce.Job: Counters: 49\n",
      "\tFile System Counters\n",
      "\t\tFILE: Number of bytes read=818\n",
      "\t\tFILE: Number of bytes written=451314\n",
      "\t\tFILE: Number of read operations=0\n",
      "\t\tFILE: Number of large read operations=0\n",
      "\t\tFILE: Number of write operations=0\n",
      "\t\tHDFS: Number of bytes read=49909\n",
      "\t\tHDFS: Number of bytes written=1045\n",
      "\t\tHDFS: Number of read operations=9\n",
      "\t\tHDFS: Number of large read operations=0\n",
      "\t\tHDFS: Number of write operations=2\n",
      "\tJob Counters \n",
      "\t\tLaunched map tasks=2\n",
      "\t\tLaunched reduce tasks=1\n",
      "\t\tData-local map tasks=2\n",
      "\t\tTotal time spent by all maps in occupied slots (ms)=8665\n",
      "\t\tTotal time spent by all reduces in occupied slots (ms)=3353\n",
      "\t\tTotal time spent by all map tasks (ms)=8665\n",
      "\t\tTotal time spent by all reduce tasks (ms)=3353\n",
      "\t\tTotal vcore-milliseconds taken by all map tasks=8665\n",
      "\t\tTotal vcore-milliseconds taken by all reduce tasks=3353\n",
      "\t\tTotal megabyte-milliseconds taken by all map tasks=8872960\n",
      "\t\tTotal megabyte-milliseconds taken by all reduce tasks=3433472\n",
      "\tMap-Reduce Framework\n",
      "\t\tMap input records=20\n",
      "\t\tMap output records=20\n",
      "\t\tMap output bytes=772\n",
      "\t\tMap output materialized bytes=824\n",
      "\t\tInput split bytes=224\n",
      "\t\tCombine input records=0\n",
      "\t\tCombine output records=0\n",
      "\t\tReduce input groups=20\n",
      "\t\tReduce shuffle bytes=824\n",
      "\t\tReduce input records=20\n",
      "\t\tReduce output records=29\n",
      "\t\tSpilled Records=40\n",
      "\t\tShuffled Maps =2\n",
      "\t\tFailed Shuffles=0\n",
      "\t\tMerged Map outputs=2\n",
      "\t\tGC time elapsed (ms)=154\n",
      "\t\tCPU time spent (ms)=2930\n",
      "\t\tPhysical memory (bytes) snapshot=899964928\n",
      "\t\tVirtual memory (bytes) snapshot=4135559168\n",
      "\t\tTotal committed heap usage (bytes)=896532480\n",
      "\tShuffle Errors\n",
      "\t\tBAD_ID=0\n",
      "\t\tCONNECTION=0\n",
      "\t\tIO_ERROR=0\n",
      "\t\tWRONG_LENGTH=0\n",
      "\t\tWRONG_MAP=0\n",
      "\t\tWRONG_REDUCE=0\n",
      "\tFile Input Format Counters \n",
      "\t\tBytes Read=49685\n",
      "\tFile Output Format Counters \n",
      "\t\tBytes Written=1045\n",
      "19/09/19 00:26:49 INFO streaming.StreamJob: Output directory: /user/root/HW2/unsmoothed-enron_test-output\n"
     ]
    }
   ],
   "source": [
    "# part c - Evaluate the UNSMOOTHED Model Here (FILL IN THE MISSING CODE)\n",
    "\n",
    "# clear output directory\n",
    "!hdfs dfs -rm -r {HDFS_DIR}/unsmoothed-enron_test-output\n",
    "# hadoop job\n",
    "!hadoop jar {JAR_FILE} \\\n",
    "  -files NaiveBayes/classify_mapper.py,NaiveBayes/evaluation_reducer.py,NaiveBayes/Unsmoothed/NBmodel.txt \\\n",
    "  -mapper classify_mapper.py \\\n",
    "  -reducer evaluation_reducer.py \\\n",
    "  -input {HDFS_DIR}/enron_test.txt \\\n",
    "  -output {HDFS_DIR}/unsmoothed-enron_test-output \\\n",
    "  -cmdenv PATH={PATH}\n",
    "\n",
    "# retrieve results locally\n",
    "!hdfs dfs -cat {HDFS_DIR}/unsmoothed-enron_test-output/part-000* > NaiveBayes/Unsmoothed/results.txt"
   ]
  },
  {
   "cell_type": "code",
   "execution_count": 90,
   "metadata": {},
   "outputs": [
    {
     "name": "stdout",
     "output_type": "stream",
     "text": [
      "Deleted /user/root/HW2/smoothed-enron_test-output\n",
      "packageJobJar: [] [/usr/lib/hadoop-mapreduce/hadoop-streaming-2.6.0-cdh5.15.1.jar] /tmp/streamjob4150838098583291088.jar tmpDir=null\n",
      "19/09/19 00:26:58 INFO client.RMProxy: Connecting to ResourceManager at /0.0.0.0:8032\n",
      "19/09/19 00:26:58 INFO client.RMProxy: Connecting to ResourceManager at /0.0.0.0:8032\n",
      "19/09/19 00:26:59 INFO mapred.FileInputFormat: Total input paths to process : 1\n",
      "19/09/19 00:26:59 INFO mapreduce.JobSubmitter: number of splits:2\n",
      "19/09/19 00:26:59 INFO mapreduce.JobSubmitter: Submitting tokens for job: job_1568841085575_0025\n",
      "19/09/19 00:26:59 INFO impl.YarnClientImpl: Submitted application application_1568841085575_0025\n",
      "19/09/19 00:26:59 INFO mapreduce.Job: The url to track the job: http://docker.w261:8088/proxy/application_1568841085575_0025/\n",
      "19/09/19 00:26:59 INFO mapreduce.Job: Running job: job_1568841085575_0025\n",
      "19/09/19 00:27:05 INFO mapreduce.Job: Job job_1568841085575_0025 running in uber mode : false\n",
      "19/09/19 00:27:05 INFO mapreduce.Job:  map 0% reduce 0%\n",
      "19/09/19 00:27:12 INFO mapreduce.Job:  map 50% reduce 0%\n",
      "19/09/19 00:27:13 INFO mapreduce.Job:  map 100% reduce 0%\n",
      "19/09/19 00:27:18 INFO mapreduce.Job:  map 100% reduce 100%\n",
      "19/09/19 00:27:18 INFO mapreduce.Job: Job job_1568841085575_0025 completed successfully\n",
      "19/09/19 00:27:18 INFO mapreduce.Job: Counters: 49\n",
      "\tFile System Counters\n",
      "\t\tFILE: Number of bytes read=1349\n",
      "\t\tFILE: Number of bytes written=452364\n",
      "\t\tFILE: Number of read operations=0\n",
      "\t\tFILE: Number of large read operations=0\n",
      "\t\tFILE: Number of write operations=0\n",
      "\t\tHDFS: Number of bytes read=49909\n",
      "\t\tHDFS: Number of bytes written=1558\n",
      "\t\tHDFS: Number of read operations=9\n",
      "\t\tHDFS: Number of large read operations=0\n",
      "\t\tHDFS: Number of write operations=2\n",
      "\tJob Counters \n",
      "\t\tLaunched map tasks=2\n",
      "\t\tLaunched reduce tasks=1\n",
      "\t\tData-local map tasks=2\n",
      "\t\tTotal time spent by all maps in occupied slots (ms)=8774\n",
      "\t\tTotal time spent by all reduces in occupied slots (ms)=3301\n",
      "\t\tTotal time spent by all map tasks (ms)=8774\n",
      "\t\tTotal time spent by all reduce tasks (ms)=3301\n",
      "\t\tTotal vcore-milliseconds taken by all map tasks=8774\n",
      "\t\tTotal vcore-milliseconds taken by all reduce tasks=3301\n",
      "\t\tTotal megabyte-milliseconds taken by all map tasks=8984576\n",
      "\t\tTotal megabyte-milliseconds taken by all reduce tasks=3380224\n",
      "\tMap-Reduce Framework\n",
      "\t\tMap input records=20\n",
      "\t\tMap output records=20\n",
      "\t\tMap output bytes=1303\n",
      "\t\tMap output materialized bytes=1355\n",
      "\t\tInput split bytes=224\n",
      "\t\tCombine input records=0\n",
      "\t\tCombine output records=0\n",
      "\t\tReduce input groups=20\n",
      "\t\tReduce shuffle bytes=1355\n",
      "\t\tReduce input records=20\n",
      "\t\tReduce output records=29\n",
      "\t\tSpilled Records=40\n",
      "\t\tShuffled Maps =2\n",
      "\t\tFailed Shuffles=0\n",
      "\t\tMerged Map outputs=2\n",
      "\t\tGC time elapsed (ms)=124\n",
      "\t\tCPU time spent (ms)=2660\n",
      "\t\tPhysical memory (bytes) snapshot=835616768\n",
      "\t\tVirtual memory (bytes) snapshot=4131000320\n",
      "\t\tTotal committed heap usage (bytes)=834142208\n",
      "\tShuffle Errors\n",
      "\t\tBAD_ID=0\n",
      "\t\tCONNECTION=0\n",
      "\t\tIO_ERROR=0\n",
      "\t\tWRONG_LENGTH=0\n",
      "\t\tWRONG_MAP=0\n",
      "\t\tWRONG_REDUCE=0\n",
      "\tFile Input Format Counters \n",
      "\t\tBytes Read=49685\n",
      "\tFile Output Format Counters \n",
      "\t\tBytes Written=1558\n",
      "19/09/19 00:27:18 INFO streaming.StreamJob: Output directory: /user/root/HW2/smoothed-enron_test-output\n"
     ]
    }
   ],
   "source": [
    "# part c - Evaluate the SMOOTHED Model Here (FILL IN THE MISSING CODE)\n",
    "\n",
    "# clear output directory\n",
    "!hdfs dfs -rm -r {HDFS_DIR}/smoothed-enron_test-output\n",
    "# hadoop job\n",
    "!hadoop jar {JAR_FILE} \\\n",
    "  -files NaiveBayes/classify_mapper.py,NaiveBayes/evaluation_reducer.py,NaiveBayes/Smoothed/NBmodel.txt \\\n",
    "  -mapper classify_mapper.py \\\n",
    "  -reducer evaluation_reducer.py \\\n",
    "  -input {HDFS_DIR}/enron_test.txt \\\n",
    "  -output {HDFS_DIR}/smoothed-enron_test-output \\\n",
    "  -cmdenv PATH={PATH}\n",
    "\n",
    "# retrieve results locally\n",
    "!hdfs dfs -cat {HDFS_DIR}/smoothed-enron_test-output/part-000* > NaiveBayes/Smoothed/results.txt"
   ]
  },
  {
   "cell_type": "code",
   "execution_count": 91,
   "metadata": {},
   "outputs": [
    {
     "name": "stdout",
     "output_type": "stream",
     "text": [
      "=========== UNSMOOTHED MODEL ============\n",
      "#           Documents:          20.0\n",
      "True        Positives:          11.0\n",
      "True        Negatives:          2.0\n",
      "False       Positives:          7.0\n",
      "False       Negatives:          0.0\n",
      "Accuracy:   0.65\n",
      "Precision:  0.6111111111111112\n",
      "Recall:     1.0\n",
      "F-score:    0.7586206896551725\n",
      "=========== SMOOTHED MODEL ============\n",
      "#           Documents:          20.0\n",
      "True        Positives:          11.0\n",
      "True        Negatives:          6.0\n",
      "False       Positives:          3.0\n",
      "False       Negatives:          0.0\n",
      "Accuracy:   0.85\n",
      "Precision:  0.7857142857142857\n",
      "Recall:     1.0\n",
      "F-score:    0.88\n"
     ]
    }
   ],
   "source": [
    "# part c - display results \n",
    "# NOTE: feel free to modify the tail commands to match the format of your results file\n",
    "print('=========== UNSMOOTHED MODEL ============')\n",
    "!tail -n 9 NaiveBayes/Unsmoothed/results.txt | column -t\n",
    "print('=========== SMOOTHED MODEL ============')\n",
    "!tail -n 9 NaiveBayes/Smoothed/results.txt | column -t"
   ]
  },
  {
   "cell_type": "markdown",
   "metadata": {},
   "source": [
    "__`EXPECTED RESULTS:`__ \n",
    "<table>\n",
    "<th>Unsmoothed Model</th>\n",
    "<th>Smoothed Model</th>\n",
    "<tr>\n",
    "<td><pre>\n",
    "# Documents:\t20\n",
    "True Positives:\t1\n",
    "True Negatives:\t9\n",
    "False Positives:\t0\n",
    "False Negatives:\t10\n",
    "Accuracy\t0.5\n",
    "Precision\t1.0\n",
    "Recall\t0.0909\n",
    "F-Score\t0.1666\n",
    "</pre></td>\n",
    "<td><pre>\n",
    "# Documents:\t20\n",
    "True Positives:\t11\n",
    "True Negatives:\t6\n",
    "False Positives:\t3\n",
    "False Negatives:\t0\n",
    "Accuracy\t0.85\n",
    "Precision\t0.7857\n",
    "Recall\t1.0\n",
    "F-Score\t0.88\n",
    "</pre></td>\n",
    "</tr>\n",
    "</table>\n",
    "\n",
    "__`NOTE:`__ _Don't be too disappointed if these seem low to you. We've trained and tested on a very very small corpus... bigger datasets coming soon!_\n",
    "\n",
    "__`part e starts here:`__"
   ]
  },
  {
   "cell_type": "code",
   "execution_count": 78,
   "metadata": {},
   "outputs": [
    {
     "name": "stdout",
     "output_type": "stream",
     "text": [
      "Deleted /user/root/HW2/term-importance-rank\n",
      "packageJobJar: [] [/usr/lib/hadoop-mapreduce/hadoop-streaming-2.6.0-cdh5.15.1.jar] /tmp/streamjob807870306961255242.jar tmpDir=null\n",
      "19/09/19 00:01:56 INFO client.RMProxy: Connecting to ResourceManager at /0.0.0.0:8032\n",
      "19/09/19 00:01:56 INFO client.RMProxy: Connecting to ResourceManager at /0.0.0.0:8032\n",
      "19/09/19 00:01:57 INFO mapred.FileInputFormat: Total input paths to process : 2\n",
      "19/09/19 00:01:57 INFO mapreduce.JobSubmitter: number of splits:3\n",
      "19/09/19 00:01:57 INFO mapreduce.JobSubmitter: Submitting tokens for job: job_1568841085575_0021\n",
      "19/09/19 00:01:57 INFO impl.YarnClientImpl: Submitted application application_1568841085575_0021\n",
      "19/09/19 00:01:57 INFO mapreduce.Job: The url to track the job: http://docker.w261:8088/proxy/application_1568841085575_0021/\n",
      "19/09/19 00:01:57 INFO mapreduce.Job: Running job: job_1568841085575_0021\n",
      "19/09/19 00:02:04 INFO mapreduce.Job: Job job_1568841085575_0021 running in uber mode : false\n",
      "19/09/19 00:02:04 INFO mapreduce.Job:  map 0% reduce 0%\n",
      "19/09/19 00:02:11 INFO mapreduce.Job:  map 33% reduce 0%\n",
      "19/09/19 00:02:12 INFO mapreduce.Job:  map 67% reduce 0%\n",
      "19/09/19 00:02:13 INFO mapreduce.Job:  map 100% reduce 0%\n",
      "19/09/19 00:02:18 INFO mapreduce.Job:  map 100% reduce 50%\n",
      "19/09/19 00:02:19 INFO mapreduce.Job:  map 100% reduce 100%\n",
      "19/09/19 00:02:19 INFO mapreduce.Job: Job job_1568841085575_0021 completed successfully\n",
      "19/09/19 00:02:19 INFO mapreduce.Job: Counters: 50\n",
      "\tFile System Counters\n",
      "\t\tFILE: Number of bytes read=409284\n",
      "\t\tFILE: Number of bytes written=1569154\n",
      "\t\tFILE: Number of read operations=0\n",
      "\t\tFILE: Number of large read operations=0\n",
      "\t\tFILE: Number of write operations=0\n",
      "\t\tHDFS: Number of bytes read=276855\n",
      "\t\tHDFS: Number of bytes written=400160\n",
      "\t\tHDFS: Number of read operations=15\n",
      "\t\tHDFS: Number of large read operations=0\n",
      "\t\tHDFS: Number of write operations=4\n",
      "\tJob Counters \n",
      "\t\tLaunched map tasks=3\n",
      "\t\tLaunched reduce tasks=2\n",
      "\t\tOther local map tasks=1\n",
      "\t\tData-local map tasks=2\n",
      "\t\tTotal time spent by all maps in occupied slots (ms)=16644\n",
      "\t\tTotal time spent by all reduces in occupied slots (ms)=8756\n",
      "\t\tTotal time spent by all map tasks (ms)=16644\n",
      "\t\tTotal time spent by all reduce tasks (ms)=8756\n",
      "\t\tTotal vcore-milliseconds taken by all map tasks=16644\n",
      "\t\tTotal vcore-milliseconds taken by all reduce tasks=8756\n",
      "\t\tTotal megabyte-milliseconds taken by all map tasks=17043456\n",
      "\t\tTotal megabyte-milliseconds taken by all reduce tasks=8966144\n",
      "\tMap-Reduce Framework\n",
      "\t\tMap input records=4556\n",
      "\t\tMap output records=4556\n",
      "\t\tMap output bytes=400160\n",
      "\t\tMap output materialized bytes=409308\n",
      "\t\tInput split bytes=363\n",
      "\t\tCombine input records=0\n",
      "\t\tCombine output records=0\n",
      "\t\tReduce input groups=4556\n",
      "\t\tReduce shuffle bytes=409308\n",
      "\t\tReduce input records=4556\n",
      "\t\tReduce output records=4556\n",
      "\t\tSpilled Records=9112\n",
      "\t\tShuffled Maps =6\n",
      "\t\tFailed Shuffles=0\n",
      "\t\tMerged Map outputs=6\n",
      "\t\tGC time elapsed (ms)=332\n",
      "\t\tCPU time spent (ms)=6830\n",
      "\t\tPhysical memory (bytes) snapshot=1447731200\n",
      "\t\tVirtual memory (bytes) snapshot=6887624704\n",
      "\t\tTotal committed heap usage (bytes)=1494220800\n",
      "\tShuffle Errors\n",
      "\t\tBAD_ID=0\n",
      "\t\tCONNECTION=0\n",
      "\t\tIO_ERROR=0\n",
      "\t\tWRONG_LENGTH=0\n",
      "\t\tWRONG_MAP=0\n",
      "\t\tWRONG_REDUCE=0\n",
      "\tFile Input Format Counters \n",
      "\t\tBytes Read=276492\n",
      "\tFile Output Format Counters \n",
      "\t\tBytes Written=400160\n",
      "19/09/19 00:02:19 INFO streaming.StreamJob: Output directory: /user/root/HW2/term-importance-rank\n"
     ]
    }
   ],
   "source": [
    "# part e - write your Hadoop job here (sort smoothed model on P(word|class))\n",
    "\n",
    "# clear output directory\n",
    "!hdfs dfs -rm -r {HDFS_DIR}/term-importance-rank\n",
    "# hadoop job\n",
    "!hadoop jar {JAR_FILE} \\\n",
    "  -D stream.num.map.output.key.fields=4 \\\n",
    "  -D mapreduce.job.output.key.comparator.class=org.apache.hadoop.mapred.lib.KeyFieldBasedComparator \\\n",
    "  -D mapreduce.partition.keypartitioner.options=\"-k3,3\" \\\n",
    "  -D mapreduce.partition.keycomparator.options=\"-k4,4nr\" \\\n",
    "  -files NaiveBayes/model_sort_mapper.py \\\n",
    "  -mapper model_sort_mapper.py \\\n",
    "  -partitioner org.apache.hadoop.mapred.lib.KeyFieldBasedPartitioner \\\n",
    "  -reducer /bin/cat \\\n",
    "  -input {HDFS_DIR}/smooth-model \\\n",
    "  -output {HDFS_DIR}/term-importance-rank \\\n",
    "  -numReduceTasks 2 \\\n",
    "  -cmdenv PATH={PATH}"
   ]
  },
  {
   "cell_type": "code",
   "execution_count": 79,
   "metadata": {},
   "outputs": [
    {
     "name": "stdout",
     "output_type": "stream",
     "text": [
      "\n",
      "===== part-00000=====\n",
      "\n",
      "ClassPriors  47.0,33.0,0.5875,0.4125                                ham  0.5875\n",
      "ect          378.0,0.0,0.023473306082001735,5.546004104043037e-05   ham  0.023473306082001735\n",
      "and          258.0,277.0,0.01604112473677691,0.015417891409239643   ham  0.01604112473677691\n",
      "hou          203.0,0.0,0.0126347082868822,5.546004104043037e-05     ham  0.0126347082868822\n",
      "in           160.0,157.0,0.009971509971509971,0.008762686484387999  ham  0.009971509971509971\n",
      "for          148.0,153.0,0.00922829183698749,0.008540846320226277   ham  0.00922829183698749\n",
      "on           122.0,95.0,0.007617985878855444,0.005324163939881316   ham  0.007617985878855444\n",
      "enron        116.0,0.0,0.007246376811594203,5.546004104043037e-05   ham  0.007246376811594203\n",
      "i            113.0,106.0,0.007060572277963582,0.00593422439132605   ham  0.007060572277963582\n",
      "will         113.0,69.0,0.007060572277963582,0.003882202872830126   ham  0.007060572277963582\n",
      "cat: Unable to write to output stream.\n",
      "\n",
      "===== part-00001=====\n",
      "\n",
      "the   453.0,535.0,0.02811841942276725,0.029726581997670677    spam  0.029726581997670677\n",
      "to    350.0,420.0,0.021739130434782608,0.023348677278021184   spam  0.023348677278021184\n",
      "a     168.0,274.0,0.010466988727858293,0.015251511286118352   spam  0.015251511286118352\n",
      "your  35.0,271.0,0.002229654403567447,0.01508513116299706     spam  0.01508513116299706\n",
      "of    188.0,252.0,0.011705685618729096,0.014031390383228884   spam  0.014031390383228884\n",
      "you   80.0,252.0,0.005016722408026756,0.014031390383228884    spam  0.014031390383228884\n",
      "it    30.0,119.0,0.0019199801808497462,0.0066552049248516446  spam  0.0066552049248516446\n",
      "com   74.0,108.0,0.004645113340765515,0.006045144473406911    spam  0.006045144473406911\n",
      "that  71.0,100.0,0.004459308807134894,0.005601464145083467    spam  0.005601464145083467\n",
      "or    41.0,88.0,0.002601263470828688,0.004935943652598303     spam  0.004935943652598303\n",
      "cat: Unable to write to output stream.\n"
     ]
    }
   ],
   "source": [
    "# part e - print top words in each class\n",
    "for idx in range(2):\n",
    "    print(f\"\\n===== part-0000{idx}=====\\n\")\n",
    "    !hdfs dfs -cat {HDFS_DIR}/term-importance-rank/part-0000{idx} | head -10 | column -t"
   ]
  },
  {
   "cell_type": "markdown",
   "metadata": {},
   "source": [
    "### Congratulations, you have completed HW2! Please refer to the readme for submission instructions.\n",
    "\n",
    "If you would like to provide feedback regarding this homework, please use the survey at: https://docs.google.com/forms/d/1S3P9be24hLspAAPuXINUgMae1v-pUZrmDRmTQ2cwPo0/edit"
   ]
  },
  {
   "cell_type": "code",
   "execution_count": null,
   "metadata": {},
   "outputs": [],
   "source": []
  }
 ],
 "metadata": {
  "kernelspec": {
   "display_name": "Python 3",
   "language": "python",
   "name": "python3"
  },
  "language_info": {
   "codemirror_mode": {
    "name": "ipython",
    "version": 3
   },
   "file_extension": ".py",
   "mimetype": "text/x-python",
   "name": "python",
   "nbconvert_exporter": "python",
   "pygments_lexer": "ipython3",
   "version": "3.6.6"
  }
 },
 "nbformat": 4,
 "nbformat_minor": 2
}
